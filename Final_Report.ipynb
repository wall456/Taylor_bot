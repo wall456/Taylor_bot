{
  "nbformat": 4,
  "nbformat_minor": 0,
  "metadata": {
    "colab": {
      "name": "Final_Report.ipynb",
      "provenance": [],
      "authorship_tag": "ABX9TyPdOCOIpioKUqid+WD+MLSB",
      "include_colab_link": true
    },
    "kernelspec": {
      "name": "python3",
      "display_name": "Python 3"
    },
    "language_info": {
      "name": "python"
    }
  },
  "cells": [
    {
      "cell_type": "markdown",
      "metadata": {
        "id": "view-in-github",
        "colab_type": "text"
      },
      "source": [
        "<a href=\"https://colab.research.google.com/github/wall456/Taylor_bot/blob/main/Final_Report.ipynb\" target=\"_parent\"><img src=\"https://colab.research.google.com/assets/colab-badge.svg\" alt=\"Open In Colab\"/></a>"
      ]
    },
    {
      "cell_type": "markdown",
      "metadata": {
        "id": "5gzStryotn8V"
      },
      "source": [
        "# **Taylor Swift Bot**\n",
        "Kimberly Wall\n",
        "\n",
        "May 2021\n",
        "\n",
        "Tarleton State University\n",
        "\n",
        "kimberly.wall@go.tarleton.edu\n",
        "\n",
        "\n",
        "\n",
        "\n",
        "# **Background**\n",
        "\n",
        "Taylor Swift is one of the most prolific songwriters of our time. She is rare in the music industry because she writes all of her own songs. Throughout her career, she has contributed to three distinct genres of music. Starting off as a country artist in her teenage years, she crossed over to pop after her first three albums, and has recently began making more folksy music that is best classified as alternative. \n",
        "\n",
        "The goal was to train three separate text generators to emulate Swift's signature writing style, within each genre of music: alternative, country, and pop. Using a pretrained distilBERT NLP model from Hugging Face, I then tweaked the model to capture the Swift writing style by training it on her entire song lyric library. The dataset is publicly available on Kaggle, and it contains 11972 rows, line-by-line lyrics for all 260 songs she has ever written, as well as metadata like album, release date, and title. \n",
        "\n",
        "# **Preprocessing**\n",
        "Since the purpose of the project was to capture each genre's specific tone, I added a column that labeled each song's genre. It was also split into two sheets to keep all metadata separate from pure text-only lyrics. It was also necessary to remove unnecessary symbols in the data, like [chorus], [verse], etc. \n",
        "\n",
        "\n",
        "\n",
        "\n",
        "# **Text Classification**\n",
        "First I trained the text classifier using the sentiment analysis task on the distilBERT pretrained model. The three most important hyperparameters were max sequence length, batch size, and number of epochs used. Optimizing each one separately, the best model achieved 97% accuracy with hypers set to 64, 16, and 15, respectively. \n"
      ]
    },
    {
      "cell_type": "markdown",
      "metadata": {
        "id": "dpwoDGus6vl8"
      },
      "source": [
        "# **Text Generation**\n",
        "All three generators were tweaked on top of a pretrained Hugging Face NLP distilgpt2 model. After labeling each songs genre, there were 33 alternative songs, 64 country, and 75 pop. In addition, the dataset contained 89 unreleased songs that have no genre because they have never been heard before. Each was trained over 400 epochs, using 600 warmup steps and batch size 64. Text generation models require a prompt to get started, so I fed the first 5-10 words from each of these 89 unreleased songs into each of the three generators. Then, applied the classification model to see how well the generators are doing. With such small sets of data, the generators are far from perfect, but that was to be expected. The classifier that was 97% accurate on actual Taylor Swift songs, only correctly classified 33% of the generated faux-Swift songs. "
      ]
    }
  ]
}