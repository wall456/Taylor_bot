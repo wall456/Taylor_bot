{
  "nbformat": 4,
  "nbformat_minor": 0,
  "metadata": {
    "colab": {
      "name": "Taylor_Swift.ipynb",
      "provenance": [],
      "authorship_tag": "ABX9TyMhms6bR5UYPvghcMfVa6gS",
      "include_colab_link": true
    },
    "kernelspec": {
      "name": "python3",
      "display_name": "Python 3"
    },
    "language_info": {
      "name": "python"
    },
    "widgets": {
      "application/vnd.jupyter.widget-state+json": {
        "e48bd6574d2540c5acb1fdb72ea8a5be": {
          "model_module": "@jupyter-widgets/controls",
          "model_name": "HBoxModel",
          "state": {
            "_view_name": "HBoxView",
            "_dom_classes": [],
            "_model_name": "HBoxModel",
            "_view_module": "@jupyter-widgets/controls",
            "_model_module_version": "1.5.0",
            "_view_count": null,
            "_view_module_version": "1.5.0",
            "box_style": "",
            "layout": "IPY_MODEL_10f726b36fa548a1bb478b9a2236a4ad",
            "_model_module": "@jupyter-widgets/controls",
            "children": [
              "IPY_MODEL_f8bfe57e9a87459e94b76699ae2709af",
              "IPY_MODEL_e177cc8a2a354285a58e5cdd8f37ff3e"
            ]
          }
        },
        "10f726b36fa548a1bb478b9a2236a4ad": {
          "model_module": "@jupyter-widgets/base",
          "model_name": "LayoutModel",
          "state": {
            "_view_name": "LayoutView",
            "grid_template_rows": null,
            "right": null,
            "justify_content": null,
            "_view_module": "@jupyter-widgets/base",
            "overflow": null,
            "_model_module_version": "1.2.0",
            "_view_count": null,
            "flex_flow": null,
            "width": null,
            "min_width": null,
            "border": null,
            "align_items": null,
            "bottom": null,
            "_model_module": "@jupyter-widgets/base",
            "top": null,
            "grid_column": null,
            "overflow_y": null,
            "overflow_x": null,
            "grid_auto_flow": null,
            "grid_area": null,
            "grid_template_columns": null,
            "flex": null,
            "_model_name": "LayoutModel",
            "justify_items": null,
            "grid_row": null,
            "max_height": null,
            "align_content": null,
            "visibility": null,
            "align_self": null,
            "height": null,
            "min_height": null,
            "padding": null,
            "grid_auto_rows": null,
            "grid_gap": null,
            "max_width": null,
            "order": null,
            "_view_module_version": "1.2.0",
            "grid_template_areas": null,
            "object_position": null,
            "object_fit": null,
            "grid_auto_columns": null,
            "margin": null,
            "display": null,
            "left": null
          }
        },
        "f8bfe57e9a87459e94b76699ae2709af": {
          "model_module": "@jupyter-widgets/controls",
          "model_name": "FloatProgressModel",
          "state": {
            "_view_name": "ProgressView",
            "style": "IPY_MODEL_b6cbd0777dc1497aa6729415b6591284",
            "_dom_classes": [],
            "description": "Downloading: 100%",
            "_model_name": "FloatProgressModel",
            "bar_style": "success",
            "max": 442,
            "_view_module": "@jupyter-widgets/controls",
            "_model_module_version": "1.5.0",
            "value": 442,
            "_view_count": null,
            "_view_module_version": "1.5.0",
            "orientation": "horizontal",
            "min": 0,
            "description_tooltip": null,
            "_model_module": "@jupyter-widgets/controls",
            "layout": "IPY_MODEL_badc7a8b22c245e8a139ef1d54d1e66a"
          }
        },
        "e177cc8a2a354285a58e5cdd8f37ff3e": {
          "model_module": "@jupyter-widgets/controls",
          "model_name": "HTMLModel",
          "state": {
            "_view_name": "HTMLView",
            "style": "IPY_MODEL_8aa463a10d5a4ccc8df6c5264e0733e0",
            "_dom_classes": [],
            "description": "",
            "_model_name": "HTMLModel",
            "placeholder": "​",
            "_view_module": "@jupyter-widgets/controls",
            "_model_module_version": "1.5.0",
            "value": " 442/442 [00:20&lt;00:00, 22.0B/s]",
            "_view_count": null,
            "_view_module_version": "1.5.0",
            "description_tooltip": null,
            "_model_module": "@jupyter-widgets/controls",
            "layout": "IPY_MODEL_0885126f0910411abc0ada74f58f5bca"
          }
        },
        "b6cbd0777dc1497aa6729415b6591284": {
          "model_module": "@jupyter-widgets/controls",
          "model_name": "ProgressStyleModel",
          "state": {
            "_view_name": "StyleView",
            "_model_name": "ProgressStyleModel",
            "description_width": "initial",
            "_view_module": "@jupyter-widgets/base",
            "_model_module_version": "1.5.0",
            "_view_count": null,
            "_view_module_version": "1.2.0",
            "bar_color": null,
            "_model_module": "@jupyter-widgets/controls"
          }
        },
        "badc7a8b22c245e8a139ef1d54d1e66a": {
          "model_module": "@jupyter-widgets/base",
          "model_name": "LayoutModel",
          "state": {
            "_view_name": "LayoutView",
            "grid_template_rows": null,
            "right": null,
            "justify_content": null,
            "_view_module": "@jupyter-widgets/base",
            "overflow": null,
            "_model_module_version": "1.2.0",
            "_view_count": null,
            "flex_flow": null,
            "width": null,
            "min_width": null,
            "border": null,
            "align_items": null,
            "bottom": null,
            "_model_module": "@jupyter-widgets/base",
            "top": null,
            "grid_column": null,
            "overflow_y": null,
            "overflow_x": null,
            "grid_auto_flow": null,
            "grid_area": null,
            "grid_template_columns": null,
            "flex": null,
            "_model_name": "LayoutModel",
            "justify_items": null,
            "grid_row": null,
            "max_height": null,
            "align_content": null,
            "visibility": null,
            "align_self": null,
            "height": null,
            "min_height": null,
            "padding": null,
            "grid_auto_rows": null,
            "grid_gap": null,
            "max_width": null,
            "order": null,
            "_view_module_version": "1.2.0",
            "grid_template_areas": null,
            "object_position": null,
            "object_fit": null,
            "grid_auto_columns": null,
            "margin": null,
            "display": null,
            "left": null
          }
        },
        "8aa463a10d5a4ccc8df6c5264e0733e0": {
          "model_module": "@jupyter-widgets/controls",
          "model_name": "DescriptionStyleModel",
          "state": {
            "_view_name": "StyleView",
            "_model_name": "DescriptionStyleModel",
            "description_width": "",
            "_view_module": "@jupyter-widgets/base",
            "_model_module_version": "1.5.0",
            "_view_count": null,
            "_view_module_version": "1.2.0",
            "_model_module": "@jupyter-widgets/controls"
          }
        },
        "0885126f0910411abc0ada74f58f5bca": {
          "model_module": "@jupyter-widgets/base",
          "model_name": "LayoutModel",
          "state": {
            "_view_name": "LayoutView",
            "grid_template_rows": null,
            "right": null,
            "justify_content": null,
            "_view_module": "@jupyter-widgets/base",
            "overflow": null,
            "_model_module_version": "1.2.0",
            "_view_count": null,
            "flex_flow": null,
            "width": null,
            "min_width": null,
            "border": null,
            "align_items": null,
            "bottom": null,
            "_model_module": "@jupyter-widgets/base",
            "top": null,
            "grid_column": null,
            "overflow_y": null,
            "overflow_x": null,
            "grid_auto_flow": null,
            "grid_area": null,
            "grid_template_columns": null,
            "flex": null,
            "_model_name": "LayoutModel",
            "justify_items": null,
            "grid_row": null,
            "max_height": null,
            "align_content": null,
            "visibility": null,
            "align_self": null,
            "height": null,
            "min_height": null,
            "padding": null,
            "grid_auto_rows": null,
            "grid_gap": null,
            "max_width": null,
            "order": null,
            "_view_module_version": "1.2.0",
            "grid_template_areas": null,
            "object_position": null,
            "object_fit": null,
            "grid_auto_columns": null,
            "margin": null,
            "display": null,
            "left": null
          }
        },
        "cbb6155e16a2447dafe296dfe9b24e9d": {
          "model_module": "@jupyter-widgets/controls",
          "model_name": "HBoxModel",
          "state": {
            "_view_name": "HBoxView",
            "_dom_classes": [],
            "_model_name": "HBoxModel",
            "_view_module": "@jupyter-widgets/controls",
            "_model_module_version": "1.5.0",
            "_view_count": null,
            "_view_module_version": "1.5.0",
            "box_style": "",
            "layout": "IPY_MODEL_d760eac6c6d54881af246f5ba01d4e0f",
            "_model_module": "@jupyter-widgets/controls",
            "children": [
              "IPY_MODEL_9e1710ee382c41dc8942f69b92a766b0",
              "IPY_MODEL_b76f99043cdb4b478a51295b9a82db0e"
            ]
          }
        },
        "d760eac6c6d54881af246f5ba01d4e0f": {
          "model_module": "@jupyter-widgets/base",
          "model_name": "LayoutModel",
          "state": {
            "_view_name": "LayoutView",
            "grid_template_rows": null,
            "right": null,
            "justify_content": null,
            "_view_module": "@jupyter-widgets/base",
            "overflow": null,
            "_model_module_version": "1.2.0",
            "_view_count": null,
            "flex_flow": null,
            "width": null,
            "min_width": null,
            "border": null,
            "align_items": null,
            "bottom": null,
            "_model_module": "@jupyter-widgets/base",
            "top": null,
            "grid_column": null,
            "overflow_y": null,
            "overflow_x": null,
            "grid_auto_flow": null,
            "grid_area": null,
            "grid_template_columns": null,
            "flex": null,
            "_model_name": "LayoutModel",
            "justify_items": null,
            "grid_row": null,
            "max_height": null,
            "align_content": null,
            "visibility": null,
            "align_self": null,
            "height": null,
            "min_height": null,
            "padding": null,
            "grid_auto_rows": null,
            "grid_gap": null,
            "max_width": null,
            "order": null,
            "_view_module_version": "1.2.0",
            "grid_template_areas": null,
            "object_position": null,
            "object_fit": null,
            "grid_auto_columns": null,
            "margin": null,
            "display": null,
            "left": null
          }
        },
        "9e1710ee382c41dc8942f69b92a766b0": {
          "model_module": "@jupyter-widgets/controls",
          "model_name": "FloatProgressModel",
          "state": {
            "_view_name": "ProgressView",
            "style": "IPY_MODEL_72d153a4b6494a7586a971f2b8cc56ac",
            "_dom_classes": [],
            "description": "Downloading: 100%",
            "_model_name": "FloatProgressModel",
            "bar_style": "success",
            "max": 231508,
            "_view_module": "@jupyter-widgets/controls",
            "_model_module_version": "1.5.0",
            "value": 231508,
            "_view_count": null,
            "_view_module_version": "1.5.0",
            "orientation": "horizontal",
            "min": 0,
            "description_tooltip": null,
            "_model_module": "@jupyter-widgets/controls",
            "layout": "IPY_MODEL_503dea9cfca34b52bcd1bf44cd4f9e1a"
          }
        },
        "b76f99043cdb4b478a51295b9a82db0e": {
          "model_module": "@jupyter-widgets/controls",
          "model_name": "HTMLModel",
          "state": {
            "_view_name": "HTMLView",
            "style": "IPY_MODEL_c75e6ffb09284daf99c0335d7bc3f8d9",
            "_dom_classes": [],
            "description": "",
            "_model_name": "HTMLModel",
            "placeholder": "​",
            "_view_module": "@jupyter-widgets/controls",
            "_model_module_version": "1.5.0",
            "value": " 232k/232k [00:00&lt;00:00, 754kB/s]",
            "_view_count": null,
            "_view_module_version": "1.5.0",
            "description_tooltip": null,
            "_model_module": "@jupyter-widgets/controls",
            "layout": "IPY_MODEL_87d3675c95c04eed9bf6fd132612281e"
          }
        },
        "72d153a4b6494a7586a971f2b8cc56ac": {
          "model_module": "@jupyter-widgets/controls",
          "model_name": "ProgressStyleModel",
          "state": {
            "_view_name": "StyleView",
            "_model_name": "ProgressStyleModel",
            "description_width": "initial",
            "_view_module": "@jupyter-widgets/base",
            "_model_module_version": "1.5.0",
            "_view_count": null,
            "_view_module_version": "1.2.0",
            "bar_color": null,
            "_model_module": "@jupyter-widgets/controls"
          }
        },
        "503dea9cfca34b52bcd1bf44cd4f9e1a": {
          "model_module": "@jupyter-widgets/base",
          "model_name": "LayoutModel",
          "state": {
            "_view_name": "LayoutView",
            "grid_template_rows": null,
            "right": null,
            "justify_content": null,
            "_view_module": "@jupyter-widgets/base",
            "overflow": null,
            "_model_module_version": "1.2.0",
            "_view_count": null,
            "flex_flow": null,
            "width": null,
            "min_width": null,
            "border": null,
            "align_items": null,
            "bottom": null,
            "_model_module": "@jupyter-widgets/base",
            "top": null,
            "grid_column": null,
            "overflow_y": null,
            "overflow_x": null,
            "grid_auto_flow": null,
            "grid_area": null,
            "grid_template_columns": null,
            "flex": null,
            "_model_name": "LayoutModel",
            "justify_items": null,
            "grid_row": null,
            "max_height": null,
            "align_content": null,
            "visibility": null,
            "align_self": null,
            "height": null,
            "min_height": null,
            "padding": null,
            "grid_auto_rows": null,
            "grid_gap": null,
            "max_width": null,
            "order": null,
            "_view_module_version": "1.2.0",
            "grid_template_areas": null,
            "object_position": null,
            "object_fit": null,
            "grid_auto_columns": null,
            "margin": null,
            "display": null,
            "left": null
          }
        },
        "c75e6ffb09284daf99c0335d7bc3f8d9": {
          "model_module": "@jupyter-widgets/controls",
          "model_name": "DescriptionStyleModel",
          "state": {
            "_view_name": "StyleView",
            "_model_name": "DescriptionStyleModel",
            "description_width": "",
            "_view_module": "@jupyter-widgets/base",
            "_model_module_version": "1.5.0",
            "_view_count": null,
            "_view_module_version": "1.2.0",
            "_model_module": "@jupyter-widgets/controls"
          }
        },
        "87d3675c95c04eed9bf6fd132612281e": {
          "model_module": "@jupyter-widgets/base",
          "model_name": "LayoutModel",
          "state": {
            "_view_name": "LayoutView",
            "grid_template_rows": null,
            "right": null,
            "justify_content": null,
            "_view_module": "@jupyter-widgets/base",
            "overflow": null,
            "_model_module_version": "1.2.0",
            "_view_count": null,
            "flex_flow": null,
            "width": null,
            "min_width": null,
            "border": null,
            "align_items": null,
            "bottom": null,
            "_model_module": "@jupyter-widgets/base",
            "top": null,
            "grid_column": null,
            "overflow_y": null,
            "overflow_x": null,
            "grid_auto_flow": null,
            "grid_area": null,
            "grid_template_columns": null,
            "flex": null,
            "_model_name": "LayoutModel",
            "justify_items": null,
            "grid_row": null,
            "max_height": null,
            "align_content": null,
            "visibility": null,
            "align_self": null,
            "height": null,
            "min_height": null,
            "padding": null,
            "grid_auto_rows": null,
            "grid_gap": null,
            "max_width": null,
            "order": null,
            "_view_module_version": "1.2.0",
            "grid_template_areas": null,
            "object_position": null,
            "object_fit": null,
            "grid_auto_columns": null,
            "margin": null,
            "display": null,
            "left": null
          }
        },
        "b7dd25eaa50d4733947fe3e9e965aed4": {
          "model_module": "@jupyter-widgets/controls",
          "model_name": "HBoxModel",
          "state": {
            "_view_name": "HBoxView",
            "_dom_classes": [],
            "_model_name": "HBoxModel",
            "_view_module": "@jupyter-widgets/controls",
            "_model_module_version": "1.5.0",
            "_view_count": null,
            "_view_module_version": "1.5.0",
            "box_style": "",
            "layout": "IPY_MODEL_aac40a8ba1e148ff970dbf0c9fecfcb3",
            "_model_module": "@jupyter-widgets/controls",
            "children": [
              "IPY_MODEL_a2717e0a00ca45d9b4ad02958ec5b9a1",
              "IPY_MODEL_a427385acc1a42e0885f0fab3cba4965"
            ]
          }
        },
        "aac40a8ba1e148ff970dbf0c9fecfcb3": {
          "model_module": "@jupyter-widgets/base",
          "model_name": "LayoutModel",
          "state": {
            "_view_name": "LayoutView",
            "grid_template_rows": null,
            "right": null,
            "justify_content": null,
            "_view_module": "@jupyter-widgets/base",
            "overflow": null,
            "_model_module_version": "1.2.0",
            "_view_count": null,
            "flex_flow": null,
            "width": null,
            "min_width": null,
            "border": null,
            "align_items": null,
            "bottom": null,
            "_model_module": "@jupyter-widgets/base",
            "top": null,
            "grid_column": null,
            "overflow_y": null,
            "overflow_x": null,
            "grid_auto_flow": null,
            "grid_area": null,
            "grid_template_columns": null,
            "flex": null,
            "_model_name": "LayoutModel",
            "justify_items": null,
            "grid_row": null,
            "max_height": null,
            "align_content": null,
            "visibility": null,
            "align_self": null,
            "height": null,
            "min_height": null,
            "padding": null,
            "grid_auto_rows": null,
            "grid_gap": null,
            "max_width": null,
            "order": null,
            "_view_module_version": "1.2.0",
            "grid_template_areas": null,
            "object_position": null,
            "object_fit": null,
            "grid_auto_columns": null,
            "margin": null,
            "display": null,
            "left": null
          }
        },
        "a2717e0a00ca45d9b4ad02958ec5b9a1": {
          "model_module": "@jupyter-widgets/controls",
          "model_name": "FloatProgressModel",
          "state": {
            "_view_name": "ProgressView",
            "style": "IPY_MODEL_466dfc891f264b019bd957cdf66de9a6",
            "_dom_classes": [],
            "description": "Downloading: 100%",
            "_model_name": "FloatProgressModel",
            "bar_style": "success",
            "max": 466062,
            "_view_module": "@jupyter-widgets/controls",
            "_model_module_version": "1.5.0",
            "value": 466062,
            "_view_count": null,
            "_view_module_version": "1.5.0",
            "orientation": "horizontal",
            "min": 0,
            "description_tooltip": null,
            "_model_module": "@jupyter-widgets/controls",
            "layout": "IPY_MODEL_6d38be2f88c243c4a27e63bf89e809cf"
          }
        },
        "a427385acc1a42e0885f0fab3cba4965": {
          "model_module": "@jupyter-widgets/controls",
          "model_name": "HTMLModel",
          "state": {
            "_view_name": "HTMLView",
            "style": "IPY_MODEL_95f78dd03ccb49e88b9e5cb5f788d9fe",
            "_dom_classes": [],
            "description": "",
            "_model_name": "HTMLModel",
            "placeholder": "​",
            "_view_module": "@jupyter-widgets/controls",
            "_model_module_version": "1.5.0",
            "value": " 466k/466k [00:00&lt;00:00, 2.50MB/s]",
            "_view_count": null,
            "_view_module_version": "1.5.0",
            "description_tooltip": null,
            "_model_module": "@jupyter-widgets/controls",
            "layout": "IPY_MODEL_6588bfc0002342a69cd01d9624cff28c"
          }
        },
        "466dfc891f264b019bd957cdf66de9a6": {
          "model_module": "@jupyter-widgets/controls",
          "model_name": "ProgressStyleModel",
          "state": {
            "_view_name": "StyleView",
            "_model_name": "ProgressStyleModel",
            "description_width": "initial",
            "_view_module": "@jupyter-widgets/base",
            "_model_module_version": "1.5.0",
            "_view_count": null,
            "_view_module_version": "1.2.0",
            "bar_color": null,
            "_model_module": "@jupyter-widgets/controls"
          }
        },
        "6d38be2f88c243c4a27e63bf89e809cf": {
          "model_module": "@jupyter-widgets/base",
          "model_name": "LayoutModel",
          "state": {
            "_view_name": "LayoutView",
            "grid_template_rows": null,
            "right": null,
            "justify_content": null,
            "_view_module": "@jupyter-widgets/base",
            "overflow": null,
            "_model_module_version": "1.2.0",
            "_view_count": null,
            "flex_flow": null,
            "width": null,
            "min_width": null,
            "border": null,
            "align_items": null,
            "bottom": null,
            "_model_module": "@jupyter-widgets/base",
            "top": null,
            "grid_column": null,
            "overflow_y": null,
            "overflow_x": null,
            "grid_auto_flow": null,
            "grid_area": null,
            "grid_template_columns": null,
            "flex": null,
            "_model_name": "LayoutModel",
            "justify_items": null,
            "grid_row": null,
            "max_height": null,
            "align_content": null,
            "visibility": null,
            "align_self": null,
            "height": null,
            "min_height": null,
            "padding": null,
            "grid_auto_rows": null,
            "grid_gap": null,
            "max_width": null,
            "order": null,
            "_view_module_version": "1.2.0",
            "grid_template_areas": null,
            "object_position": null,
            "object_fit": null,
            "grid_auto_columns": null,
            "margin": null,
            "display": null,
            "left": null
          }
        },
        "95f78dd03ccb49e88b9e5cb5f788d9fe": {
          "model_module": "@jupyter-widgets/controls",
          "model_name": "DescriptionStyleModel",
          "state": {
            "_view_name": "StyleView",
            "_model_name": "DescriptionStyleModel",
            "description_width": "",
            "_view_module": "@jupyter-widgets/base",
            "_model_module_version": "1.5.0",
            "_view_count": null,
            "_view_module_version": "1.2.0",
            "_model_module": "@jupyter-widgets/controls"
          }
        },
        "6588bfc0002342a69cd01d9624cff28c": {
          "model_module": "@jupyter-widgets/base",
          "model_name": "LayoutModel",
          "state": {
            "_view_name": "LayoutView",
            "grid_template_rows": null,
            "right": null,
            "justify_content": null,
            "_view_module": "@jupyter-widgets/base",
            "overflow": null,
            "_model_module_version": "1.2.0",
            "_view_count": null,
            "flex_flow": null,
            "width": null,
            "min_width": null,
            "border": null,
            "align_items": null,
            "bottom": null,
            "_model_module": "@jupyter-widgets/base",
            "top": null,
            "grid_column": null,
            "overflow_y": null,
            "overflow_x": null,
            "grid_auto_flow": null,
            "grid_area": null,
            "grid_template_columns": null,
            "flex": null,
            "_model_name": "LayoutModel",
            "justify_items": null,
            "grid_row": null,
            "max_height": null,
            "align_content": null,
            "visibility": null,
            "align_self": null,
            "height": null,
            "min_height": null,
            "padding": null,
            "grid_auto_rows": null,
            "grid_gap": null,
            "max_width": null,
            "order": null,
            "_view_module_version": "1.2.0",
            "grid_template_areas": null,
            "object_position": null,
            "object_fit": null,
            "grid_auto_columns": null,
            "margin": null,
            "display": null,
            "left": null
          }
        },
        "ee03706243114258b5c20e27168d7223": {
          "model_module": "@jupyter-widgets/controls",
          "model_name": "HBoxModel",
          "state": {
            "_view_name": "HBoxView",
            "_dom_classes": [],
            "_model_name": "HBoxModel",
            "_view_module": "@jupyter-widgets/controls",
            "_model_module_version": "1.5.0",
            "_view_count": null,
            "_view_module_version": "1.5.0",
            "box_style": "",
            "layout": "IPY_MODEL_5a58030035084a969844272638c5483c",
            "_model_module": "@jupyter-widgets/controls",
            "children": [
              "IPY_MODEL_412cd5382f76461fae30ecaba19deb46",
              "IPY_MODEL_e25ef1d5a6a045b485e1ae3ad8b0b63a"
            ]
          }
        },
        "5a58030035084a969844272638c5483c": {
          "model_module": "@jupyter-widgets/base",
          "model_name": "LayoutModel",
          "state": {
            "_view_name": "LayoutView",
            "grid_template_rows": null,
            "right": null,
            "justify_content": null,
            "_view_module": "@jupyter-widgets/base",
            "overflow": null,
            "_model_module_version": "1.2.0",
            "_view_count": null,
            "flex_flow": null,
            "width": null,
            "min_width": null,
            "border": null,
            "align_items": null,
            "bottom": null,
            "_model_module": "@jupyter-widgets/base",
            "top": null,
            "grid_column": null,
            "overflow_y": null,
            "overflow_x": null,
            "grid_auto_flow": null,
            "grid_area": null,
            "grid_template_columns": null,
            "flex": null,
            "_model_name": "LayoutModel",
            "justify_items": null,
            "grid_row": null,
            "max_height": null,
            "align_content": null,
            "visibility": null,
            "align_self": null,
            "height": null,
            "min_height": null,
            "padding": null,
            "grid_auto_rows": null,
            "grid_gap": null,
            "max_width": null,
            "order": null,
            "_view_module_version": "1.2.0",
            "grid_template_areas": null,
            "object_position": null,
            "object_fit": null,
            "grid_auto_columns": null,
            "margin": null,
            "display": null,
            "left": null
          }
        },
        "412cd5382f76461fae30ecaba19deb46": {
          "model_module": "@jupyter-widgets/controls",
          "model_name": "FloatProgressModel",
          "state": {
            "_view_name": "ProgressView",
            "style": "IPY_MODEL_68b223915ce341d2a19a2ce2b565e0c9",
            "_dom_classes": [],
            "description": "Downloading: 100%",
            "_model_name": "FloatProgressModel",
            "bar_style": "success",
            "max": 28,
            "_view_module": "@jupyter-widgets/controls",
            "_model_module_version": "1.5.0",
            "value": 28,
            "_view_count": null,
            "_view_module_version": "1.5.0",
            "orientation": "horizontal",
            "min": 0,
            "description_tooltip": null,
            "_model_module": "@jupyter-widgets/controls",
            "layout": "IPY_MODEL_bb8b365902e34eaf9a384ce81da1a675"
          }
        },
        "e25ef1d5a6a045b485e1ae3ad8b0b63a": {
          "model_module": "@jupyter-widgets/controls",
          "model_name": "HTMLModel",
          "state": {
            "_view_name": "HTMLView",
            "style": "IPY_MODEL_c869a4a9a87845f483eed6905eb917be",
            "_dom_classes": [],
            "description": "",
            "_model_name": "HTMLModel",
            "placeholder": "​",
            "_view_module": "@jupyter-widgets/controls",
            "_model_module_version": "1.5.0",
            "value": " 28.0/28.0 [00:19&lt;00:00, 1.42B/s]",
            "_view_count": null,
            "_view_module_version": "1.5.0",
            "description_tooltip": null,
            "_model_module": "@jupyter-widgets/controls",
            "layout": "IPY_MODEL_94386e6f53d24564b7549de30d577f7b"
          }
        },
        "68b223915ce341d2a19a2ce2b565e0c9": {
          "model_module": "@jupyter-widgets/controls",
          "model_name": "ProgressStyleModel",
          "state": {
            "_view_name": "StyleView",
            "_model_name": "ProgressStyleModel",
            "description_width": "initial",
            "_view_module": "@jupyter-widgets/base",
            "_model_module_version": "1.5.0",
            "_view_count": null,
            "_view_module_version": "1.2.0",
            "bar_color": null,
            "_model_module": "@jupyter-widgets/controls"
          }
        },
        "bb8b365902e34eaf9a384ce81da1a675": {
          "model_module": "@jupyter-widgets/base",
          "model_name": "LayoutModel",
          "state": {
            "_view_name": "LayoutView",
            "grid_template_rows": null,
            "right": null,
            "justify_content": null,
            "_view_module": "@jupyter-widgets/base",
            "overflow": null,
            "_model_module_version": "1.2.0",
            "_view_count": null,
            "flex_flow": null,
            "width": null,
            "min_width": null,
            "border": null,
            "align_items": null,
            "bottom": null,
            "_model_module": "@jupyter-widgets/base",
            "top": null,
            "grid_column": null,
            "overflow_y": null,
            "overflow_x": null,
            "grid_auto_flow": null,
            "grid_area": null,
            "grid_template_columns": null,
            "flex": null,
            "_model_name": "LayoutModel",
            "justify_items": null,
            "grid_row": null,
            "max_height": null,
            "align_content": null,
            "visibility": null,
            "align_self": null,
            "height": null,
            "min_height": null,
            "padding": null,
            "grid_auto_rows": null,
            "grid_gap": null,
            "max_width": null,
            "order": null,
            "_view_module_version": "1.2.0",
            "grid_template_areas": null,
            "object_position": null,
            "object_fit": null,
            "grid_auto_columns": null,
            "margin": null,
            "display": null,
            "left": null
          }
        },
        "c869a4a9a87845f483eed6905eb917be": {
          "model_module": "@jupyter-widgets/controls",
          "model_name": "DescriptionStyleModel",
          "state": {
            "_view_name": "StyleView",
            "_model_name": "DescriptionStyleModel",
            "description_width": "",
            "_view_module": "@jupyter-widgets/base",
            "_model_module_version": "1.5.0",
            "_view_count": null,
            "_view_module_version": "1.2.0",
            "_model_module": "@jupyter-widgets/controls"
          }
        },
        "94386e6f53d24564b7549de30d577f7b": {
          "model_module": "@jupyter-widgets/base",
          "model_name": "LayoutModel",
          "state": {
            "_view_name": "LayoutView",
            "grid_template_rows": null,
            "right": null,
            "justify_content": null,
            "_view_module": "@jupyter-widgets/base",
            "overflow": null,
            "_model_module_version": "1.2.0",
            "_view_count": null,
            "flex_flow": null,
            "width": null,
            "min_width": null,
            "border": null,
            "align_items": null,
            "bottom": null,
            "_model_module": "@jupyter-widgets/base",
            "top": null,
            "grid_column": null,
            "overflow_y": null,
            "overflow_x": null,
            "grid_auto_flow": null,
            "grid_area": null,
            "grid_template_columns": null,
            "flex": null,
            "_model_name": "LayoutModel",
            "justify_items": null,
            "grid_row": null,
            "max_height": null,
            "align_content": null,
            "visibility": null,
            "align_self": null,
            "height": null,
            "min_height": null,
            "padding": null,
            "grid_auto_rows": null,
            "grid_gap": null,
            "max_width": null,
            "order": null,
            "_view_module_version": "1.2.0",
            "grid_template_areas": null,
            "object_position": null,
            "object_fit": null,
            "grid_auto_columns": null,
            "margin": null,
            "display": null,
            "left": null
          }
        },
        "8f72453e8a464a698d894aeb62c7ddff": {
          "model_module": "@jupyter-widgets/controls",
          "model_name": "HBoxModel",
          "state": {
            "_view_name": "HBoxView",
            "_dom_classes": [],
            "_model_name": "HBoxModel",
            "_view_module": "@jupyter-widgets/controls",
            "_model_module_version": "1.5.0",
            "_view_count": null,
            "_view_module_version": "1.5.0",
            "box_style": "",
            "layout": "IPY_MODEL_041c613706934067a1a5247b946c4e0f",
            "_model_module": "@jupyter-widgets/controls",
            "children": [
              "IPY_MODEL_9d3e695a906843fca40c1641c802a9f9",
              "IPY_MODEL_b031d962c2d04d219528c10b667efce2"
            ]
          }
        },
        "041c613706934067a1a5247b946c4e0f": {
          "model_module": "@jupyter-widgets/base",
          "model_name": "LayoutModel",
          "state": {
            "_view_name": "LayoutView",
            "grid_template_rows": null,
            "right": null,
            "justify_content": null,
            "_view_module": "@jupyter-widgets/base",
            "overflow": null,
            "_model_module_version": "1.2.0",
            "_view_count": null,
            "flex_flow": null,
            "width": null,
            "min_width": null,
            "border": null,
            "align_items": null,
            "bottom": null,
            "_model_module": "@jupyter-widgets/base",
            "top": null,
            "grid_column": null,
            "overflow_y": null,
            "overflow_x": null,
            "grid_auto_flow": null,
            "grid_area": null,
            "grid_template_columns": null,
            "flex": null,
            "_model_name": "LayoutModel",
            "justify_items": null,
            "grid_row": null,
            "max_height": null,
            "align_content": null,
            "visibility": null,
            "align_self": null,
            "height": null,
            "min_height": null,
            "padding": null,
            "grid_auto_rows": null,
            "grid_gap": null,
            "max_width": null,
            "order": null,
            "_view_module_version": "1.2.0",
            "grid_template_areas": null,
            "object_position": null,
            "object_fit": null,
            "grid_auto_columns": null,
            "margin": null,
            "display": null,
            "left": null
          }
        },
        "9d3e695a906843fca40c1641c802a9f9": {
          "model_module": "@jupyter-widgets/controls",
          "model_name": "FloatProgressModel",
          "state": {
            "_view_name": "ProgressView",
            "style": "IPY_MODEL_0ab8d5ad20fa4b67bcadccac0c805a86",
            "_dom_classes": [],
            "description": "Downloading: 100%",
            "_model_name": "FloatProgressModel",
            "bar_style": "success",
            "max": 762,
            "_view_module": "@jupyter-widgets/controls",
            "_model_module_version": "1.5.0",
            "value": 762,
            "_view_count": null,
            "_view_module_version": "1.5.0",
            "orientation": "horizontal",
            "min": 0,
            "description_tooltip": null,
            "_model_module": "@jupyter-widgets/controls",
            "layout": "IPY_MODEL_d5e4b7af18324b5f897ef1721fb29cb6"
          }
        },
        "b031d962c2d04d219528c10b667efce2": {
          "model_module": "@jupyter-widgets/controls",
          "model_name": "HTMLModel",
          "state": {
            "_view_name": "HTMLView",
            "style": "IPY_MODEL_afd7d2e28f204e0ba6a1e66dd3f8faa1",
            "_dom_classes": [],
            "description": "",
            "_model_name": "HTMLModel",
            "placeholder": "​",
            "_view_module": "@jupyter-widgets/controls",
            "_model_module_version": "1.5.0",
            "value": " 762/762 [00:00&lt;00:00, 4.77kB/s]",
            "_view_count": null,
            "_view_module_version": "1.5.0",
            "description_tooltip": null,
            "_model_module": "@jupyter-widgets/controls",
            "layout": "IPY_MODEL_f2f8cf85f9734f08aedbdb2fc57fe003"
          }
        },
        "0ab8d5ad20fa4b67bcadccac0c805a86": {
          "model_module": "@jupyter-widgets/controls",
          "model_name": "ProgressStyleModel",
          "state": {
            "_view_name": "StyleView",
            "_model_name": "ProgressStyleModel",
            "description_width": "initial",
            "_view_module": "@jupyter-widgets/base",
            "_model_module_version": "1.5.0",
            "_view_count": null,
            "_view_module_version": "1.2.0",
            "bar_color": null,
            "_model_module": "@jupyter-widgets/controls"
          }
        },
        "d5e4b7af18324b5f897ef1721fb29cb6": {
          "model_module": "@jupyter-widgets/base",
          "model_name": "LayoutModel",
          "state": {
            "_view_name": "LayoutView",
            "grid_template_rows": null,
            "right": null,
            "justify_content": null,
            "_view_module": "@jupyter-widgets/base",
            "overflow": null,
            "_model_module_version": "1.2.0",
            "_view_count": null,
            "flex_flow": null,
            "width": null,
            "min_width": null,
            "border": null,
            "align_items": null,
            "bottom": null,
            "_model_module": "@jupyter-widgets/base",
            "top": null,
            "grid_column": null,
            "overflow_y": null,
            "overflow_x": null,
            "grid_auto_flow": null,
            "grid_area": null,
            "grid_template_columns": null,
            "flex": null,
            "_model_name": "LayoutModel",
            "justify_items": null,
            "grid_row": null,
            "max_height": null,
            "align_content": null,
            "visibility": null,
            "align_self": null,
            "height": null,
            "min_height": null,
            "padding": null,
            "grid_auto_rows": null,
            "grid_gap": null,
            "max_width": null,
            "order": null,
            "_view_module_version": "1.2.0",
            "grid_template_areas": null,
            "object_position": null,
            "object_fit": null,
            "grid_auto_columns": null,
            "margin": null,
            "display": null,
            "left": null
          }
        },
        "afd7d2e28f204e0ba6a1e66dd3f8faa1": {
          "model_module": "@jupyter-widgets/controls",
          "model_name": "DescriptionStyleModel",
          "state": {
            "_view_name": "StyleView",
            "_model_name": "DescriptionStyleModel",
            "description_width": "",
            "_view_module": "@jupyter-widgets/base",
            "_model_module_version": "1.5.0",
            "_view_count": null,
            "_view_module_version": "1.2.0",
            "_model_module": "@jupyter-widgets/controls"
          }
        },
        "f2f8cf85f9734f08aedbdb2fc57fe003": {
          "model_module": "@jupyter-widgets/base",
          "model_name": "LayoutModel",
          "state": {
            "_view_name": "LayoutView",
            "grid_template_rows": null,
            "right": null,
            "justify_content": null,
            "_view_module": "@jupyter-widgets/base",
            "overflow": null,
            "_model_module_version": "1.2.0",
            "_view_count": null,
            "flex_flow": null,
            "width": null,
            "min_width": null,
            "border": null,
            "align_items": null,
            "bottom": null,
            "_model_module": "@jupyter-widgets/base",
            "top": null,
            "grid_column": null,
            "overflow_y": null,
            "overflow_x": null,
            "grid_auto_flow": null,
            "grid_area": null,
            "grid_template_columns": null,
            "flex": null,
            "_model_name": "LayoutModel",
            "justify_items": null,
            "grid_row": null,
            "max_height": null,
            "align_content": null,
            "visibility": null,
            "align_self": null,
            "height": null,
            "min_height": null,
            "padding": null,
            "grid_auto_rows": null,
            "grid_gap": null,
            "max_width": null,
            "order": null,
            "_view_module_version": "1.2.0",
            "grid_template_areas": null,
            "object_position": null,
            "object_fit": null,
            "grid_auto_columns": null,
            "margin": null,
            "display": null,
            "left": null
          }
        },
        "9682b3a578f64007934879670d237538": {
          "model_module": "@jupyter-widgets/controls",
          "model_name": "HBoxModel",
          "state": {
            "_view_name": "HBoxView",
            "_dom_classes": [],
            "_model_name": "HBoxModel",
            "_view_module": "@jupyter-widgets/controls",
            "_model_module_version": "1.5.0",
            "_view_count": null,
            "_view_module_version": "1.5.0",
            "box_style": "",
            "layout": "IPY_MODEL_d8ed8d2959654c1ebd9cfa8803a089c8",
            "_model_module": "@jupyter-widgets/controls",
            "children": [
              "IPY_MODEL_95126045b8f046aa8a1ea5ccdbe5ae6b",
              "IPY_MODEL_99d16352bfd744d7a609287789f78179"
            ]
          }
        },
        "d8ed8d2959654c1ebd9cfa8803a089c8": {
          "model_module": "@jupyter-widgets/base",
          "model_name": "LayoutModel",
          "state": {
            "_view_name": "LayoutView",
            "grid_template_rows": null,
            "right": null,
            "justify_content": null,
            "_view_module": "@jupyter-widgets/base",
            "overflow": null,
            "_model_module_version": "1.2.0",
            "_view_count": null,
            "flex_flow": null,
            "width": null,
            "min_width": null,
            "border": null,
            "align_items": null,
            "bottom": null,
            "_model_module": "@jupyter-widgets/base",
            "top": null,
            "grid_column": null,
            "overflow_y": null,
            "overflow_x": null,
            "grid_auto_flow": null,
            "grid_area": null,
            "grid_template_columns": null,
            "flex": null,
            "_model_name": "LayoutModel",
            "justify_items": null,
            "grid_row": null,
            "max_height": null,
            "align_content": null,
            "visibility": null,
            "align_self": null,
            "height": null,
            "min_height": null,
            "padding": null,
            "grid_auto_rows": null,
            "grid_gap": null,
            "max_width": null,
            "order": null,
            "_view_module_version": "1.2.0",
            "grid_template_areas": null,
            "object_position": null,
            "object_fit": null,
            "grid_auto_columns": null,
            "margin": null,
            "display": null,
            "left": null
          }
        },
        "95126045b8f046aa8a1ea5ccdbe5ae6b": {
          "model_module": "@jupyter-widgets/controls",
          "model_name": "FloatProgressModel",
          "state": {
            "_view_name": "ProgressView",
            "style": "IPY_MODEL_d0c79d39e2644fd2a3dfe499e1b45a42",
            "_dom_classes": [],
            "description": "Downloading: 100%",
            "_model_name": "FloatProgressModel",
            "bar_style": "success",
            "max": 1042301,
            "_view_module": "@jupyter-widgets/controls",
            "_model_module_version": "1.5.0",
            "value": 1042301,
            "_view_count": null,
            "_view_module_version": "1.5.0",
            "orientation": "horizontal",
            "min": 0,
            "description_tooltip": null,
            "_model_module": "@jupyter-widgets/controls",
            "layout": "IPY_MODEL_6630587b997a415d8d86a144ca36fa9d"
          }
        },
        "99d16352bfd744d7a609287789f78179": {
          "model_module": "@jupyter-widgets/controls",
          "model_name": "HTMLModel",
          "state": {
            "_view_name": "HTMLView",
            "style": "IPY_MODEL_b559ad275df74bdcb24745c74d32b438",
            "_dom_classes": [],
            "description": "",
            "_model_name": "HTMLModel",
            "placeholder": "​",
            "_view_module": "@jupyter-widgets/controls",
            "_model_module_version": "1.5.0",
            "value": " 1.04M/1.04M [00:01&lt;00:00, 653kB/s]",
            "_view_count": null,
            "_view_module_version": "1.5.0",
            "description_tooltip": null,
            "_model_module": "@jupyter-widgets/controls",
            "layout": "IPY_MODEL_fc269a6b87ae41219555a25b63fb1341"
          }
        },
        "d0c79d39e2644fd2a3dfe499e1b45a42": {
          "model_module": "@jupyter-widgets/controls",
          "model_name": "ProgressStyleModel",
          "state": {
            "_view_name": "StyleView",
            "_model_name": "ProgressStyleModel",
            "description_width": "initial",
            "_view_module": "@jupyter-widgets/base",
            "_model_module_version": "1.5.0",
            "_view_count": null,
            "_view_module_version": "1.2.0",
            "bar_color": null,
            "_model_module": "@jupyter-widgets/controls"
          }
        },
        "6630587b997a415d8d86a144ca36fa9d": {
          "model_module": "@jupyter-widgets/base",
          "model_name": "LayoutModel",
          "state": {
            "_view_name": "LayoutView",
            "grid_template_rows": null,
            "right": null,
            "justify_content": null,
            "_view_module": "@jupyter-widgets/base",
            "overflow": null,
            "_model_module_version": "1.2.0",
            "_view_count": null,
            "flex_flow": null,
            "width": null,
            "min_width": null,
            "border": null,
            "align_items": null,
            "bottom": null,
            "_model_module": "@jupyter-widgets/base",
            "top": null,
            "grid_column": null,
            "overflow_y": null,
            "overflow_x": null,
            "grid_auto_flow": null,
            "grid_area": null,
            "grid_template_columns": null,
            "flex": null,
            "_model_name": "LayoutModel",
            "justify_items": null,
            "grid_row": null,
            "max_height": null,
            "align_content": null,
            "visibility": null,
            "align_self": null,
            "height": null,
            "min_height": null,
            "padding": null,
            "grid_auto_rows": null,
            "grid_gap": null,
            "max_width": null,
            "order": null,
            "_view_module_version": "1.2.0",
            "grid_template_areas": null,
            "object_position": null,
            "object_fit": null,
            "grid_auto_columns": null,
            "margin": null,
            "display": null,
            "left": null
          }
        },
        "b559ad275df74bdcb24745c74d32b438": {
          "model_module": "@jupyter-widgets/controls",
          "model_name": "DescriptionStyleModel",
          "state": {
            "_view_name": "StyleView",
            "_model_name": "DescriptionStyleModel",
            "description_width": "",
            "_view_module": "@jupyter-widgets/base",
            "_model_module_version": "1.5.0",
            "_view_count": null,
            "_view_module_version": "1.2.0",
            "_model_module": "@jupyter-widgets/controls"
          }
        },
        "fc269a6b87ae41219555a25b63fb1341": {
          "model_module": "@jupyter-widgets/base",
          "model_name": "LayoutModel",
          "state": {
            "_view_name": "LayoutView",
            "grid_template_rows": null,
            "right": null,
            "justify_content": null,
            "_view_module": "@jupyter-widgets/base",
            "overflow": null,
            "_model_module_version": "1.2.0",
            "_view_count": null,
            "flex_flow": null,
            "width": null,
            "min_width": null,
            "border": null,
            "align_items": null,
            "bottom": null,
            "_model_module": "@jupyter-widgets/base",
            "top": null,
            "grid_column": null,
            "overflow_y": null,
            "overflow_x": null,
            "grid_auto_flow": null,
            "grid_area": null,
            "grid_template_columns": null,
            "flex": null,
            "_model_name": "LayoutModel",
            "justify_items": null,
            "grid_row": null,
            "max_height": null,
            "align_content": null,
            "visibility": null,
            "align_self": null,
            "height": null,
            "min_height": null,
            "padding": null,
            "grid_auto_rows": null,
            "grid_gap": null,
            "max_width": null,
            "order": null,
            "_view_module_version": "1.2.0",
            "grid_template_areas": null,
            "object_position": null,
            "object_fit": null,
            "grid_auto_columns": null,
            "margin": null,
            "display": null,
            "left": null
          }
        },
        "70ad242941ee4409aae20578f01c50c3": {
          "model_module": "@jupyter-widgets/controls",
          "model_name": "HBoxModel",
          "state": {
            "_view_name": "HBoxView",
            "_dom_classes": [],
            "_model_name": "HBoxModel",
            "_view_module": "@jupyter-widgets/controls",
            "_model_module_version": "1.5.0",
            "_view_count": null,
            "_view_module_version": "1.5.0",
            "box_style": "",
            "layout": "IPY_MODEL_a40944765001466dbb34459343597c58",
            "_model_module": "@jupyter-widgets/controls",
            "children": [
              "IPY_MODEL_b390666c9ac1426fbb0f45894e8f1cf3",
              "IPY_MODEL_4be7709eda604dc6b5cf006dd7fca312"
            ]
          }
        },
        "a40944765001466dbb34459343597c58": {
          "model_module": "@jupyter-widgets/base",
          "model_name": "LayoutModel",
          "state": {
            "_view_name": "LayoutView",
            "grid_template_rows": null,
            "right": null,
            "justify_content": null,
            "_view_module": "@jupyter-widgets/base",
            "overflow": null,
            "_model_module_version": "1.2.0",
            "_view_count": null,
            "flex_flow": null,
            "width": null,
            "min_width": null,
            "border": null,
            "align_items": null,
            "bottom": null,
            "_model_module": "@jupyter-widgets/base",
            "top": null,
            "grid_column": null,
            "overflow_y": null,
            "overflow_x": null,
            "grid_auto_flow": null,
            "grid_area": null,
            "grid_template_columns": null,
            "flex": null,
            "_model_name": "LayoutModel",
            "justify_items": null,
            "grid_row": null,
            "max_height": null,
            "align_content": null,
            "visibility": null,
            "align_self": null,
            "height": null,
            "min_height": null,
            "padding": null,
            "grid_auto_rows": null,
            "grid_gap": null,
            "max_width": null,
            "order": null,
            "_view_module_version": "1.2.0",
            "grid_template_areas": null,
            "object_position": null,
            "object_fit": null,
            "grid_auto_columns": null,
            "margin": null,
            "display": null,
            "left": null
          }
        },
        "b390666c9ac1426fbb0f45894e8f1cf3": {
          "model_module": "@jupyter-widgets/controls",
          "model_name": "FloatProgressModel",
          "state": {
            "_view_name": "ProgressView",
            "style": "IPY_MODEL_520148112b17484792a3cad5f9206b84",
            "_dom_classes": [],
            "description": "Downloading: 100%",
            "_model_name": "FloatProgressModel",
            "bar_style": "success",
            "max": 456318,
            "_view_module": "@jupyter-widgets/controls",
            "_model_module_version": "1.5.0",
            "value": 456318,
            "_view_count": null,
            "_view_module_version": "1.5.0",
            "orientation": "horizontal",
            "min": 0,
            "description_tooltip": null,
            "_model_module": "@jupyter-widgets/controls",
            "layout": "IPY_MODEL_5ae2aee5c256458583a09d8590dfae7a"
          }
        },
        "4be7709eda604dc6b5cf006dd7fca312": {
          "model_module": "@jupyter-widgets/controls",
          "model_name": "HTMLModel",
          "state": {
            "_view_name": "HTMLView",
            "style": "IPY_MODEL_a0bb20f8fb504cb9afc460d2ac8eca37",
            "_dom_classes": [],
            "description": "",
            "_model_name": "HTMLModel",
            "placeholder": "​",
            "_view_module": "@jupyter-widgets/controls",
            "_model_module_version": "1.5.0",
            "value": " 456k/456k [00:01&lt;00:00, 339kB/s]",
            "_view_count": null,
            "_view_module_version": "1.5.0",
            "description_tooltip": null,
            "_model_module": "@jupyter-widgets/controls",
            "layout": "IPY_MODEL_5e9846d54a2b40d39a92b66e7c67a672"
          }
        },
        "520148112b17484792a3cad5f9206b84": {
          "model_module": "@jupyter-widgets/controls",
          "model_name": "ProgressStyleModel",
          "state": {
            "_view_name": "StyleView",
            "_model_name": "ProgressStyleModel",
            "description_width": "initial",
            "_view_module": "@jupyter-widgets/base",
            "_model_module_version": "1.5.0",
            "_view_count": null,
            "_view_module_version": "1.2.0",
            "bar_color": null,
            "_model_module": "@jupyter-widgets/controls"
          }
        },
        "5ae2aee5c256458583a09d8590dfae7a": {
          "model_module": "@jupyter-widgets/base",
          "model_name": "LayoutModel",
          "state": {
            "_view_name": "LayoutView",
            "grid_template_rows": null,
            "right": null,
            "justify_content": null,
            "_view_module": "@jupyter-widgets/base",
            "overflow": null,
            "_model_module_version": "1.2.0",
            "_view_count": null,
            "flex_flow": null,
            "width": null,
            "min_width": null,
            "border": null,
            "align_items": null,
            "bottom": null,
            "_model_module": "@jupyter-widgets/base",
            "top": null,
            "grid_column": null,
            "overflow_y": null,
            "overflow_x": null,
            "grid_auto_flow": null,
            "grid_area": null,
            "grid_template_columns": null,
            "flex": null,
            "_model_name": "LayoutModel",
            "justify_items": null,
            "grid_row": null,
            "max_height": null,
            "align_content": null,
            "visibility": null,
            "align_self": null,
            "height": null,
            "min_height": null,
            "padding": null,
            "grid_auto_rows": null,
            "grid_gap": null,
            "max_width": null,
            "order": null,
            "_view_module_version": "1.2.0",
            "grid_template_areas": null,
            "object_position": null,
            "object_fit": null,
            "grid_auto_columns": null,
            "margin": null,
            "display": null,
            "left": null
          }
        },
        "a0bb20f8fb504cb9afc460d2ac8eca37": {
          "model_module": "@jupyter-widgets/controls",
          "model_name": "DescriptionStyleModel",
          "state": {
            "_view_name": "StyleView",
            "_model_name": "DescriptionStyleModel",
            "description_width": "",
            "_view_module": "@jupyter-widgets/base",
            "_model_module_version": "1.5.0",
            "_view_count": null,
            "_view_module_version": "1.2.0",
            "_model_module": "@jupyter-widgets/controls"
          }
        },
        "5e9846d54a2b40d39a92b66e7c67a672": {
          "model_module": "@jupyter-widgets/base",
          "model_name": "LayoutModel",
          "state": {
            "_view_name": "LayoutView",
            "grid_template_rows": null,
            "right": null,
            "justify_content": null,
            "_view_module": "@jupyter-widgets/base",
            "overflow": null,
            "_model_module_version": "1.2.0",
            "_view_count": null,
            "flex_flow": null,
            "width": null,
            "min_width": null,
            "border": null,
            "align_items": null,
            "bottom": null,
            "_model_module": "@jupyter-widgets/base",
            "top": null,
            "grid_column": null,
            "overflow_y": null,
            "overflow_x": null,
            "grid_auto_flow": null,
            "grid_area": null,
            "grid_template_columns": null,
            "flex": null,
            "_model_name": "LayoutModel",
            "justify_items": null,
            "grid_row": null,
            "max_height": null,
            "align_content": null,
            "visibility": null,
            "align_self": null,
            "height": null,
            "min_height": null,
            "padding": null,
            "grid_auto_rows": null,
            "grid_gap": null,
            "max_width": null,
            "order": null,
            "_view_module_version": "1.2.0",
            "grid_template_areas": null,
            "object_position": null,
            "object_fit": null,
            "grid_auto_columns": null,
            "margin": null,
            "display": null,
            "left": null
          }
        },
        "0d769e67f1f64e429a59d7f26da414da": {
          "model_module": "@jupyter-widgets/controls",
          "model_name": "HBoxModel",
          "state": {
            "_view_name": "HBoxView",
            "_dom_classes": [],
            "_model_name": "HBoxModel",
            "_view_module": "@jupyter-widgets/controls",
            "_model_module_version": "1.5.0",
            "_view_count": null,
            "_view_module_version": "1.5.0",
            "box_style": "",
            "layout": "IPY_MODEL_e1becb8178de40beb363dce3a95cfaf9",
            "_model_module": "@jupyter-widgets/controls",
            "children": [
              "IPY_MODEL_c4ba510a508442fcaca0e9cb6742027f",
              "IPY_MODEL_4ac575d2deca44278aa7808a87f0816f"
            ]
          }
        },
        "e1becb8178de40beb363dce3a95cfaf9": {
          "model_module": "@jupyter-widgets/base",
          "model_name": "LayoutModel",
          "state": {
            "_view_name": "LayoutView",
            "grid_template_rows": null,
            "right": null,
            "justify_content": null,
            "_view_module": "@jupyter-widgets/base",
            "overflow": null,
            "_model_module_version": "1.2.0",
            "_view_count": null,
            "flex_flow": null,
            "width": null,
            "min_width": null,
            "border": null,
            "align_items": null,
            "bottom": null,
            "_model_module": "@jupyter-widgets/base",
            "top": null,
            "grid_column": null,
            "overflow_y": null,
            "overflow_x": null,
            "grid_auto_flow": null,
            "grid_area": null,
            "grid_template_columns": null,
            "flex": null,
            "_model_name": "LayoutModel",
            "justify_items": null,
            "grid_row": null,
            "max_height": null,
            "align_content": null,
            "visibility": null,
            "align_self": null,
            "height": null,
            "min_height": null,
            "padding": null,
            "grid_auto_rows": null,
            "grid_gap": null,
            "max_width": null,
            "order": null,
            "_view_module_version": "1.2.0",
            "grid_template_areas": null,
            "object_position": null,
            "object_fit": null,
            "grid_auto_columns": null,
            "margin": null,
            "display": null,
            "left": null
          }
        },
        "c4ba510a508442fcaca0e9cb6742027f": {
          "model_module": "@jupyter-widgets/controls",
          "model_name": "FloatProgressModel",
          "state": {
            "_view_name": "ProgressView",
            "style": "IPY_MODEL_2fd809526f89407093371d34a88f7604",
            "_dom_classes": [],
            "description": "Downloading: 100%",
            "_model_name": "FloatProgressModel",
            "bar_style": "success",
            "max": 1355256,
            "_view_module": "@jupyter-widgets/controls",
            "_model_module_version": "1.5.0",
            "value": 1355256,
            "_view_count": null,
            "_view_module_version": "1.5.0",
            "orientation": "horizontal",
            "min": 0,
            "description_tooltip": null,
            "_model_module": "@jupyter-widgets/controls",
            "layout": "IPY_MODEL_0beda50bcaa740e6a809ca1429e04002"
          }
        },
        "4ac575d2deca44278aa7808a87f0816f": {
          "model_module": "@jupyter-widgets/controls",
          "model_name": "HTMLModel",
          "state": {
            "_view_name": "HTMLView",
            "style": "IPY_MODEL_d0f1a9bfe4204c5b895b67f4de6c59c2",
            "_dom_classes": [],
            "description": "",
            "_model_name": "HTMLModel",
            "placeholder": "​",
            "_view_module": "@jupyter-widgets/controls",
            "_model_module_version": "1.5.0",
            "value": " 1.36M/1.36M [00:01&lt;00:00, 1.21MB/s]",
            "_view_count": null,
            "_view_module_version": "1.5.0",
            "description_tooltip": null,
            "_model_module": "@jupyter-widgets/controls",
            "layout": "IPY_MODEL_6a7f290ccf534c18ab3019a11706bb76"
          }
        },
        "2fd809526f89407093371d34a88f7604": {
          "model_module": "@jupyter-widgets/controls",
          "model_name": "ProgressStyleModel",
          "state": {
            "_view_name": "StyleView",
            "_model_name": "ProgressStyleModel",
            "description_width": "initial",
            "_view_module": "@jupyter-widgets/base",
            "_model_module_version": "1.5.0",
            "_view_count": null,
            "_view_module_version": "1.2.0",
            "bar_color": null,
            "_model_module": "@jupyter-widgets/controls"
          }
        },
        "0beda50bcaa740e6a809ca1429e04002": {
          "model_module": "@jupyter-widgets/base",
          "model_name": "LayoutModel",
          "state": {
            "_view_name": "LayoutView",
            "grid_template_rows": null,
            "right": null,
            "justify_content": null,
            "_view_module": "@jupyter-widgets/base",
            "overflow": null,
            "_model_module_version": "1.2.0",
            "_view_count": null,
            "flex_flow": null,
            "width": null,
            "min_width": null,
            "border": null,
            "align_items": null,
            "bottom": null,
            "_model_module": "@jupyter-widgets/base",
            "top": null,
            "grid_column": null,
            "overflow_y": null,
            "overflow_x": null,
            "grid_auto_flow": null,
            "grid_area": null,
            "grid_template_columns": null,
            "flex": null,
            "_model_name": "LayoutModel",
            "justify_items": null,
            "grid_row": null,
            "max_height": null,
            "align_content": null,
            "visibility": null,
            "align_self": null,
            "height": null,
            "min_height": null,
            "padding": null,
            "grid_auto_rows": null,
            "grid_gap": null,
            "max_width": null,
            "order": null,
            "_view_module_version": "1.2.0",
            "grid_template_areas": null,
            "object_position": null,
            "object_fit": null,
            "grid_auto_columns": null,
            "margin": null,
            "display": null,
            "left": null
          }
        },
        "d0f1a9bfe4204c5b895b67f4de6c59c2": {
          "model_module": "@jupyter-widgets/controls",
          "model_name": "DescriptionStyleModel",
          "state": {
            "_view_name": "StyleView",
            "_model_name": "DescriptionStyleModel",
            "description_width": "",
            "_view_module": "@jupyter-widgets/base",
            "_model_module_version": "1.5.0",
            "_view_count": null,
            "_view_module_version": "1.2.0",
            "_model_module": "@jupyter-widgets/controls"
          }
        },
        "6a7f290ccf534c18ab3019a11706bb76": {
          "model_module": "@jupyter-widgets/base",
          "model_name": "LayoutModel",
          "state": {
            "_view_name": "LayoutView",
            "grid_template_rows": null,
            "right": null,
            "justify_content": null,
            "_view_module": "@jupyter-widgets/base",
            "overflow": null,
            "_model_module_version": "1.2.0",
            "_view_count": null,
            "flex_flow": null,
            "width": null,
            "min_width": null,
            "border": null,
            "align_items": null,
            "bottom": null,
            "_model_module": "@jupyter-widgets/base",
            "top": null,
            "grid_column": null,
            "overflow_y": null,
            "overflow_x": null,
            "grid_auto_flow": null,
            "grid_area": null,
            "grid_template_columns": null,
            "flex": null,
            "_model_name": "LayoutModel",
            "justify_items": null,
            "grid_row": null,
            "max_height": null,
            "align_content": null,
            "visibility": null,
            "align_self": null,
            "height": null,
            "min_height": null,
            "padding": null,
            "grid_auto_rows": null,
            "grid_gap": null,
            "max_width": null,
            "order": null,
            "_view_module_version": "1.2.0",
            "grid_template_areas": null,
            "object_position": null,
            "object_fit": null,
            "grid_auto_columns": null,
            "margin": null,
            "display": null,
            "left": null
          }
        }
      }
    }
  },
  "cells": [
    {
      "cell_type": "markdown",
      "metadata": {
        "id": "view-in-github",
        "colab_type": "text"
      },
      "source": [
        "<a href=\"https://colab.research.google.com/github/wall456/Taylor_bot/blob/main/Taylor_Swift.ipynb\" target=\"_parent\"><img src=\"https://colab.research.google.com/assets/colab-badge.svg\" alt=\"Open In Colab\"/></a>"
      ]
    },
    {
      "cell_type": "code",
      "metadata": {
        "colab": {
          "base_uri": "https://localhost:8080/"
        },
        "id": "4hPzIoi27jE4",
        "outputId": "b571b20d-aa8e-4e85-8d8f-490405fc964a"
      },
      "source": [
        "! pip install -U transformers datasets sentencepiece pandas scikit-learn"
      ],
      "execution_count": 1,
      "outputs": [
        {
          "output_type": "stream",
          "text": [
            "Requirement already up-to-date: transformers in /usr/local/lib/python3.7/dist-packages (4.6.0)\n",
            "Requirement already up-to-date: datasets in /usr/local/lib/python3.7/dist-packages (1.6.2)\n",
            "Requirement already up-to-date: sentencepiece in /usr/local/lib/python3.7/dist-packages (0.1.95)\n",
            "Requirement already up-to-date: pandas in /usr/local/lib/python3.7/dist-packages (1.2.4)\n",
            "Requirement already up-to-date: scikit-learn in /usr/local/lib/python3.7/dist-packages (0.24.2)\n",
            "Requirement already satisfied, skipping upgrade: numpy>=1.17 in /usr/local/lib/python3.7/dist-packages (from transformers) (1.19.5)\n",
            "Requirement already satisfied, skipping upgrade: sacremoses in /usr/local/lib/python3.7/dist-packages (from transformers) (0.0.45)\n",
            "Requirement already satisfied, skipping upgrade: tokenizers<0.11,>=0.10.1 in /usr/local/lib/python3.7/dist-packages (from transformers) (0.10.2)\n",
            "Requirement already satisfied, skipping upgrade: regex!=2019.12.17 in /usr/local/lib/python3.7/dist-packages (from transformers) (2019.12.20)\n",
            "Requirement already satisfied, skipping upgrade: tqdm>=4.27 in /usr/local/lib/python3.7/dist-packages (from transformers) (4.41.1)\n",
            "Requirement already satisfied, skipping upgrade: filelock in /usr/local/lib/python3.7/dist-packages (from transformers) (3.0.12)\n",
            "Requirement already satisfied, skipping upgrade: huggingface-hub==0.0.8 in /usr/local/lib/python3.7/dist-packages (from transformers) (0.0.8)\n",
            "Requirement already satisfied, skipping upgrade: packaging in /usr/local/lib/python3.7/dist-packages (from transformers) (20.9)\n",
            "Requirement already satisfied, skipping upgrade: importlib-metadata; python_version < \"3.8\" in /usr/local/lib/python3.7/dist-packages (from transformers) (4.0.1)\n",
            "Requirement already satisfied, skipping upgrade: requests in /usr/local/lib/python3.7/dist-packages (from transformers) (2.23.0)\n",
            "Requirement already satisfied, skipping upgrade: pyarrow>=1.0.0<4.0.0 in /usr/local/lib/python3.7/dist-packages (from datasets) (3.0.0)\n",
            "Requirement already satisfied, skipping upgrade: xxhash in /usr/local/lib/python3.7/dist-packages (from datasets) (2.0.2)\n",
            "Requirement already satisfied, skipping upgrade: fsspec in /usr/local/lib/python3.7/dist-packages (from datasets) (2021.5.0)\n",
            "Requirement already satisfied, skipping upgrade: dill in /usr/local/lib/python3.7/dist-packages (from datasets) (0.3.3)\n",
            "Requirement already satisfied, skipping upgrade: multiprocess in /usr/local/lib/python3.7/dist-packages (from datasets) (0.70.11.1)\n",
            "Requirement already satisfied, skipping upgrade: python-dateutil>=2.7.3 in /usr/local/lib/python3.7/dist-packages (from pandas) (2.8.1)\n",
            "Requirement already satisfied, skipping upgrade: pytz>=2017.3 in /usr/local/lib/python3.7/dist-packages (from pandas) (2018.9)\n",
            "Requirement already satisfied, skipping upgrade: threadpoolctl>=2.0.0 in /usr/local/lib/python3.7/dist-packages (from scikit-learn) (2.1.0)\n",
            "Requirement already satisfied, skipping upgrade: scipy>=0.19.1 in /usr/local/lib/python3.7/dist-packages (from scikit-learn) (1.4.1)\n",
            "Requirement already satisfied, skipping upgrade: joblib>=0.11 in /usr/local/lib/python3.7/dist-packages (from scikit-learn) (1.0.1)\n",
            "Requirement already satisfied, skipping upgrade: six in /usr/local/lib/python3.7/dist-packages (from sacremoses->transformers) (1.15.0)\n",
            "Requirement already satisfied, skipping upgrade: click in /usr/local/lib/python3.7/dist-packages (from sacremoses->transformers) (8.0.0)\n",
            "Requirement already satisfied, skipping upgrade: pyparsing>=2.0.2 in /usr/local/lib/python3.7/dist-packages (from packaging->transformers) (2.4.7)\n",
            "Requirement already satisfied, skipping upgrade: zipp>=0.5 in /usr/local/lib/python3.7/dist-packages (from importlib-metadata; python_version < \"3.8\"->transformers) (3.4.1)\n",
            "Requirement already satisfied, skipping upgrade: typing-extensions>=3.6.4; python_version < \"3.8\" in /usr/local/lib/python3.7/dist-packages (from importlib-metadata; python_version < \"3.8\"->transformers) (3.7.4.3)\n",
            "Requirement already satisfied, skipping upgrade: urllib3!=1.25.0,!=1.25.1,<1.26,>=1.21.1 in /usr/local/lib/python3.7/dist-packages (from requests->transformers) (1.24.3)\n",
            "Requirement already satisfied, skipping upgrade: idna<3,>=2.5 in /usr/local/lib/python3.7/dist-packages (from requests->transformers) (2.10)\n",
            "Requirement already satisfied, skipping upgrade: chardet<4,>=3.0.2 in /usr/local/lib/python3.7/dist-packages (from requests->transformers) (3.0.4)\n",
            "Requirement already satisfied, skipping upgrade: certifi>=2017.4.17 in /usr/local/lib/python3.7/dist-packages (from requests->transformers) (2020.12.5)\n"
          ],
          "name": "stdout"
        }
      ]
    },
    {
      "cell_type": "code",
      "metadata": {
        "colab": {
          "base_uri": "https://localhost:8080/"
        },
        "id": "X7VqsbQw7_8f",
        "outputId": "219ddde1-a450-40be-a1b2-30a67f4a4856"
      },
      "source": [
        "from google.colab import drive\n",
        "drive.mount('/content/drive/')"
      ],
      "execution_count": 2,
      "outputs": [
        {
          "output_type": "stream",
          "text": [
            "Mounted at /content/drive/\n"
          ],
          "name": "stdout"
        }
      ]
    },
    {
      "cell_type": "code",
      "metadata": {
        "colab": {
          "base_uri": "https://localhost:8080/"
        },
        "id": "L-ChrKNM8Jiq",
        "outputId": "6ead3401-18d7-4b8d-d6aa-5eb9df7a1827"
      },
      "source": [
        "import pathlib, shutil, contextlib, torch, numpy as np, pandas as pd\n",
        "from typing import Any\n",
        "from sklearn.model_selection import StratifiedShuffleSplit\n",
        "from sklearn.metrics import accuracy_score, f1_score, confusion_matrix, classification_report\n",
        "from datasets import Dataset, DatasetDict\n",
        "from transformers import Trainer, TrainingArguments, pipeline, AutoTokenizer, AutoModelForCausalLM, AutoModelForSequenceClassification\n",
        " \n",
        "class NLP:\n",
        "    def __init__(self,\n",
        "        base = AutoModelForSequenceClassification,\n",
        "        checkpoint = 'distilbert-base-uncased',\n",
        "        task = 'text-generation',\n",
        "        max_seq_length = 128,\n",
        "        padding_side = 'left',\n",
        "        path = '/content/drive/MyDrive/NLP/tswift',\n",
        "        path_model = None,\n",
        "        overwrite = False,\n",
        "        kwargs = dict(),\n",
        "        ):\n",
        "        \n",
        "        self.base = base\n",
        "        self.task = task\n",
        "        self.checkpoint = checkpoint\n",
        "        self.max_seq_length = max_seq_length\n",
        "        self.path = pathlib.Path(path)\n",
        "        if path_model:\n",
        "            self.path_model = pathlib.Path(path_model)\n",
        "        else:\n",
        "            self.path_model = self.path / f'{task}-{checkpoint.split(\"/\")[-1]}'\n",
        "        self.path_model.mkdir(parents=True, exist_ok=True)\n",
        "        if overwrite:\n",
        "            shutil.rmtree(self.path_model, ignore_errors=True)\n",
        "\n",
        "        self.tokenizer = AutoTokenizer.from_pretrained(checkpoint, use_fast=True,\n",
        "            model_max_length=self.max_seq_length, padding_side=padding_side)\n",
        "        if self.tokenizer._pad_token is None:\n",
        "            self.tokenizer._pad_token = self.tokenizer._eos_token\n",
        "\n",
        "        with contextlib.suppress(OSError):\n",
        "            self.model = base.from_pretrained(self.path_model)\n",
        "            self.trained = True\n",
        "            print(f'Using existing model at {str(self.path_model)}')\n",
        "\n",
        "        if not hasattr(self, 'model'):\n",
        "            print(f'No model found at {str(self.path_model)} - creating new one')\n",
        "            self.model = base.from_pretrained(checkpoint, max_length=self.max_seq_length,\n",
        "                task_specific_params={'text-generation':{'do_sample':True, 'max_length': self.max_seq_length}},\n",
        "                **kwargs)\n",
        "            self.trained = False\n",
        "\n",
        "    def __getitem__(self, key):\n",
        "        return getattr(self, key)\n",
        " \n",
        "    def __setitem__(self, key, value):\n",
        "        return setattr(self, key, value)\n",
        " \n",
        "    def _listify(self, x):\n",
        "        if isinstance(x, list) or isinstance(x, tuple) or isinstance(x, range):\n",
        "            return list(x)\n",
        "        else:\n",
        "            return [x]\n",
        "\n",
        "    def splitter(self, ds, frac=0.2):\n",
        "        frac = min(frac, 1-frac)\n",
        "        idxes = next(StratifiedShuffleSplit(test_size=frac).split(ds['labels'], ds['labels']))\n",
        "        return [ds.select(idx) for idx in idxes]\n",
        "\n",
        "    def make_dataset(self,\n",
        "        source_data,\n",
        "        text_col      = 'text',\n",
        "        label_col     = 'label',\n",
        "        holdout_frac  = 0.1,\n",
        "        validate_frac = 0.2,\n",
        "        ):\n",
        "\n",
        "        if not self.trained:\n",
        "            self.df = pd.DataFrame(source_data).dropna(subset=[text_col, label_col]).sample(frac=1.0).reset_index(drop=True)\n",
        "            tokens = dict()\n",
        "            for label, text in self.df[[label_col, text_col]].values:\n",
        "                tensors = self.preprocess(text)['wrapped']\n",
        "                tensors['labels'] = [label for _ in range(tensors['input_ids'].shape[0])]\n",
        "                for key, val in tensors.items():\n",
        "                    try:\n",
        "                        tokens[key].append(val)\n",
        "                    except:\n",
        "                        tokens[key] = [val]\n",
        "            L = np.hstack(tokens.pop('labels'))\n",
        "            id2label = dict(enumerate(np.unique(L)))\n",
        "            label2id = {l:i for i,l in id2label.items()}\n",
        "            tokens = {key: torch.row_stack(ls) for key, ls in tokens.items()}\n",
        "            tokens['labels'] = [label2id[l] for l in L]\n",
        "            self.model.config.id2label = id2label\n",
        "            self.model.config.label2id = label2id\n",
        "\n",
        "            D = DatasetDict({'train': Dataset.from_dict(tokens)})\n",
        "            for nm, frac in (('holdout',holdout_frac), ('validate',validate_frac)):\n",
        "                if frac > 0 and frac <=1:\n",
        "                    D['train'], D[nm] = self.splitter(D['train'], frac)\n",
        "\n",
        "            self.dataset = D\n",
        "            if self.task == 'text-generation':\n",
        "                def f(X):\n",
        "                    X['labels'] = X['input_ids']\n",
        "                    return X\n",
        "                self.dataset = D.map(f)\n",
        "            return self.dataset\n",
        "\n",
        "    def train(self, dataset=None, kwargs=dict()):\n",
        "        if not self.trained:\n",
        "            if dataset is None:\n",
        "                dataset = self.dataset\n",
        "\n",
        "            train_kwargs = {\n",
        "                'output_dir'                  : self.path_model,\n",
        "                'evaluation_strategy'         : 'epoch',\n",
        "                'logging_strategy'            : 'epoch',\n",
        "                'logging_dir'                 : self.path_model / 'logs',\n",
        "                'load_best_model_at_end'      : False,\n",
        "                'save_strategy'               : 'no',\n",
        "                'learning_rate'               : 1e-5,\n",
        "                'per_device_train_batch_size' : 32,\n",
        "                'warmup_steps'                : 600,\n",
        "                'num_train_epochs'            : 3,\n",
        "            }\n",
        "            train_kwargs.update(kwargs)\n",
        "            train_kwargs['per_device_eval_batch_size']  = train_kwargs['per_device_train_batch_size']\n",
        "\n",
        "            self.model = self.base.from_config(self.model.config)\n",
        "            trainer = Trainer(\n",
        "                model = self.model,\n",
        "                args = TrainingArguments(**train_kwargs),\n",
        "                train_dataset = dataset['train'],\n",
        "                eval_dataset = dataset['validate'],)\n",
        "            trainer.train()\n",
        "            self.model = self.model.to('cpu')\n",
        "            self.model.save_pretrained(self.path_model)\n",
        "        self.pipe = pipeline(task=self.task, model=self.model, tokenizer=self.tokenizer)\n",
        "\n",
        "    def classify(self, texts=''):\n",
        "        def f(text):\n",
        "            t = self.preprocess(text)['wrapped']\n",
        "            s = self.model(**t)\n",
        "            return s.logits.softmax(1).mean(axis=0).detach().numpy()\n",
        "        d = {'proba': pd.DataFrame([f(text) for text in self._listify(texts)], columns=self.model.config.id2label.values())}\n",
        "        d['pred'] = d['proba'].idxmax(axis=1).tolist()\n",
        "        return d\n",
        "\n",
        "    def tokenize(self, texts):\n",
        "        outputs = [self.tokenizer(text, truncation=False, padding='max_length', return_tensors='pt') for text in self._listify(texts)]\n",
        "        return outputs if len(outputs) > 1 else outputs[0]\n",
        "    \n",
        "    def wrap_tokens(self, tokens):\n",
        "        def f(tok):\n",
        "            T = tok['input_ids'].shape[1]\n",
        "            sh = (T // self.max_seq_length, self.max_seq_length)\n",
        "            T = np.product(sh)\n",
        "            return {key:val[0,-T:].reshape(sh) for key, val in tokens.items()}\n",
        "        outputs = [f(tok) for tok in self._listify(tokens)]\n",
        "        return outputs if len(outputs) > 1 else outputs[0]\n",
        "\n",
        "    def preprocess(self, texts):\n",
        "        tokens = self.tokenize(texts)\n",
        "        return {'flat':tokens, 'wrapped':self.wrap_tokens(tokens)}\n",
        "\n",
        "    def concat_tokens(self, tokens1, tokens2):\n",
        "        return {key:torch.cat((tokens1[key],tokens2[key]), axis=1) for key in tokens1.keys()}\n",
        "\n",
        "    def split_tokens(self, tokens, head_length=0, tail_length=0):\n",
        "        if head_length > 0:\n",
        "            head = {key:val[:,:head_length] for key,val in tokens.items()}\n",
        "            tail = {key:val[:,head_length:] for key,val in tokens.items()}\n",
        "        elif tail_length > 0:\n",
        "            head = {key:val[:,:-tail_length] for key,val in tokens.items()}\n",
        "            tail = {key:val[:,-tail_length:] for key,val in tokens.items()}\n",
        "        else:\n",
        "            head = tokens\n",
        "            tail = None\n",
        "        return head, tail\n",
        "\n",
        "    def count_words(self, text):\n",
        "        return len(text.split(\" \"))\n",
        "\n",
        "    def generate(self, prompts='', max_new_tokens=20, target_word_count=100, print_steps=True, kwargs=dict()):\n",
        "        gen_kwargs = {\n",
        "            'repetition_penalty': 10.0,  # penalty for repeating yourself\n",
        "            'pad_token_id'      : 50256,\n",
        "            }\n",
        "        gen_kwargs.update(kwargs)\n",
        "\n",
        "        max_length = self.max_seq_length + max_new_tokens\n",
        "        outputs = []\n",
        "        for text in self._listify(prompts):\n",
        "            tokens = self.tokenize(text)\n",
        "            while self.count_words(text) < target_word_count:\n",
        "                head, tail = self.split_tokens(tokens, tail_length=self.max_seq_length)\n",
        "                extended = {'input_ids': self.model.generate(**tail, max_length=max_length, **gen_kwargs)}\n",
        "                extended['attention_mask'] = torch.ones_like(extended['input_ids'])\n",
        "\n",
        "                _, new_tokens = self.split_tokens(extended, head_length=self.max_seq_length)\n",
        "                tokens = self.concat_tokens(tokens, new_tokens)\n",
        "                new_text = self.tokenizer.decode(new_tokens['input_ids'][0])\n",
        "                text += new_text\n",
        "                if print_steps:\n",
        "                    display(text)\n",
        "                    print(f'word count = {self.count_words(text)}\\n')\n",
        "            outputs.append(text)\n",
        "        return outputs if len(outputs) > 1 else outputs[0]\n",
        "        \n",
        "\n",
        "root_path = '/content/drive/MyDrive/NLP/tswift/'\n",
        "\n",
        "def read_google(gid, gsheetid='1BJaEmZF8KIB-zFi4qoP6Detp8ZtgTLG482hEwHKK61I'):\n",
        "    url = f'https://docs.google.com/spreadsheets/d/{gsheetid}/export?format=csv&gid={gid}'\n",
        "    return pd.read_csv(url)\n",
        "    \n",
        "songs  = read_google(599294473)\n",
        "mask = songs['genre'].isnull()\n",
        "if mask.any():\n",
        "    print(f'There are {mask.sum()} unlabeled rows')\n",
        "    # rand_genres = np.random.choice(['alternative', 'country', 'pop'], songs.shape[0])\n",
        "    # songs.loc[mask,'genre'] = rand_genres[mask]\n",
        "lyrics_lines = read_google(534858430)\n",
        "lyrics = lyrics_lines.groupby('song_index')['lyric'].agg(lambda x: ' '.join(x))\n",
        "songs = songs.merge(lyrics, on='song_index').sort_values(['genre', 'release_date', 'song_title'])\n",
        "\n",
        "mask = songs['genre'].isnull()\n",
        "holdout_set = songs[mask].copy().reset_index()\n",
        "songs = songs[~mask].reset_index()\n",
        "source_data = (songs.groupby('genre')[['lyric']].agg(lambda x: ' '.join(x)).reset_index())"
      ],
      "execution_count": 3,
      "outputs": [
        {
          "output_type": "stream",
          "text": [
            "There are 89 unlabeled rows\n"
          ],
          "name": "stdout"
        }
      ]
    },
    {
      "cell_type": "code",
      "metadata": {
        "colab": {
          "base_uri": "https://localhost:8080/",
          "height": 230,
          "referenced_widgets": [
            "e48bd6574d2540c5acb1fdb72ea8a5be",
            "10f726b36fa548a1bb478b9a2236a4ad",
            "f8bfe57e9a87459e94b76699ae2709af",
            "e177cc8a2a354285a58e5cdd8f37ff3e",
            "b6cbd0777dc1497aa6729415b6591284",
            "badc7a8b22c245e8a139ef1d54d1e66a",
            "8aa463a10d5a4ccc8df6c5264e0733e0",
            "0885126f0910411abc0ada74f58f5bca",
            "cbb6155e16a2447dafe296dfe9b24e9d",
            "d760eac6c6d54881af246f5ba01d4e0f",
            "9e1710ee382c41dc8942f69b92a766b0",
            "b76f99043cdb4b478a51295b9a82db0e",
            "72d153a4b6494a7586a971f2b8cc56ac",
            "503dea9cfca34b52bcd1bf44cd4f9e1a",
            "c75e6ffb09284daf99c0335d7bc3f8d9",
            "87d3675c95c04eed9bf6fd132612281e",
            "b7dd25eaa50d4733947fe3e9e965aed4",
            "aac40a8ba1e148ff970dbf0c9fecfcb3",
            "a2717e0a00ca45d9b4ad02958ec5b9a1",
            "a427385acc1a42e0885f0fab3cba4965",
            "466dfc891f264b019bd957cdf66de9a6",
            "6d38be2f88c243c4a27e63bf89e809cf",
            "95f78dd03ccb49e88b9e5cb5f788d9fe",
            "6588bfc0002342a69cd01d9624cff28c",
            "ee03706243114258b5c20e27168d7223",
            "5a58030035084a969844272638c5483c",
            "412cd5382f76461fae30ecaba19deb46",
            "e25ef1d5a6a045b485e1ae3ad8b0b63a",
            "68b223915ce341d2a19a2ce2b565e0c9",
            "bb8b365902e34eaf9a384ce81da1a675",
            "c869a4a9a87845f483eed6905eb917be",
            "94386e6f53d24564b7549de30d577f7b"
          ]
        },
        "id": "2q2UngFt8X6k",
        "outputId": "eef923b8-208b-43fa-c8c8-46dea9e8296b"
      },
      "source": [
        "#Text Classification\n",
        "\n",
        "max_seq_length = 64\n",
        "batch_size = 16\n",
        "num_epochs = 15\n",
        "\n",
        "model_kwargs = {}\n",
        "clf = NLP(\n",
        "    overwrite      = False,\n",
        "    max_seq_length = max_seq_length,\n",
        "    base           = AutoModelForSequenceClassification,\n",
        "    checkpoint     = 'distilbert-base-uncased',\n",
        "    task           = 'sentiment-analysis',\n",
        "    path           = root_path,\n",
        "    path_model     = root_path + f'classifier/{max_seq_length}/',\n",
        "    kwargs         = model_kwargs)\n",
        "\n",
        "data_kwargs = {}\n",
        "clf.make_dataset(\n",
        "    source_data   = source_data,\n",
        "    text_col      = 'lyric',\n",
        "    label_col     = 'genre',\n",
        "    holdout_frac  = 0.0,\n",
        "    validate_frac = 0.2,\n",
        "    )\n",
        "\n",
        "train_kwargs = {\n",
        "    'num_train_epochs'            : num_epochs,\n",
        "    'per_device_train_batch_size' : batch_size,\n",
        "    'learning_rate'               : 1e-5,\n",
        "    'warmup_steps'                : 600,\n",
        "    'save_strategy'               : 'no',\n",
        "}\n",
        "clf.train(kwargs=train_kwargs)\n",
        "\n",
        "df = songs.sample(frac=1).reset_index()\n",
        "d = clf.classify(df['lyric'].tolist())\n",
        "df['pred'] = d['pred']\n",
        "\n"
      ],
      "execution_count": 4,
      "outputs": [
        {
          "output_type": "display_data",
          "data": {
            "application/vnd.jupyter.widget-view+json": {
              "model_id": "e48bd6574d2540c5acb1fdb72ea8a5be",
              "version_minor": 0,
              "version_major": 2
            },
            "text/plain": [
              "HBox(children=(FloatProgress(value=0.0, description='Downloading', max=442.0, style=ProgressStyle(description_…"
            ]
          },
          "metadata": {
            "tags": []
          }
        },
        {
          "output_type": "stream",
          "text": [
            "\n"
          ],
          "name": "stdout"
        },
        {
          "output_type": "display_data",
          "data": {
            "application/vnd.jupyter.widget-view+json": {
              "model_id": "cbb6155e16a2447dafe296dfe9b24e9d",
              "version_minor": 0,
              "version_major": 2
            },
            "text/plain": [
              "HBox(children=(FloatProgress(value=0.0, description='Downloading', max=231508.0, style=ProgressStyle(descripti…"
            ]
          },
          "metadata": {
            "tags": []
          }
        },
        {
          "output_type": "stream",
          "text": [
            "\n"
          ],
          "name": "stdout"
        },
        {
          "output_type": "display_data",
          "data": {
            "application/vnd.jupyter.widget-view+json": {
              "model_id": "b7dd25eaa50d4733947fe3e9e965aed4",
              "version_minor": 0,
              "version_major": 2
            },
            "text/plain": [
              "HBox(children=(FloatProgress(value=0.0, description='Downloading', max=466062.0, style=ProgressStyle(descripti…"
            ]
          },
          "metadata": {
            "tags": []
          }
        },
        {
          "output_type": "stream",
          "text": [
            "\n"
          ],
          "name": "stdout"
        },
        {
          "output_type": "display_data",
          "data": {
            "application/vnd.jupyter.widget-view+json": {
              "model_id": "ee03706243114258b5c20e27168d7223",
              "version_minor": 0,
              "version_major": 2
            },
            "text/plain": [
              "HBox(children=(FloatProgress(value=0.0, description='Downloading', max=28.0, style=ProgressStyle(description_w…"
            ]
          },
          "metadata": {
            "tags": []
          }
        },
        {
          "output_type": "stream",
          "text": [
            "\n",
            "Using existing model at /content/drive/MyDrive/NLP/tswift/classifier/64\n"
          ],
          "name": "stdout"
        }
      ]
    },
    {
      "cell_type": "code",
      "metadata": {
        "colab": {
          "base_uri": "https://localhost:8080/",
          "height": 238
        },
        "id": "UGTMu3UZ8fef",
        "outputId": "31196226-9faf-44c5-ade0-8b0d03e31522"
      },
      "source": [
        "display(confusion_matrix(df['genre'],df['pred']))  \n",
        "print(classification_report(df['genre'],df['pred']))"
      ],
      "execution_count": 5,
      "outputs": [
        {
          "output_type": "display_data",
          "data": {
            "text/plain": [
              "array([[32,  0,  1],\n",
              "       [ 1, 61,  2],\n",
              "       [ 0,  2, 73]])"
            ]
          },
          "metadata": {
            "tags": []
          }
        },
        {
          "output_type": "stream",
          "text": [
            "              precision    recall  f1-score   support\n",
            "\n",
            " alternative       0.97      0.97      0.97        33\n",
            "     country       0.97      0.95      0.96        64\n",
            "         pop       0.96      0.97      0.97        75\n",
            "\n",
            "    accuracy                           0.97       172\n",
            "   macro avg       0.97      0.97      0.97       172\n",
            "weighted avg       0.97      0.97      0.97       172\n",
            "\n"
          ],
          "name": "stdout"
        }
      ]
    },
    {
      "cell_type": "code",
      "metadata": {
        "colab": {
          "base_uri": "https://localhost:8080/"
        },
        "id": "nSGdXpH49C4Z",
        "outputId": "fd249b36-3b16-4e01-9815-14e558c3121f"
      },
      "source": [
        "clf.classify(holdout_set['lyric'].tolist()) #classify all unreleased 'genre-less' songs"
      ],
      "execution_count": 6,
      "outputs": [
        {
          "output_type": "execute_result",
          "data": {
            "text/plain": [
              "{'pred': ['country',\n",
              "  'country',\n",
              "  'country',\n",
              "  'country',\n",
              "  'country',\n",
              "  'pop',\n",
              "  'country',\n",
              "  'country',\n",
              "  'pop',\n",
              "  'pop',\n",
              "  'country',\n",
              "  'country',\n",
              "  'alternative',\n",
              "  'pop',\n",
              "  'country',\n",
              "  'country',\n",
              "  'country',\n",
              "  'country',\n",
              "  'country',\n",
              "  'country',\n",
              "  'alternative',\n",
              "  'country',\n",
              "  'country',\n",
              "  'alternative',\n",
              "  'country',\n",
              "  'country',\n",
              "  'country',\n",
              "  'country',\n",
              "  'country',\n",
              "  'pop',\n",
              "  'country',\n",
              "  'country',\n",
              "  'country',\n",
              "  'country',\n",
              "  'pop',\n",
              "  'country',\n",
              "  'alternative',\n",
              "  'country',\n",
              "  'country',\n",
              "  'country',\n",
              "  'pop',\n",
              "  'pop',\n",
              "  'country',\n",
              "  'alternative',\n",
              "  'alternative',\n",
              "  'country',\n",
              "  'alternative',\n",
              "  'country',\n",
              "  'alternative',\n",
              "  'country',\n",
              "  'country',\n",
              "  'country',\n",
              "  'country',\n",
              "  'country',\n",
              "  'country',\n",
              "  'alternative',\n",
              "  'pop',\n",
              "  'alternative',\n",
              "  'country',\n",
              "  'pop',\n",
              "  'country',\n",
              "  'country',\n",
              "  'country',\n",
              "  'country',\n",
              "  'country',\n",
              "  'country',\n",
              "  'pop',\n",
              "  'country',\n",
              "  'pop',\n",
              "  'country',\n",
              "  'country',\n",
              "  'country',\n",
              "  'pop',\n",
              "  'pop',\n",
              "  'country',\n",
              "  'alternative',\n",
              "  'country',\n",
              "  'country',\n",
              "  'pop',\n",
              "  'country',\n",
              "  'country',\n",
              "  'country',\n",
              "  'country',\n",
              "  'pop',\n",
              "  'alternative',\n",
              "  'pop',\n",
              "  'country',\n",
              "  'alternative',\n",
              "  'alternative'],\n",
              " 'proba':     alternative   country       pop\n",
              " 0      0.109640  0.784222  0.106138\n",
              " 1      0.450011  0.528828  0.021161\n",
              " 2      0.151772  0.463712  0.384516\n",
              " 3      0.233011  0.543622  0.223366\n",
              " 4      0.283882  0.437059  0.279059\n",
              " ..          ...       ...       ...\n",
              " 84     0.494410  0.446861  0.058729\n",
              " 85     0.224345  0.327875  0.447780\n",
              " 86     0.005897  0.989748  0.004355\n",
              " 87     0.612782  0.217062  0.170156\n",
              " 88     0.358089  0.306496  0.335415\n",
              " \n",
              " [89 rows x 3 columns]}"
            ]
          },
          "metadata": {
            "tags": []
          },
          "execution_count": 6
        }
      ]
    },
    {
      "cell_type": "code",
      "metadata": {
        "colab": {
          "base_uri": "https://localhost:8080/",
          "height": 264,
          "referenced_widgets": [
            "8f72453e8a464a698d894aeb62c7ddff",
            "041c613706934067a1a5247b946c4e0f",
            "9d3e695a906843fca40c1641c802a9f9",
            "b031d962c2d04d219528c10b667efce2",
            "0ab8d5ad20fa4b67bcadccac0c805a86",
            "d5e4b7af18324b5f897ef1721fb29cb6",
            "afd7d2e28f204e0ba6a1e66dd3f8faa1",
            "f2f8cf85f9734f08aedbdb2fc57fe003",
            "9682b3a578f64007934879670d237538",
            "d8ed8d2959654c1ebd9cfa8803a089c8",
            "95126045b8f046aa8a1ea5ccdbe5ae6b",
            "99d16352bfd744d7a609287789f78179",
            "d0c79d39e2644fd2a3dfe499e1b45a42",
            "6630587b997a415d8d86a144ca36fa9d",
            "b559ad275df74bdcb24745c74d32b438",
            "fc269a6b87ae41219555a25b63fb1341",
            "70ad242941ee4409aae20578f01c50c3",
            "a40944765001466dbb34459343597c58",
            "b390666c9ac1426fbb0f45894e8f1cf3",
            "4be7709eda604dc6b5cf006dd7fca312",
            "520148112b17484792a3cad5f9206b84",
            "5ae2aee5c256458583a09d8590dfae7a",
            "a0bb20f8fb504cb9afc460d2ac8eca37",
            "5e9846d54a2b40d39a92b66e7c67a672",
            "0d769e67f1f64e429a59d7f26da414da",
            "e1becb8178de40beb363dce3a95cfaf9",
            "c4ba510a508442fcaca0e9cb6742027f",
            "4ac575d2deca44278aa7808a87f0816f",
            "2fd809526f89407093371d34a88f7604",
            "0beda50bcaa740e6a809ca1429e04002",
            "d0f1a9bfe4204c5b895b67f4de6c59c2",
            "6a7f290ccf534c18ab3019a11706bb76"
          ]
        },
        "id": "b3YF2my79qfL",
        "outputId": "0b4fddcb-ce3f-476e-da4c-083dce54ddec"
      },
      "source": [
        "#Text Generators\n",
        "\n",
        "gens = dict()\n",
        "for g, df in source_data.groupby('genre'):\n",
        "    model_kwargs = {}\n",
        "    gen = NLP(\n",
        "        overwrite      = False,\n",
        "        max_seq_length = 64,\n",
        "        base           = AutoModelForCausalLM, \n",
        "        checkpoint     = 'distilgpt2',\n",
        "        task           = 'text-generation',\n",
        "        path           = root_path,\n",
        "        path_model     = root_path + f'{g}/',\n",
        "        kwargs         = model_kwargs)\n",
        "\n",
        "    data_kwargs = {}\n",
        "    gen.make_dataset(\n",
        "        source_data   = source_data,\n",
        "        text_col      = 'lyric',\n",
        "        label_col     = 'genre',\n",
        "        holdout_frac  = 0.0,\n",
        "        validate_frac = 0.2,\n",
        "        )\n",
        "\n",
        "    train_kwargs = {\n",
        "        'num_train_epochs'            : 400,\n",
        "        'per_device_train_batch_size' : 64,\n",
        "        'learning_rate'               : 1e-5,\n",
        "        'warmup_steps'                : 600,\n",
        "        'save_strategy'               : 'no',\n",
        "    }\n",
        "\n",
        "    gen.train(kwargs=train_kwargs)\n",
        "    gens[g] = gen"
      ],
      "execution_count": 7,
      "outputs": [
        {
          "output_type": "display_data",
          "data": {
            "application/vnd.jupyter.widget-view+json": {
              "model_id": "8f72453e8a464a698d894aeb62c7ddff",
              "version_minor": 0,
              "version_major": 2
            },
            "text/plain": [
              "HBox(children=(FloatProgress(value=0.0, description='Downloading', max=762.0, style=ProgressStyle(description_…"
            ]
          },
          "metadata": {
            "tags": []
          }
        },
        {
          "output_type": "stream",
          "text": [
            "\n"
          ],
          "name": "stdout"
        },
        {
          "output_type": "display_data",
          "data": {
            "application/vnd.jupyter.widget-view+json": {
              "model_id": "9682b3a578f64007934879670d237538",
              "version_minor": 0,
              "version_major": 2
            },
            "text/plain": [
              "HBox(children=(FloatProgress(value=0.0, description='Downloading', max=1042301.0, style=ProgressStyle(descript…"
            ]
          },
          "metadata": {
            "tags": []
          }
        },
        {
          "output_type": "stream",
          "text": [
            "\n"
          ],
          "name": "stdout"
        },
        {
          "output_type": "display_data",
          "data": {
            "application/vnd.jupyter.widget-view+json": {
              "model_id": "70ad242941ee4409aae20578f01c50c3",
              "version_minor": 0,
              "version_major": 2
            },
            "text/plain": [
              "HBox(children=(FloatProgress(value=0.0, description='Downloading', max=456318.0, style=ProgressStyle(descripti…"
            ]
          },
          "metadata": {
            "tags": []
          }
        },
        {
          "output_type": "stream",
          "text": [
            "\n"
          ],
          "name": "stdout"
        },
        {
          "output_type": "display_data",
          "data": {
            "application/vnd.jupyter.widget-view+json": {
              "model_id": "0d769e67f1f64e429a59d7f26da414da",
              "version_minor": 0,
              "version_major": 2
            },
            "text/plain": [
              "HBox(children=(FloatProgress(value=0.0, description='Downloading', max=1355256.0, style=ProgressStyle(descript…"
            ]
          },
          "metadata": {
            "tags": []
          }
        },
        {
          "output_type": "stream",
          "text": [
            "\n",
            "Using existing model at /content/drive/MyDrive/NLP/tswift/alternative\n",
            "Using existing model at /content/drive/MyDrive/NLP/tswift/country\n",
            "Using existing model at /content/drive/MyDrive/NLP/tswift/pop\n"
          ],
          "name": "stdout"
        }
      ]
    },
    {
      "cell_type": "code",
      "metadata": {
        "colab": {
          "base_uri": "https://localhost:8080/",
          "height": 551
        },
        "id": "LxgKVUas_bBP",
        "outputId": "88f8cb03-9bad-4c09-d8a6-4c9c39c51979"
      },
      "source": [
        "# Fun Interactive Generator\n",
        "# Enter a prompt (line 8), choose your genre (line 6), and see what happens\n",
        "\n",
        "gen_kwargs = {}\n",
        "\n",
        "gen = gens['pop']\n",
        "\n",
        "prompt = 'when i think about you'\n",
        "gen.generate(\n",
        "    prompt,\n",
        "    max_new_tokens=20,\n",
        "    target_word_count=100,\n",
        "    print_steps=True,\n",
        "    kwargs=gen_kwargs)"
      ],
      "execution_count": 13,
      "outputs": [
        {
          "output_type": "display_data",
          "data": {
            "application/vnd.google.colaboratory.intrinsic+json": {
              "type": "string"
            },
            "text/plain": [
              "\"when i think about you down But all here And your face When it too Now I'm so enough All there was just like\""
            ]
          },
          "metadata": {
            "tags": []
          }
        },
        {
          "output_type": "stream",
          "text": [
            "word count = 24\n",
            "\n"
          ],
          "name": "stdout"
        },
        {
          "output_type": "display_data",
          "data": {
            "application/vnd.google.colaboratory.intrinsic+json": {
              "type": "string"
            },
            "text/plain": [
              "\"when i think about you down But all here And your face When it too Now I'm so enough All there was just like a little street song at myself to look in the reason for something bad tonight Cause he could be with\""
            ]
          },
          "metadata": {
            "tags": []
          }
        },
        {
          "output_type": "stream",
          "text": [
            "word count = 44\n",
            "\n"
          ],
          "name": "stdout"
        },
        {
          "output_type": "display_data",
          "data": {
            "application/vnd.google.colaboratory.intrinsic+json": {
              "type": "string"
            },
            "text/plain": [
              "\"when i think about you down But all here And your face When it too Now I'm so enough All there was just like a little street song at myself to look in the reason for something bad tonight Cause he could be with him You can't see? It's no one who got us girl, do again and coming good\""
            ]
          },
          "metadata": {
            "tags": []
          }
        },
        {
          "output_type": "stream",
          "text": [
            "word count = 60\n",
            "\n"
          ],
          "name": "stdout"
        },
        {
          "output_type": "display_data",
          "data": {
            "application/vnd.google.colaboratory.intrinsic+json": {
              "type": "string"
            },
            "text/plain": [
              "\"when i think about you down But all here And your face When it too Now I'm so enough All there was just like a little street song at myself to look in the reason for something bad tonight Cause he could be with him You can't see? It's no one who got us girl, do again and coming good moment Ooh (Stay He won hear she're com only know why say In on our best phone\""
            ]
          },
          "metadata": {
            "tags": []
          }
        },
        {
          "output_type": "stream",
          "text": [
            "word count = 77\n",
            "\n"
          ],
          "name": "stdout"
        },
        {
          "output_type": "display_data",
          "data": {
            "application/vnd.google.colaboratory.intrinsic+json": {
              "type": "string"
            },
            "text/plain": [
              "\"when i think about you down But all here And your face When it too Now I'm so enough All there was just like a little street song at myself to look in the reason for something bad tonight Cause he could be with him You can't see? It's no one who got us girl, do again and coming good moment Ooh (Stay He won hear she're com only know why say In on our best phone is not think I've been way home And we'll turn down your name Your eyes) The first\""
            ]
          },
          "metadata": {
            "tags": []
          }
        },
        {
          "output_type": "stream",
          "text": [
            "word count = 94\n",
            "\n"
          ],
          "name": "stdout"
        },
        {
          "output_type": "display_data",
          "data": {
            "application/vnd.google.colaboratory.intrinsic+json": {
              "type": "string"
            },
            "text/plain": [
              "\"when i think about you down But all here And your face When it too Now I'm so enough All there was just like a little street song at myself to look in the reason for something bad tonight Cause he could be with him You can't see? It's no one who got us girl, do again and coming good moment Ooh (Stay He won hear she're com only know why say In on our best phone is not think I've been way home And we'll turn down your name Your eyes) The first goes you want that keeps me Oh-ah time of come back together the same world all Don still\""
            ]
          },
          "metadata": {
            "tags": []
          }
        },
        {
          "output_type": "stream",
          "text": [
            "word count = 112\n",
            "\n"
          ],
          "name": "stdout"
        },
        {
          "output_type": "execute_result",
          "data": {
            "application/vnd.google.colaboratory.intrinsic+json": {
              "type": "string"
            },
            "text/plain": [
              "\"when i think about you down But all here And your face When it too Now I'm so enough All there was just like a little street song at myself to look in the reason for something bad tonight Cause he could be with him You can't see? It's no one who got us girl, do again and coming good moment Ooh (Stay He won hear she're com only know why say In on our best phone is not think I've been way home And we'll turn down your name Your eyes) The first goes you want that keeps me Oh-ah time of come back together the same world all Don still\""
            ]
          },
          "metadata": {
            "tags": []
          },
          "execution_count": 13
        }
      ]
    },
    {
      "cell_type": "code",
      "metadata": {
        "colab": {
          "base_uri": "https://localhost:8080/",
          "height": 419
        },
        "id": "L8UMJCsq_seq",
        "outputId": "9328f08e-ef93-4453-ebaa-bd3c59734929"
      },
      "source": [
        "# Classify your new song\n",
        "\n",
        "d['proba']"
      ],
      "execution_count": 14,
      "outputs": [
        {
          "output_type": "execute_result",
          "data": {
            "text/html": [
              "<div>\n",
              "<style scoped>\n",
              "    .dataframe tbody tr th:only-of-type {\n",
              "        vertical-align: middle;\n",
              "    }\n",
              "\n",
              "    .dataframe tbody tr th {\n",
              "        vertical-align: top;\n",
              "    }\n",
              "\n",
              "    .dataframe thead th {\n",
              "        text-align: right;\n",
              "    }\n",
              "</style>\n",
              "<table border=\"1\" class=\"dataframe\">\n",
              "  <thead>\n",
              "    <tr style=\"text-align: right;\">\n",
              "      <th></th>\n",
              "      <th>alternative</th>\n",
              "      <th>country</th>\n",
              "      <th>pop</th>\n",
              "    </tr>\n",
              "  </thead>\n",
              "  <tbody>\n",
              "    <tr>\n",
              "      <th>0</th>\n",
              "      <td>0.160816</td>\n",
              "      <td>0.714678</td>\n",
              "      <td>0.124506</td>\n",
              "    </tr>\n",
              "    <tr>\n",
              "      <th>1</th>\n",
              "      <td>0.156790</td>\n",
              "      <td>0.826709</td>\n",
              "      <td>0.016501</td>\n",
              "    </tr>\n",
              "    <tr>\n",
              "      <th>2</th>\n",
              "      <td>0.177989</td>\n",
              "      <td>0.005639</td>\n",
              "      <td>0.816373</td>\n",
              "    </tr>\n",
              "    <tr>\n",
              "      <th>3</th>\n",
              "      <td>0.533410</td>\n",
              "      <td>0.277122</td>\n",
              "      <td>0.189468</td>\n",
              "    </tr>\n",
              "    <tr>\n",
              "      <th>4</th>\n",
              "      <td>0.004006</td>\n",
              "      <td>0.005451</td>\n",
              "      <td>0.990543</td>\n",
              "    </tr>\n",
              "    <tr>\n",
              "      <th>...</th>\n",
              "      <td>...</td>\n",
              "      <td>...</td>\n",
              "      <td>...</td>\n",
              "    </tr>\n",
              "    <tr>\n",
              "      <th>167</th>\n",
              "      <td>0.564811</td>\n",
              "      <td>0.140985</td>\n",
              "      <td>0.294203</td>\n",
              "    </tr>\n",
              "    <tr>\n",
              "      <th>168</th>\n",
              "      <td>0.018395</td>\n",
              "      <td>0.967997</td>\n",
              "      <td>0.013608</td>\n",
              "    </tr>\n",
              "    <tr>\n",
              "      <th>169</th>\n",
              "      <td>0.122689</td>\n",
              "      <td>0.061269</td>\n",
              "      <td>0.816042</td>\n",
              "    </tr>\n",
              "    <tr>\n",
              "      <th>170</th>\n",
              "      <td>0.070545</td>\n",
              "      <td>0.902166</td>\n",
              "      <td>0.027290</td>\n",
              "    </tr>\n",
              "    <tr>\n",
              "      <th>171</th>\n",
              "      <td>0.621726</td>\n",
              "      <td>0.264510</td>\n",
              "      <td>0.113763</td>\n",
              "    </tr>\n",
              "  </tbody>\n",
              "</table>\n",
              "<p>172 rows × 3 columns</p>\n",
              "</div>"
            ],
            "text/plain": [
              "     alternative   country       pop\n",
              "0       0.160816  0.714678  0.124506\n",
              "1       0.156790  0.826709  0.016501\n",
              "2       0.177989  0.005639  0.816373\n",
              "3       0.533410  0.277122  0.189468\n",
              "4       0.004006  0.005451  0.990543\n",
              "..           ...       ...       ...\n",
              "167     0.564811  0.140985  0.294203\n",
              "168     0.018395  0.967997  0.013608\n",
              "169     0.122689  0.061269  0.816042\n",
              "170     0.070545  0.902166  0.027290\n",
              "171     0.621726  0.264510  0.113763\n",
              "\n",
              "[172 rows x 3 columns]"
            ]
          },
          "metadata": {
            "tags": []
          },
          "execution_count": 14
        }
      ]
    },
    {
      "cell_type": "code",
      "metadata": {
        "colab": {
          "base_uri": "https://localhost:8080/",
          "height": 1000
        },
        "id": "4pMNMdZ1AS8W",
        "outputId": "2b97554c-c5fa-42a0-83f5-3b29f68f3ac4"
      },
      "source": [
        "# Generators fed holdout songs, then classified\n",
        "\n",
        "def smart_truncate(content, length=40, suffix=' '):\n",
        "    if len(content) <= length:\n",
        "        return content\n",
        "    else:\n",
        "        return ' '.join(content[:length+1].split(' ')[0:-1]) + suffix\n",
        "\n",
        "min_words = 500  # stop when this many words are in text\n",
        "gen_kwargs = {'print_steps'        : False}\n",
        "\n",
        "\n",
        "gen_song_list = []\n",
        "true_labels = []\n",
        "pred_labels = []\n",
        "\n",
        "for x in holdout_set['lyric']:\n",
        "    new_songs = dict()\n",
        "    line = smart_truncate(x)\n",
        "    for g, gen in gens.items():\n",
        "        print(g)\n",
        "        text = line\n",
        "        for i in range(10):  # run generate up to this many times to try to get min_words\n",
        "            text = gen.generate(text, **gen_kwargs)  # call generate\n",
        "            L = len(text.split(\" \"))  # compute number of words by splitting on spaces\n",
        "            #if print_while_generating:\n",
        "            #    display(text)\n",
        "            #    print()\n",
        "            if L >= min_words:  # stop if enough words\n",
        "                break\n",
        "        new_songs[g] = text\n",
        "        label = clf.classify(line)['pred']\n",
        "        gen_song_list.append(text)\n",
        "        true_labels.append(g)\n",
        "        pred_labels.append(label)  # classify\n",
        "        display(text)\n",
        "        print(f'{g} took {i} iterations to get length {L}: classification {label}\\n\\n')\n",
        "        #print(labels)\n",
        "        #print(new_songs)\n",
        "    #results = pd.DataFrame(gen_song_list, columns=labels)\n",
        "    #print(results)"
      ],
      "execution_count": 15,
      "outputs": [
        {
          "output_type": "stream",
          "text": [
            "alternative\n"
          ],
          "name": "stdout"
        },
        {
          "output_type": "display_data",
          "data": {
            "application/vnd.google.colaboratory.intrinsic+json": {
              "type": "string"
            },
            "text/plain": [
              "'He said, \"I got me a nice new apartment  It\\'s like I can\\'t take your mind), we out of she should be waiting on the middle through this is our time Cause that was mad When you and baby why darling You say my daddy rains in an little front They\\'re gorgeous it could her forever for people? Baby- what everything And when they never thought there don would let me down (I\\'m nothing a feeling, getaway car) I just need to come back friend The way home gonna make us), have But we\\'d be here you can\\'t know so long oh Oh who\\'s not at night You and take their sick It was'"
            ]
          },
          "metadata": {
            "tags": []
          }
        },
        {
          "output_type": "stream",
          "text": [
            "alternative took 9 iterations to get length 115: classification ['pop']\n",
            "\n",
            "\n",
            "country\n"
          ],
          "name": "stdout"
        },
        {
          "output_type": "display_data",
          "data": {
            "application/vnd.google.colaboratory.intrinsic+json": {
              "type": "string"
            },
            "text/plain": [
              "'He said, \"I got me a nice new apartment  day like that I say he knows Cause you just want to see\" But there\\'s still over never go down He\\'ll be an best if we\\'m beautiful of this ain\\'t have the very mind And they let it goes Baby-ah Don blood Only So oh time was\\'ve been then water will get me in a man known home dress so many away All my own night (Oh, ha A!) again When you\\'re not his front car I know what she did that fly It say Now now Ooh) But There\\'s who do don\\'t see baby one up with them is look at this love'"
            ]
          },
          "metadata": {
            "tags": []
          }
        },
        {
          "output_type": "stream",
          "text": [
            "country took 9 iterations to get length 114: classification ['pop']\n",
            "\n",
            "\n",
            "pop\n"
          ],
          "name": "stdout"
        },
        {
          "output_type": "display_data",
          "data": {
            "application/vnd.google.colaboratory.intrinsic+json": {
              "type": "string"
            },
            "text/plain": [
              "'He said, \"I got me a nice new apartment  (Oh) Cause I\\'m just keep that it\\'s gonna be enough to take the only thing one who Come you love for? But we\\'d do The dream of stay-ooh Ohh And if their littlein\\' in fun Don\\'t know there was clear No get no baby Only bought this at my name, oh There didn tell me bad light a beautiful again Baby off\\'re out has got all good\" I need to even say your eyes (This be alright \\'cause he\\'s not our love is too If you loved are the song You can feel like everything This won so door With girl'"
            ]
          },
          "metadata": {
            "tags": []
          }
        },
        {
          "output_type": "stream",
          "text": [
            "pop took 9 iterations to get length 111: classification ['pop']\n",
            "\n",
            "\n",
            "alternative\n"
          ],
          "name": "stdout"
        },
        {
          "output_type": "display_data",
          "data": {
            "application/vnd.google.colaboratory.intrinsic+json": {
              "type": "string"
            },
            "text/plain": [
              "\"I wake up I stretch out I wonder what  on the same, how they hope you in his street Like it if a man's home of my face And our love baby) We say This is so much? But we had places (Oh-ooh So he was more would've been all can get about me When last time now Who could think there break your name Won't do this way down You're have to be sweet If us too Oh, said you by the world!ing at when I'm no one thing He cool That whoa never's so on our whole memories oh) But if we don everything is ever out a man\""
            ]
          },
          "metadata": {
            "tags": []
          }
        },
        {
          "output_type": "stream",
          "text": [
            "alternative took 9 iterations to get length 112: classification ['alternative']\n",
            "\n",
            "\n",
            "country\n"
          ],
          "name": "stdout"
        },
        {
          "output_type": "display_data",
          "data": {
            "application/vnd.google.colaboratory.intrinsic+json": {
              "type": "string"
            },
            "text/plain": [
              "\"I wake up I stretch out I wonder what  you forget that about how it, but they would be usin' to touch some my head on the best day Oh-ooh) And we're our friends But no one who's an't think girl in a new That will just like yeah Yeah hand OO blue for better string (Oh Ra Just'll tell me again died'd never said oh It was this way home What didn wait forever of you have to get enough things, say but I'm not coming up and soul Cause they don loud And when we're New little baby should be here But if he doesn with bad Now Oh-\""
            ]
          },
          "metadata": {
            "tags": []
          }
        },
        {
          "output_type": "stream",
          "text": [
            "country took 9 iterations to get length 112: classification ['alternative']\n",
            "\n",
            "\n",
            "pop\n"
          ],
          "name": "stdout"
        },
        {
          "output_type": "display_data",
          "data": {
            "application/vnd.google.colaboratory.intrinsic+json": {
              "type": "string"
            },
            "text/plain": [
              "'I wake up I stretch out I wonder what  you tell me how there\\'s too She can\\'t see she have to make it, baby So all the players It was right But now? Cause they be begging for gone when we\\'re better in love We were a beautiful night And if this time The girl You said To\\'ve been magic He know everything won just really got bad at my m good only thing that\\'ll leta oh-e head In your name What\\'s how to come back together friends get you heard what I didn\\'t look making me again (You don blood!) They say \" think She tell sorry So hey why did, everybody knows'"
            ]
          },
          "metadata": {
            "tags": []
          }
        },
        {
          "output_type": "stream",
          "text": [
            "pop took 9 iterations to get length 115: classification ['alternative']\n",
            "\n",
            "\n",
            "alternative\n"
          ],
          "name": "stdout"
        },
        {
          "output_type": "display_data",
          "data": {
            "application/vnd.google.colaboratory.intrinsic+json": {
              "type": "string"
            },
            "text/plain": [
              "\"What if ribbons and bows didn't mean a  right back, it And I'm so sick of her name to know that he was an hand It's gonna be 'cause you knew me in my rain Don Wond mine Now they were at your mom He got the other girl now What Just get him all up with our story ever break better But when no one whoa for those time When we could do is still see feel this) The night That I'd never been You're a long it on us back of everything that If? Come right here\""
            ]
          },
          "metadata": {
            "tags": []
          }
        },
        {
          "output_type": "stream",
          "text": [
            "alternative took 9 iterations to get length 100: classification ['alternative']\n",
            "\n",
            "\n",
            "country\n"
          ],
          "name": "stdout"
        },
        {
          "output_type": "display_data",
          "data": {
            "application/vnd.google.colaboratory.intrinsic+json": {
              "type": "string"
            },
            "text/plain": [
              "'What if ribbons and bows didn\\'t mean a  And I were here? Cause now would be so gorgeous they have to see it\\'s what she better there in the middle of your name We\\'d come back through my head out It was too late Or just want, let you don� whole first-ah You might think that Come on But nobody watch me like this way only one whoa Oh feeling wishing star easy He feel when he off said \"I knows I say The best movie other And they\\'ll see baby Ooh This won\\'t look at every\\'s some dancing known It\\'d come back of all your phone \\'cause we\\'re gone Don forget'"
            ]
          },
          "metadata": {
            "tags": []
          }
        },
        {
          "output_type": "stream",
          "text": [
            "country took 9 iterations to get length 113: classification ['alternative']\n",
            "\n",
            "\n",
            "pop\n"
          ],
          "name": "stdout"
        },
        {
          "output_type": "display_data",
          "data": {
            "application/vnd.google.colaboratory.intrinsic+json": {
              "type": "string"
            },
            "text/plain": [
              "'What if ribbons and bows didn\\'t mean a ? And I\\'m so on your street, but my mind But now it\\'s is gonna be here All you\\'ve thought \\'cause they\\'ll leave That all of just like this way home You say To come back to see them in our face My day can feel how we\\'d never would wanna touch one whoa he The only me We\\'re the reason for some thing at once eyes and over Oh-ah Don\\'t even know away And if I donWhat a love body \"I watched there\\'s got bad keeps your hand It was no kind of running on all her beautiful my guitar Did you\\'ll be'"
            ]
          },
          "metadata": {
            "tags": []
          }
        },
        {
          "output_type": "stream",
          "text": [
            "pop took 9 iterations to get length 112: classification ['alternative']\n",
            "\n",
            "\n",
            "alternative\n"
          ],
          "name": "stdout"
        },
        {
          "output_type": "display_data",
          "data": {
            "application/vnd.google.colaboratory.intrinsic+json": {
              "type": "string"
            },
            "text/plain": [
              "\"Please take down the mistletoe Because I  that And all something of my time using too Even as his friends to a long, it's not waiting for quite That could've been good But her like he was alone We had nothing at me gave home You're still better in this way they know when would if you did we were dancing (I didn't want things) Cause who will never think back every last down The miss the prey much I'd out of time He said about so sickes It she'll be us my heart darling-oh, and that's getting house on front other onea he ain could do And now girl Oh\""
            ]
          },
          "metadata": {
            "tags": []
          }
        },
        {
          "output_type": "stream",
          "text": [
            "alternative took 9 iterations to get length 112: classification ['alternative']\n",
            "\n",
            "\n",
            "country\n"
          ],
          "name": "stdout"
        },
        {
          "output_type": "display_data",
          "data": {
            "application/vnd.google.colaboratory.intrinsic+json": {
              "type": "string"
            },
            "text/plain": [
              "\"Please take down the mistletoe Because I  of my man, but you to your name and his heart And there's like a friend She was in things that tell all But if he know it from some day right You're no one who can't do now Like they didn nothing when we've been then go We could be yours All this night (Ooh- will love first string He got beautiful smile get me waiting for The way home) time I'm hard gave so long and take my mind, the only baby like bad song Oh But you're slow Oh! not every heart day's mine And if he'll tell them about a\""
            ]
          },
          "metadata": {
            "tags": []
          }
        },
        {
          "output_type": "stream",
          "text": [
            "country took 9 iterations to get length 112: classification ['alternative']\n",
            "\n",
            "\n",
            "pop\n"
          ],
          "name": "stdout"
        },
        {
          "output_type": "display_data",
          "data": {
            "application/vnd.google.colaboratory.intrinsic+json": {
              "type": "string"
            },
            "text/plain": [
              "\"Please take down the mistletoe Because I  into my heart now And they would've been waiting for me in your face You should be smile, ah But if it all at once Cause you have nice thing that was a love So here just like one whoa oh-ah's yours to break and wanna know why we'd get so good car The way home It wasn't see? Baby What not bad girl with the floor are things (me In there in this dress New best friend of his hands got our old wrong YourI said look go) And he feels'll be your party, you're sick little world mine can should drive make it\""
            ]
          },
          "metadata": {
            "tags": []
          }
        },
        {
          "output_type": "stream",
          "text": [
            "pop took 9 iterations to get length 113: classification ['alternative']\n",
            "\n",
            "\n",
            "alternative\n"
          ],
          "name": "stdout"
        },
        {
          "output_type": "display_data",
          "data": {
            "application/vnd.google.colaboratory.intrinsic+json": {
              "type": "string"
            },
            "text/plain": [
              "\"I want it all to appear before my eyes  as they are you like I can't even make the way we were a fire It's ever one thing They know what he did, say Just mad But baby was good? Cause every night with our dream home You're still love In your face in perfectly of his feeling come back together Come on me so sick and run Don knew to all this time So oh-ho) We could My hand by a long And I'm just can't thought who you've got her bad now that we are never let it's how He says the players they want 'em again break (H right here But if\""
            ]
          },
          "metadata": {
            "tags": []
          }
        },
        {
          "output_type": "stream",
          "text": [
            "alternative took 9 iterations to get length 116: classification ['alternative']\n",
            "\n",
            "\n",
            "country\n"
          ],
          "name": "stdout"
        },
        {
          "output_type": "display_data",
          "data": {
            "application/vnd.google.colaboratory.intrinsic+json": {
              "type": "string"
            },
            "text/plain": [
              "\"I want it all to appear before my eyes  and I'm sorry Don't just out And now? You said the way he knows that's not feeling like coming there a really know by me- 'cause if she didn feel about He says, baby (lights can so) But you're down in this night In our'd have friends beautiful SoI see here We'll find front of wrong girl at midnight do The dark first time we say drive no one who are never let things should be think It off around Baby just want to bad party Only's a little if I'm with their place day another've know everything was some last far as but\""
            ]
          },
          "metadata": {
            "tags": []
          }
        },
        {
          "output_type": "stream",
          "text": [
            "country took 9 iterations to get length 114: classification ['alternative']\n",
            "\n",
            "\n",
            "pop\n"
          ],
          "name": "stdout"
        },
        {
          "output_type": "display_data",
          "data": {
            "application/vnd.google.colaboratory.intrinsic+json": {
              "type": "string"
            },
            "text/plain": [
              "\"I want it all to appear before my eyes  I'd play And you go So us back and get the door Now Oh, goes down your face That was a girl with once Don't need that? All what they'll make up Ooh-ah You should've still take me home (Olo every time of summer he can we're so sick to say it's been oh Baby Cause baby like this way W everything love) They don some first, got my favorite guitar The dress enoughout friends But you could hurt I know how long A So in a little that them car as she ain't want when if at sparks tell him'm only\""
            ]
          },
          "metadata": {
            "tags": []
          }
        },
        {
          "output_type": "stream",
          "text": [
            "pop took 9 iterations to get length 112: classification ['alternative']\n",
            "\n",
            "\n",
            "alternative\n"
          ],
          "name": "stdout"
        },
        {
          "output_type": "display_data",
          "data": {
            "application/vnd.google.colaboratory.intrinsic+json": {
              "type": "string"
            },
            "text/plain": [
              "\"Baby, this is what you came for  here We're been in the best thing that we got a new-ah oh) You'll be alone And I can't know how it's not my heart? Cause baby never do In one when but first Ooh Oh Yeah (Oh Now Baby So someday why she'd go back now yeah Like him again, they let me so he used to make this love It don call Is T was perfect and take better we're the way your eyes-ah things forever them home Come on our song down be in it works That's gone I'm doing with you burning heart! Cause baby came If something\""
            ]
          },
          "metadata": {
            "tags": []
          }
        },
        {
          "output_type": "stream",
          "text": [
            "alternative took 9 iterations to get length 110: classification ['pop']\n",
            "\n",
            "\n",
            "country\n"
          ],
          "name": "stdout"
        },
        {
          "output_type": "display_data",
          "data": {
            "application/vnd.google.colaboratory.intrinsic+json": {
              "type": "string"
            },
            "text/plain": [
              "\"Baby, this is what you came for  that I'm not my name to a world And she's the silence and baby are off your heart You know about me If our girls do was in every time Who got sparks it never say But no one whoa-oh This'll dance It goes with lost get him out of if he heard daylight, there is nothing Come back My mean this hands made up at home (We by kind like Ouh Only theirah's the te had a movie that we should've been waiting for freedom will He said Cause you could take me hate in and have an favorite face) We're just wait forever where\""
            ]
          },
          "metadata": {
            "tags": []
          }
        },
        {
          "output_type": "stream",
          "text": [
            "country took 9 iterations to get length 114: classification ['pop']\n",
            "\n",
            "\n",
            "pop\n"
          ],
          "name": "stdout"
        },
        {
          "output_type": "display_data",
          "data": {
            "application/vnd.google.colaboratory.intrinsic+json": {
              "type": "string"
            },
            "text/plain": [
              "'Baby, this is what you came for  me But I think that it was a long thing Who are so sick of them in the night And when he\\'s over and if we\\'d be look at my door Just just like an out your name It says still say home You smile again When they\\'ll show she said feeling wanna feel love The only one baby, \"ps That always read right there didn\\'t help coming around She donHeM\" If I want you do from what old things that So are so happy it off know back for not our new We\\'re the whole m eye And this heart\\'s like me Hey But Ooh-ah'"
            ]
          },
          "metadata": {
            "tags": []
          }
        },
        {
          "output_type": "stream",
          "text": [
            "pop took 9 iterations to get length 114: classification ['pop']\n",
            "\n",
            "\n",
            "alternative\n"
          ],
          "name": "stdout"
        },
        {
          "output_type": "display_data",
          "data": {
            "application/vnd.google.colaboratory.intrinsic+json": {
              "type": "string"
            },
            "text/plain": [
              "\"I don't think that passenger seat Has  And we heard This is a fire time As I'm not like the dark of all never gonna be anything The last night (Oh) Oh, oh-oh as it's through me up But why can find who you're sorry again Just Cause baby was too far It would've got so good dress We say one to let You know then will remember this love when an old but with front door), I'm just down Come on the best cold T our heart of your name To go right here we could ever had And it off what are out Oh-oh, that friends like So call all my\""
            ]
          },
          "metadata": {
            "tags": []
          }
        },
        {
          "output_type": "stream",
          "text": [
            "alternative took 9 iterations to get length 114: classification ['country']\n",
            "\n",
            "\n",
            "country\n"
          ],
          "name": "stdout"
        },
        {
          "output_type": "display_data",
          "data": {
            "application/vnd.google.colaboratory.intrinsic+json": {
              "type": "string"
            },
            "text/plain": [
              "'I don\\'t think that passenger seat Has  never let you Cause I can just a girl (And we\\'ll be the dark So in her everything Just watch your life goes to blame Don In me) And when he\\'s all want? You\\'re not my guitar The\\'ve been waiting for light of this thing and coming at once It got it rains \\'em is one whoa oh-oh, \"No gave our other side little back every time ah you\\'ll be usin\\' I loved baby smile But if honey (I\\'m the world as we\\'d have Cause there\\'s never feel your soul\" And that night Oh) Baby Oah body'"
            ]
          },
          "metadata": {
            "tags": []
          }
        },
        {
          "output_type": "stream",
          "text": [
            "country took 9 iterations to get length 105: classification ['country']\n",
            "\n",
            "\n",
            "pop\n"
          ],
          "name": "stdout"
        },
        {
          "output_type": "display_data",
          "data": {
            "application/vnd.google.colaboratory.intrinsic+json": {
              "type": "string"
            },
            "text/plain": [
              "\"I don't think that passenger seat Has  I can tell you go? He's why he come back to be the man For how this love, never (Oh) You're being my heart Ooh), look at me In a only one whoa And now we were in some time whenrops on all sorry should've remember so first string The lights got bad-ah will known We'll find that beautiful No old down They know Oh This is theirbreak way I'm the last's too own hand of you say they go Hey and never really won't keep my eyes watch an get big But there baby good friends It was oh That\""
            ]
          },
          "metadata": {
            "tags": []
          }
        },
        {
          "output_type": "stream",
          "text": [
            "pop took 9 iterations to get length 109: classification ['country']\n",
            "\n",
            "\n",
            "alternative\n"
          ],
          "name": "stdout"
        },
        {
          "output_type": "display_data",
          "data": {
            "application/vnd.google.colaboratory.intrinsic+json": {
              "type": "string"
            },
            "text/plain": [
              "\"Wish I had concentrated They said love  that eyes back in the like a lights We were beautiful as long And then we're not new my time When our silence Oh-e, you go was Cause now If shake it's gonna be no one of us for me game (Yeah) Don't have up and an wrong It doesn out Come get My baby when good to do this Now I don’ has wanna show), they come break them if we were the rain so sick will ever did something 'cause that just've used together can make him never find a long time, but there What like whoa oh-ah You're nothing\""
            ]
          },
          "metadata": {
            "tags": []
          }
        },
        {
          "output_type": "stream",
          "text": [
            "alternative took 9 iterations to get length 110: classification ['pop']\n",
            "\n",
            "\n",
            "country\n"
          ],
          "name": "stdout"
        },
        {
          "output_type": "display_data",
          "data": {
            "application/vnd.google.colaboratory.intrinsic+json": {
              "type": "string"
            },
            "text/plain": [
              "\"Wish I had concentrated They said love  to go and ever things, the way There's mine You're just like an our song why were in your eyes on me home And over But baby It was too late for a white day let it feel so long As darling Don't know what we'll be of as there didn make they don concerned-out The night you say he knows that I'm still got this smile even prove oh bought she am, come back to my time Cause the light door Just're gone You need really one thing stupid little boy He's will never loved me again in love about right by all But then fall out (\""
            ]
          },
          "metadata": {
            "tags": []
          }
        },
        {
          "output_type": "stream",
          "text": [
            "country took 9 iterations to get length 117: classification ['pop']\n",
            "\n",
            "\n",
            "pop\n"
          ],
          "name": "stdout"
        },
        {
          "output_type": "display_data",
          "data": {
            "application/vnd.google.colaboratory.intrinsic+json": {
              "type": "string"
            },
            "text/plain": [
              "\"Wish I had concentrated They said love  to you on the world But but's his bad all gone? Can't get it feel this go and will walk away If he did something if ha, got a little say that over story of my name Baby-ah You let then good He think It everything so sickin' in an architect (This tell she was ain just felt do come even fall I wanna run live knows there him like again And when you never want to the place's gonna make coming at me now we'd these with all his hand on daylight, ah The thing that he says Cause it right here Yourlights down Let fake\""
            ]
          },
          "metadata": {
            "tags": []
          }
        },
        {
          "output_type": "stream",
          "text": [
            "pop took 9 iterations to get length 115: classification ['pop']\n",
            "\n",
            "\n",
            "alternative\n"
          ],
          "name": "stdout"
        },
        {
          "output_type": "display_data",
          "data": {
            "application/vnd.google.colaboratory.intrinsic+json": {
              "type": "string"
            },
            "text/plain": [
              "'Your beautiful eyes Stare right into  my life dress her, we used to be just never been soing The night is a place We can\\'t take this time You\\'re the best It\\'s your face And he\\'m on everything that I wanted as there gets no one fun want you see up But she could stay here baby don’-ooh who know what they\\'d said us down and make me for coming gone He have our my, but around That has so sick of heart) Was all about her forever \"Baby This love in this is the dark to do ain\\'t back And when he\\'s not enough smile She\" it'"
            ]
          },
          "metadata": {
            "tags": []
          }
        },
        {
          "output_type": "stream",
          "text": [
            "alternative took 9 iterations to get length 109: classification ['alternative']\n",
            "\n",
            "\n",
            "country\n"
          ],
          "name": "stdout"
        },
        {
          "output_type": "display_data",
          "data": {
            "application/vnd.google.colaboratory.intrinsic+json": {
              "type": "string"
            },
            "text/plain": [
              "'Your beautiful eyes Stare right into  love there\\'s not a song in the reason and over The same, \"Oh) He were been waiting girl She is no So but I\\'m an And he says My world just where you know All your name You tell me Oh-ah Your old blood But she was nothing when it knows that one thing we\\'ll never met them left my guitarps on nice keep what can\\'t even break another beautifulable, \"oh Like a few baby\" In o said him not stop at our last time We were mine of look like the phone And I want who see waiting (And this little is dancing)'"
            ]
          },
          "metadata": {
            "tags": []
          }
        },
        {
          "output_type": "stream",
          "text": [
            "country took 9 iterations to get length 111: classification ['alternative']\n",
            "\n",
            "\n",
            "pop\n"
          ],
          "name": "stdout"
        },
        {
          "output_type": "display_data",
          "data": {
            "application/vnd.google.colaboratory.intrinsic+json": {
              "type": "string"
            },
            "text/plain": [
              "\"Your beautiful eyes Stare right into  all your face, nice friends love He's over and an like a lot of my heart (What) They know why are the world for you tell me And I can't see it goes ya You want That was gonna be been She ain with them The so only one up in Just still make this first time won just he let look play But then dark long knows that way home never say but girl life's a smile So there keeps him all baby like many around our beautiful don wire and what lights\""
            ]
          },
          "metadata": {
            "tags": []
          }
        },
        {
          "output_type": "stream",
          "text": [
            "pop took 9 iterations to get length 101: classification ['alternative']\n",
            "\n",
            "\n",
            "alternative\n"
          ],
          "name": "stdout"
        },
        {
          "output_type": "display_data",
          "data": {
            "application/vnd.google.colaboratory.intrinsic+json": {
              "type": "string"
            },
            "text/plain": [
              "'Sometimes I wonder how it\\'s going to  And my car We might just keep about the first one thing better get away why\\'d never back too way out with you ever But we were on only doin\\' for she was a careless best? Forever, but fast as he says in me down Cause baby right here) Oh-oh! So I have their that they don\\'t know Baby now Come feel this love \"Oh it off picture him rains when what the one world We could be so much of those head all something looks at night if you\\'re oh (You say That\\'s gonna take my mind Why\\'d got no heart You need to'"
            ]
          },
          "metadata": {
            "tags": []
          }
        },
        {
          "output_type": "stream",
          "text": [
            "alternative took 9 iterations to get length 113: classification ['country']\n",
            "\n",
            "\n",
            "country\n"
          ],
          "name": "stdout"
        },
        {
          "output_type": "display_data",
          "data": {
            "application/vnd.google.colaboratory.intrinsic+json": {
              "type": "string"
            },
            "text/plain": [
              "'Sometimes I wonder how it\\'s going to  The long as our good and your name And if you are so we\\'re a thing? Cause they want If the night. just will more\\'t see me, oh So can leave forgiveness in my door know that\\'ll be is where baby this like an was something here by running for there said It tell him all back This wonI\\'m only one of us beautiful up I wanna make it home Oh-ah we\\'re The way let you need to love \"Oh new Yeah No no whoa on a red And now, oh our false them He really think body That they loved picture When the song at'"
            ]
          },
          "metadata": {
            "tags": []
          }
        },
        {
          "output_type": "stream",
          "text": [
            "country took 9 iterations to get length 114: classification ['country']\n",
            "\n",
            "\n",
            "pop\n"
          ],
          "name": "stdout"
        },
        {
          "output_type": "display_data",
          "data": {
            "application/vnd.google.colaboratory.intrinsic+json": {
              "type": "string"
            },
            "text/plain": [
              "\"Sometimes I wonder how it's going to  Yes, and no girl had And if you found then they know That we can do away Can't see everything right us again in your closure This is the last time It was a little said forever You're too late what people like nice things together What got their baby Cause he have been so waiting for this could take it black? that one Did let me Oh-eyed So want anything I don just's you think of girl Just know why we'll put all save style oh (Oh) And she rains the cold, ever call about places honey back my lips No then much love is how they go\""
            ]
          },
          "metadata": {
            "tags": []
          }
        },
        {
          "output_type": "stream",
          "text": [
            "pop took 9 iterations to get length 117: classification ['country']\n",
            "\n",
            "\n",
            "alternative\n"
          ],
          "name": "stdout"
        },
        {
          "output_type": "display_data",
          "data": {
            "application/vnd.google.colaboratory.intrinsic+json": {
              "type": "string"
            },
            "text/plain": [
              "\"American boy, living life as it goes  up in your name On the last best So I'm not things what you are so long time No only one Darling We need to see nothing Don't ever want no And all of me Baby knows Come back and said That's how this Now if they think then fall that we could take she'll stay star You do, mm-ah If them girl now But he live let home He was dark night you whisper for the floor is something All I'm not a little day They still hear on my mind\""
            ]
          },
          "metadata": {
            "tags": []
          }
        },
        {
          "output_type": "stream",
          "text": [
            "alternative took 9 iterations to get length 100: classification ['alternative']\n",
            "\n",
            "\n",
            "country\n"
          ],
          "name": "stdout"
        },
        {
          "output_type": "display_data",
          "data": {
            "application/vnd.google.colaboratory.intrinsic+json": {
              "type": "string"
            },
            "text/plain": [
              "'American boy, living life as it goes ? I still gave a so sick of me And Don\\'t look in your door would be \"Call He could calloh) that they\\'ll said bad girl at my heart Look what no (You but there was coming), who feels his house All the only one Who\\'s gonna make this love We\\'re know something you never say In our te again baby like sparks fly how night home \\'cause an don\\'t see in nothing I\\'m begging for their And time of me back break up If welcome now Meet or were\\'ve been good? You knew all your face They\\'ll be afraid My picture down and left'"
            ]
          },
          "metadata": {
            "tags": []
          }
        },
        {
          "output_type": "stream",
          "text": [
            "country took 9 iterations to get length 112: classification ['alternative']\n",
            "\n",
            "\n",
            "pop\n"
          ],
          "name": "stdout"
        },
        {
          "output_type": "display_data",
          "data": {
            "application/vnd.google.colaboratory.intrinsic+json": {
              "type": "string"
            },
            "text/plain": [
              "'American boy, living life as it goes ? would he could The so love him is not our door She knows I said the phone and \"Oh-oh (My this way) You\\'re It\\'s gonna be your face), That man But if there was a big other And why didn\\'t know that you got me So here up again with them home They don feel to wanna see right long boy now, say tell \\'cause we can still on all over We should go All my hand I think he\\'ll never miss it goesro were their In the best light they smile It\\'s no one love this way- wrong out of some reason There'"
            ]
          },
          "metadata": {
            "tags": []
          }
        },
        {
          "output_type": "stream",
          "text": [
            "pop took 9 iterations to get length 112: classification ['alternative']\n",
            "\n",
            "\n",
            "alternative\n"
          ],
          "name": "stdout"
        },
        {
          "output_type": "display_data",
          "data": {
            "application/vnd.google.colaboratory.intrinsic+json": {
              "type": "string"
            },
            "text/plain": [
              "'Angelina\\'s got a pretty face And really  to\\'re not up It was fire All the first time Now I\\'ll be us still show you on your name (Ah) That he did something that we couldn\\'t make themin\\' Oh, whoa oh You should\\'ve been there in my lover? Cause baby no one of good but darling-oh! But this dream too so dreams don see \"I\\'m people got a smile at once think they take it The night with me When the way then would by us over Before thing die what she found out (yeah) Now we\\'re not back to you ever better know I almost do even if'"
            ]
          },
          "metadata": {
            "tags": []
          }
        },
        {
          "output_type": "stream",
          "text": [
            "alternative took 9 iterations to get length 109: classification ['country']\n",
            "\n",
            "\n",
            "country\n"
          ],
          "name": "stdout"
        },
        {
          "output_type": "display_data",
          "data": {
            "application/vnd.google.colaboratory.intrinsic+json": {
              "type": "string"
            },
            "text/plain": [
              "\"Angelina's got a pretty face And really  ah, and I'm sorry girl Don't have to tell me no You should've been waiting at an-ah (What my hand on your name) by or know that him So we'll be not like home We could do nothing 'til the way he knows That look they play But what you're a love Cause baby of all our eyes beautiful summer boy can feel this thing everybody never said had to stop and tell everything To back now And I have some time? Ooh, babe girl A-ah (I know Now don't think about me no try live friends For string In when o\""
            ]
          },
          "metadata": {
            "tags": []
          }
        },
        {
          "output_type": "stream",
          "text": [
            "country took 9 iterations to get length 110: classification ['country']\n",
            "\n",
            "\n",
            "pop\n"
          ],
          "name": "stdout"
        },
        {
          "output_type": "display_data",
          "data": {
            "application/vnd.google.colaboratory.intrinsic+json": {
              "type": "string"
            },
            "text/plain": [
              "\"Angelina's got a pretty face And really  that I'm the last time is your name so town Like you think of day You make me The way home This can't have been song in this love, ah-oh (I know why he knows about asking their my own) where we go and end back to New again), all at down alone But if He's our lot up around Cause they'll be an baby whoa no one into never had you're fun thing Oah big of only first gave beautiful string keep? They say We were waiting was the middle My little way It would let get this dress so many't better Yeah,\""
            ]
          },
          "metadata": {
            "tags": []
          }
        },
        {
          "output_type": "stream",
          "text": [
            "pop took 9 iterations to get length 112: classification ['country']\n",
            "\n",
            "\n",
            "alternative\n"
          ],
          "name": "stdout"
        },
        {
          "output_type": "display_data",
          "data": {
            "application/vnd.google.colaboratory.intrinsic+json": {
              "type": "string"
            },
            "text/plain": [
              "\"All is quiet in the world tonight  I'm not your car Now that would say When we never keep me like a place So it was so much All my side, but he knows every best To's just for shake He are him' on usin', It and look at you have right here again We were both home And then-out of one everything they know what if more You're in his very forever night all our time If I'm dark to me now better Ooh No girl like a biga What could leave the pain was baby's notes my own (Oh ever dance) This is still see Oh, oh dead\""
            ]
          },
          "metadata": {
            "tags": []
          }
        },
        {
          "output_type": "stream",
          "text": [
            "alternative took 9 iterations to get length 111: classification ['alternative']\n",
            "\n",
            "\n",
            "country\n"
          ],
          "name": "stdout"
        },
        {
          "output_type": "display_data",
          "data": {
            "application/vnd.google.colaboratory.intrinsic+json": {
              "type": "string"
            },
            "text/plain": [
              "\"All is quiet in the world tonight  that I could just was a best out It's beenaway up, oh Oh-oh You know this song but it all your name for you got us to be time of his man And baby Can can't tell me? My see who don wanna take She knows about with once Cause right now Know she had get here Even if he said no one into my face (And there didn things look want So sorry, then I'm just in the clear best they never forget What's only thing that'll be alright We should've been a beautiful like There girl In you're an bigOh-oh)\""
            ]
          },
          "metadata": {
            "tags": []
          }
        },
        {
          "output_type": "stream",
          "text": [
            "country took 9 iterations to get length 110: classification ['alternative']\n",
            "\n",
            "\n",
            "pop\n"
          ],
          "name": "stdout"
        },
        {
          "output_type": "display_data",
          "data": {
            "application/vnd.google.colaboratory.intrinsic+json": {
              "type": "string"
            },
            "text/plain": [
              "'All is quiet in the world tonight  that I don\\'t know why he\\'s a long (Oh-ooh) You said, baby Oh if you\\'re them your life My best out Don� it what they wanna dance But there makes me do Cause but she was not New York It turns of those for mad Now tell on about this night And had to feel so sick This is \"I\\'m just everything over mind good end new their name didn\\'t even let anything I see that no one nothing back now? We\\'ll stay oh-ah dress with you smile my best gonna drive world were it\\'s Baby, are You guess they won'"
            ]
          },
          "metadata": {
            "tags": []
          }
        },
        {
          "output_type": "stream",
          "text": [
            "pop took 9 iterations to get length 109: classification ['alternative']\n",
            "\n",
            "\n",
            "alternative\n"
          ],
          "name": "stdout"
        },
        {
          "output_type": "display_data",
          "data": {
            "application/vnd.google.colaboratory.intrinsic+json": {
              "type": "string"
            },
            "text/plain": [
              "\"I live down the street in a broken down  that him is like all And I'm right again, yeah Cause we can't have away are so mad But he's never let it off Take me no eyes on my place what they did one stupid tell you want (You) When when she waiting for If ooh-o're not at 'cause Come back too My bad girl this room It was in the phone and ever know why to say that I can't do Cause baby?ing into your face who us people like a movie This is how it's been me, but heart knows from once But we used made of so he feels just\""
            ]
          },
          "metadata": {
            "tags": []
          }
        },
        {
          "output_type": "stream",
          "text": [
            "alternative took 9 iterations to get length 114: classification ['alternative']\n",
            "\n",
            "\n",
            "country\n"
          ],
          "name": "stdout"
        },
        {
          "output_type": "display_data",
          "data": {
            "application/vnd.google.colaboratory.intrinsic+json": {
              "type": "string"
            },
            "text/plain": [
              "'I live down the street in a broken down  I\\'m not to you do And that\\'s gonna be She\\'ll take my window You\\'re still at all his list Cause baby? love is like \" In paper heart goes have eyes on last time of better He was one who can\\'t know what they said no body, he knows That ah Ooh-oTeam It feels the only find this song in an breathe up never feel right off her it\\'s alone But that o She look got a little\" (O Now I\\'m sorry!) They\\'ll be And you\\'re so about baby way home So but she say everybody tell me again You need to'"
            ]
          },
          "metadata": {
            "tags": []
          }
        },
        {
          "output_type": "stream",
          "text": [
            "country took 9 iterations to get length 112: classification ['alternative']\n",
            "\n",
            "\n",
            "pop\n"
          ],
          "name": "stdout"
        },
        {
          "output_type": "display_data",
          "data": {
            "application/vnd.google.colaboratory.intrinsic+json": {
              "type": "string"
            },
            "text/plain": [
              "\"I live down the street in a broken down  I think He's to know he knows that Don't need you make an all of this (Oh) Now You won Will they let me That'll be love just even see right here The only their sky It rains like your heart Like ever stop-he And now on my mind are're never save well old way whoa world beautiful one place next around it goes the day So but she find In things I didn't know why about what you wanted a lot off They say that we can tell him\""
            ]
          },
          "metadata": {
            "tags": []
          }
        },
        {
          "output_type": "stream",
          "text": [
            "pop took 9 iterations to get length 100: classification ['alternative']\n",
            "\n",
            "\n",
            "alternative\n"
          ],
          "name": "stdout"
        },
        {
          "output_type": "display_data",
          "data": {
            "application/vnd.google.colaboratory.intrinsic+json": {
              "type": "string"
            },
            "text/plain": [
              "'Watch me go into the world today Watch  Take my old Cause I\\'m on your eyes friends are what you\\'re not a heart, baby? It\\'s dark) Come and ever want to our song He would say That goes When we knew her like one whoa And don\\'t know why he didn lose this rain What \"I might show it better The head or for the car You can feel so much but something about me then even at once\\'d be that you\\'ll have a man\" But I\\'m still fly away as If fall girl again (You always, baby) He play our place all my hand him was there\\'s never been waiting'"
            ]
          },
          "metadata": {
            "tags": []
          }
        },
        {
          "output_type": "stream",
          "text": [
            "alternative took 9 iterations to get length 112: classification ['alternative']\n",
            "\n",
            "\n",
            "country\n"
          ],
          "name": "stdout"
        },
        {
          "output_type": "display_data",
          "data": {
            "application/vnd.google.colaboratory.intrinsic+json": {
              "type": "string"
            },
            "text/plain": [
              "\"Watch me go into the world today Watch  everything that's a away with our own and talk to do That I will tell you would love now, no one thing what she was not my hairin' for is gonna be us on thoseoh Cause front of your hands're still back No girl So watch cold And they'll play smile so gorgeous You should've been waiting Just never go down the dark nothing it huh timea oh But can don't see that I'm tell me think him everybody's do need to come at our town- Oh, if you met a reason for song in this way my headro was some again When He got\""
            ]
          },
          "metadata": {
            "tags": []
          }
        },
        {
          "output_type": "stream",
          "text": [
            "country took 9 iterations to get length 114: classification ['alternative']\n",
            "\n",
            "\n",
            "pop\n"
          ],
          "name": "stdout"
        },
        {
          "output_type": "display_data",
          "data": {
            "application/vnd.google.colaboratory.intrinsic+json": {
              "type": "string"
            },
            "text/plain": [
              "'Watch me go into the world today Watch  It\\'s not down Cause you heard And I don\\'t know what they love is beautiful those things that with baby, but we\\'re so gorgeous If he knows That she was too late eyes on my own (Ah) You say \"I\\'m just find it goes there in a new girl Who tell about to take everything? What bad one who no oh at some much all an said No littleooh-ah It\\'s look gonna need anything man O heart could should\\'ve beenWhat you think She\\'ll be with him, ha A car And now we took the reason for me back our time of running'"
            ]
          },
          "metadata": {
            "tags": []
          }
        },
        {
          "output_type": "stream",
          "text": [
            "pop took 9 iterations to get length 111: classification ['alternative']\n",
            "\n",
            "\n",
            "alternative\n"
          ],
          "name": "stdout"
        },
        {
          "output_type": "display_data",
          "data": {
            "application/vnd.google.colaboratory.intrinsic+json": {
              "type": "string"
            },
            "text/plain": [
              "'Emily comes home from school Grabs onto  But so your name And it off us were still where we\\'d could be not You smile It been nice (yeah) up now Don\\'t you need to think the one There\\'s going before We\\'ll get fly I won see her here and all of this good, yeah-oh Ra down If they don stop whoa That even know why from on an would\\'ve said \"I\\'m feeling last time But we can make me So baby knows no pouring girl\"And love is not want No every only one (Yeah) There\\'s a red still You\\'re gonna be happiness oh A! And when you'"
            ]
          },
          "metadata": {
            "tags": []
          }
        },
        {
          "output_type": "stream",
          "text": [
            "alternative took 9 iterations to get length 108: classification ['alternative']\n",
            "\n",
            "\n",
            "country\n"
          ],
          "name": "stdout"
        },
        {
          "output_type": "display_data",
          "data": {
            "application/vnd.google.colaboratory.intrinsic+json": {
              "type": "string"
            },
            "text/plain": [
              "\"Emily comes home from school Grabs onto  in the away And I hope where we're my mind, but your dreams You know how you did still be waiting for forgiveness at an play it goes on everything When when they'll never knew that girl Don't see me again If this time The dress so met all string But if to think about of old don just like Now whoa oh-This love is no one They'd take them break (Oh, smile I'm not the manoh Baby He will have a cruel side It's nice right now we've been waiting there What in an back my own bad new) You're those friends Oh\""
            ]
          },
          "metadata": {
            "tags": []
          }
        },
        {
          "output_type": "stream",
          "text": [
            "country took 9 iterations to get length 112: classification ['alternative']\n",
            "\n",
            "\n",
            "pop\n"
          ],
          "name": "stdout"
        },
        {
          "output_type": "display_data",
          "data": {
            "application/vnd.google.colaboratory.intrinsic+json": {
              "type": "string"
            },
            "text/plain": [
              "\"Emily comes home from school Grabs onto  up a princess, where I miss the words that our could know why And now? There is when we'd be on my namein' still his new and everI hate it rains He's no one there in every man That you would get away But if she was just say Oh-ah Baby string at me The rain girl got this silence (Oh again We're sorry to should tell him goes the outside thing And I'm only a red song time see our phone don't know Cause they'll be She said forever never been mine that what we did an thought of them can have You took us\""
            ]
          },
          "metadata": {
            "tags": []
          }
        },
        {
          "output_type": "stream",
          "text": [
            "pop took 9 iterations to get length 114: classification ['alternative']\n",
            "\n",
            "\n",
            "alternative\n"
          ],
          "name": "stdout"
        },
        {
          "output_type": "display_data",
          "data": {
            "application/vnd.google.colaboratory.intrinsic+json": {
              "type": "string"
            },
            "text/plain": [
              "'I had to catch my breath When I saw you  this good, they want it back down You can say that we\\'re the things with your eyes in a red better That\\'s not But there would take all In whoa thing on oh So everything was wrong It rains when he\\'ll be about of us around The worst money for love darling Oh-oh If life Yeah here\" (Yeah) And baby like me off my body No one then fall \"I\\'m so tall we are I think He won\\'t know why\\'d got this time Cause have it\\'s never been We\\'re still not the way home You knew you come back to say, there just'"
            ]
          },
          "metadata": {
            "tags": []
          }
        },
        {
          "output_type": "stream",
          "text": [
            "alternative took 9 iterations to get length 114: classification ['alternative']\n",
            "\n",
            "\n",
            "country\n"
          ],
          "name": "stdout"
        },
        {
          "output_type": "display_data",
          "data": {
            "application/vnd.google.colaboratory.intrinsic+json": {
              "type": "string"
            },
            "text/plain": [
              "\"I had to catch my breath When I saw you  everything the lucky just don't know what they never come about me that's a man But we'll be here The song in, oh-oh There was trying You're around and tell our dark on all this way It rains when he still back of there goes freedom Oloout your name So can have got no) And then would've seen now baby He could feel so sicks? see if I'd never get it with away the phone When you know she's been down All nothing for a little in my head (I remember come The first time Cause home You're left him is everything coming\""
            ]
          },
          "metadata": {
            "tags": []
          }
        },
        {
          "output_type": "stream",
          "text": [
            "country took 9 iterations to get length 114: classification ['alternative']\n",
            "\n",
            "\n",
            "pop\n"
          ],
          "name": "stdout"
        },
        {
          "output_type": "display_data",
          "data": {
            "application/vnd.google.colaboratory.intrinsic+json": {
              "type": "string"
            },
            "text/plain": [
              "'I had to catch my breath When I saw you  around the things that she\\'s a girl And he knows The night, yeah But now said how it through me in this way we\\'d be alone home Can\\'t say It goes about there gets is not what they\\'ll never do Cause So \" play break and leave Think of all much when her feet old little mess In him are so world was bad reason for quite A beautiful dreams Look back to one our love I feel she\\'s got come on the te eyes\\'re around Oh, just gonna wanna find my'"
            ]
          },
          "metadata": {
            "tags": []
          }
        },
        {
          "output_type": "stream",
          "text": [
            "pop took 9 iterations to get length 103: classification ['alternative']\n",
            "\n",
            "\n",
            "alternative\n"
          ],
          "name": "stdout"
        },
        {
          "output_type": "display_data",
          "data": {
            "application/vnd.google.colaboratory.intrinsic+json": {
              "type": "string"
            },
            "text/plain": [
              "'Any day now, they\\'re talking war I can  up on your game He\\'s the reason in a night when you best world The dream Ooh You know that we won\\'t think about me And he could be something bad girls was so? It\\'d get That but never been together (And song for some rain first time Oh whoa yeah this way they don him, by \"I\\'ll make here) Come said\" Cause baby back But o girl What\\'s a perfectly up the storm- it works no one of my heart down If with big oh Ra You\\'re just made me Take know what I have to come on all that rains when we are'"
            ]
          },
          "metadata": {
            "tags": []
          }
        },
        {
          "output_type": "stream",
          "text": [
            "alternative took 9 iterations to get length 114: classification ['pop']\n",
            "\n",
            "\n",
            "country\n"
          ],
          "name": "stdout"
        },
        {
          "output_type": "display_data",
          "data": {
            "application/vnd.google.colaboratory.intrinsic+json": {
              "type": "string"
            },
            "text/plain": [
              "'Any day now, they\\'re talking war I can  and see it\\'s how to be so gonna dance with you for them like this love Oh-oh (O) The way), if we\\'ll get the same too loud This is his dark You got a simple God Cause baby know why All no one could\\'ve been there was think about save me time of us days, yeah People come back To another reason that little had waiting Oyeah? It did with you I didn\\'t look at my mind he\\'s this dress so good to read your name Baby-ah (I don Will call better He said \"What say home away eyes And now we\\'d'"
            ]
          },
          "metadata": {
            "tags": []
          }
        },
        {
          "output_type": "stream",
          "text": [
            "country took 9 iterations to get length 111: classification ['pop']\n",
            "\n",
            "\n",
            "pop\n"
          ],
          "name": "stdout"
        },
        {
          "output_type": "display_data",
          "data": {
            "application/vnd.google.colaboratory.intrinsic+json": {
              "type": "string"
            },
            "text/plain": [
              "'Any day now, they\\'re talking war I can  and with my He\\'s over me up if you ever been so it goes down When when he could make the rain It was a bad beautiful right good? (Yeah) But she said oh Don\\'t wanna see night So we out your end back to all forever on little girl of that\\'ll be here, stay think That\\'m not our love did wrong shake They say one All this way No mm She\\'s their used The only thing day in his heart I had If you\\'re sorry In so everything Your letter was a million baby And and tell me \"I don excellent around now at once Cause he will'"
            ]
          },
          "metadata": {
            "tags": []
          }
        },
        {
          "output_type": "stream",
          "text": [
            "pop took 9 iterations to get length 118: classification ['pop']\n",
            "\n",
            "\n",
            "alternative\n"
          ],
          "name": "stdout"
        },
        {
          "output_type": "display_data",
          "data": {
            "application/vnd.google.colaboratory.intrinsic+json": {
              "type": "string"
            },
            "text/plain": [
              "'I don\\'t need a lot But there is one  everything and it I said, \"fore you\\'re not like the way home This away You\\'ll take my love with your head? Please know that he\\'s gonna be anything The night In his pain Baby Now Can we can make baby as this smile\" And she never thought darling-loe All will fall down When would\\'ve got into me Oh lights are in bed back for something was a thousand games I want to save the girl, say him We\\'re so long one who But you He said \"I think about is when it go You take their no other my head he gonna do) Cause they'"
            ]
          },
          "metadata": {
            "tags": []
          }
        },
        {
          "output_type": "stream",
          "text": [
            "alternative took 9 iterations to get length 115: classification ['alternative']\n",
            "\n",
            "\n",
            "country\n"
          ],
          "name": "stdout"
        },
        {
          "output_type": "display_data",
          "data": {
            "application/vnd.google.colaboratory.intrinsic+json": {
              "type": "string"
            },
            "text/plain": [
              "\"I don't need a lot But there is one  like the little was not around And she's gonna be something you've been There'll get my side Don where he knows that, who do what I think about me in love So so here He says to find an) Baby That goes his In new (Oh-oh can help Sheps on no time'm with a bad girl day home wishing body m old car What just want You're blue summer The first look if nobody's not our how only one of little got lost dream It was never have away If come as he tell him smile that, darling But you think what baby see this way we\""
            ]
          },
          "metadata": {
            "tags": []
          }
        },
        {
          "output_type": "stream",
          "text": [
            "country took 9 iterations to get length 117: classification ['alternative']\n",
            "\n",
            "\n",
            "pop\n"
          ],
          "name": "stdout"
        },
        {
          "output_type": "display_data",
          "data": {
            "application/vnd.google.colaboratory.intrinsic+json": {
              "type": "string"
            },
            "text/plain": [
              "'I don\\'t need a lot But there is one  with you\\'re the things that I\\'m not back of some night And said This if they love he\\'s all wrong and over up, \"Baby Don It was happiness That rains when she gave me no other says we\\'ll be gone too late for around Baby him out (No) When little stars in this but everybody knows waiting Ooh-e girl at a only our best could\\'ve got how it The end of you\\'re made And then I never gonna know one who don\\'t look! right He\\'s stay to make everything alone You said there was just wanna say \"team ainYou keepro are'"
            ]
          },
          "metadata": {
            "tags": []
          }
        },
        {
          "output_type": "stream",
          "text": [
            "pop took 9 iterations to get length 111: classification ['alternative']\n",
            "\n",
            "\n",
            "alternative\n"
          ],
          "name": "stdout"
        },
        {
          "output_type": "display_data",
          "data": {
            "application/vnd.google.colaboratory.intrinsic+json": {
              "type": "string"
            },
            "text/plain": [
              "\"I drive around this town In a Mustang  'til I'll never been down And he's really going to you so little my heart? Cause they can't have known that much if we were getting gonna be here as it rains in your face too late Baby, oh-ah Soon Oh whoa We knew the story she went girl It could get this right through me With her for keep off So) The kind of blue eyes He but people he's never go is happiness to take a bad But I know why what so come on an old that we were happy And as it back when you known (Yeah Long dress love? better abouthe\""
            ]
          },
          "metadata": {
            "tags": []
          }
        },
        {
          "output_type": "stream",
          "text": [
            "alternative took 9 iterations to get length 115: classification ['alternative']\n",
            "\n",
            "\n",
            "country\n"
          ],
          "name": "stdout"
        },
        {
          "output_type": "display_data",
          "data": {
            "application/vnd.google.colaboratory.intrinsic+json": {
              "type": "string"
            },
            "text/plain": [
              "\"I drive around this town In a Mustang  how I can feel you all And there's so good out The girl by like (Yeah), they don't see it right now, baby when we're not the other side It was in those and over) You want to go back with me again Baby They say that To tell everything? We should take this Ah How'll be begging for his time but beautiful might just gonna love Who could'm watch you mean I'd still gone little shake a bad heart He says home really know what she's all, he did baby wish Oh m had the firstThis break it off alone But if No- Cause\""
            ]
          },
          "metadata": {
            "tags": []
          }
        },
        {
          "output_type": "stream",
          "text": [
            "country took 9 iterations to get length 114: classification ['alternative']\n",
            "\n",
            "\n",
            "pop\n"
          ],
          "name": "stdout"
        },
        {
          "output_type": "display_data",
          "data": {
            "application/vnd.google.colaboratory.intrinsic+json": {
              "type": "string"
            },
            "text/plain": [
              "'I drive around this town In a Mustang  for you\\'d find me Cause I can\\'t know that she\\'s long my heart-e That all the world The only one who\\'ll be with why he was in night And what they take to show He off She say But if We gotta make them away Oh, not our mind do back and tell him is evera oh feeling look at home Don tight than this love no It went high are pastM little\\'re his\\'s a day you should know I can\\'t even break down This other things My want have up If an summer around\" And we\\'d never thought she was \\'cause it goes ('"
            ]
          },
          "metadata": {
            "tags": []
          }
        },
        {
          "output_type": "stream",
          "text": [
            "pop took 9 iterations to get length 114: classification ['alternative']\n",
            "\n",
            "\n",
            "alternative\n"
          ],
          "name": "stdout"
        },
        {
          "output_type": "display_data",
          "data": {
            "application/vnd.google.colaboratory.intrinsic+json": {
              "type": "string"
            },
            "text/plain": [
              "'I\\'ve been counting days and I\\'ve been ing, that \"oh-oah You should show you think he still make it now? Please see one of me (OM we hate some face Yeah) But who have to go oh Oh Soon attitude no This fake a rainy up at there\\'s all fall down was wrong And too Hey Cause she girl When the last time We could be like big knows Like baby In her would do Now life I don\\'t you should\\'ve been something bad feeling Well Baby, they never speak That just knew our dark-oh whoa It feels not You had it ain away in this way we can tell me'"
            ]
          },
          "metadata": {
            "tags": []
          }
        },
        {
          "output_type": "stream",
          "text": [
            "alternative took 9 iterations to get length 111: classification ['pop']\n",
            "\n",
            "\n",
            "country\n"
          ],
          "name": "stdout"
        },
        {
          "output_type": "display_data",
          "data": {
            "application/vnd.google.colaboratory.intrinsic+json": {
              "type": "string"
            },
            "text/plain": [
              "'I\\'ve been counting days and I\\'ve been  there before And it all? We could stay \\'em we can be You love for a long, baby But you\\'ll make me up the road in your face (Yeah) In at our best on end He did with my guitar The good again ooh-o way never took waiting Oh says \"I\\'m used to think about only so bad girl\" If right if he\\'re New mind There\\'s is everything I got some time It was begging aroundin\\', Cause it said she had there Or but we\\'d didn\\'t take\\' old you first let me And down no one of them and make this'"
            ]
          },
          "metadata": {
            "tags": []
          }
        },
        {
          "output_type": "stream",
          "text": [
            "country took 9 iterations to get length 109: classification ['pop']\n",
            "\n",
            "\n",
            "pop\n"
          ],
          "name": "stdout"
        },
        {
          "output_type": "display_data",
          "data": {
            "application/vnd.google.colaboratory.intrinsic+json": {
              "type": "string"
            },
            "text/plain": [
              "\"I've been counting days and I've been  before you We could never a bad girl night, everybody'll be the party (Oh) You can't still nothing if we gave not myself at me? 'em for to make this last time When they go The way But what would take our face In my baby again with all how should keep him was get some middle of your name What who's new first No one as there is why're so long break in the best thing around, ah-ah I might say you'd wanted If a cruel little party? We could ever been waiting for dancing enough heart (Oh) Ooh You tell me\""
            ]
          },
          "metadata": {
            "tags": []
          }
        },
        {
          "output_type": "stream",
          "text": [
            "pop took 9 iterations to get length 111: classification ['pop']\n",
            "\n",
            "\n",
            "alternative\n"
          ],
          "name": "stdout"
        },
        {
          "output_type": "display_data",
          "data": {
            "application/vnd.google.colaboratory.intrinsic+json": {
              "type": "string"
            },
            "text/plain": [
              "\"She walks to school With her arms  me now Oh I'm the one here, so much into their we can't know she's how again at all this time You're gone for if you were up and ever) But they belong with some pouring girl Baby Did baby? Now that it rains in love is about our front of a feeling my mind Yeah Don ain find nothing as every heart oh No We need to want would come back us He don't (Yeah, just another hands T-oh why we met the middle Fle This night you have out) The kind time are like this last not for me I'd wanna be Just do\""
            ]
          },
          "metadata": {
            "tags": []
          }
        },
        {
          "output_type": "stream",
          "text": [
            "alternative took 9 iterations to get length 114: classification ['alternative']\n",
            "\n",
            "\n",
            "country\n"
          ],
          "name": "stdout"
        },
        {
          "output_type": "display_data",
          "data": {
            "application/vnd.google.colaboratory.intrinsic+json": {
              "type": "string"
            },
            "text/plain": [
              "'She walks to school With her arms  away with me? The long one dream for all of the night It\\'s happiness I can\\'t even stop at my heart has All He feel not his A beautiful name, right (Oh) Now that girl only see you think about if he knows by a little thing make it\\'ll be goes\" But there ain off mine Oh-ooh You\\'re out love come back forever They say Don� had to watch how this time And baby more\\'s just like we got bad Oah Baby and she o I could call string, me so good? In the best of everything That\\'d take our way So'"
            ]
          },
          "metadata": {
            "tags": []
          }
        },
        {
          "output_type": "stream",
          "text": [
            "country took 9 iterations to get length 110: classification ['alternative']\n",
            "\n",
            "\n",
            "pop\n"
          ],
          "name": "stdout"
        },
        {
          "output_type": "display_data",
          "data": {
            "application/vnd.google.colaboratory.intrinsic+json": {
              "type": "string"
            },
            "text/plain": [
              "\"She walks to school With her arms  now, on the car I'm wrong of all at me We are too new He's gonna be but what you just keep do one who doesn't know so many It keeps ya-out that we got song in a little really find his name But if she didn he'd come back from mean She'lla oh That this time everything goes here see right through it was an smile and out your body, the pain The te car And all I need to go down Oh No ha Who can could take me shake there's waiting It said baby is only one who ain't know him had some million heart\""
            ]
          },
          "metadata": {
            "tags": []
          }
        },
        {
          "output_type": "stream",
          "text": [
            "pop took 9 iterations to get length 116: classification ['alternative']\n",
            "\n",
            "\n",
            "alternative\n"
          ],
          "name": "stdout"
        },
        {
          "output_type": "display_data",
          "data": {
            "application/vnd.google.colaboratory.intrinsic+json": {
              "type": "string"
            },
            "text/plain": [
              "'My momma stood across the room Face to  The lights And all my name Cause I said your love down But you are in our heart is a bad around here, that\\'s so do no one thing who am It was nothing He want from be first time You\\'re not only Just like she can\\'t make it on an innocent-oh why but then he had the things (And up this way yeah) No soul So call me now night? Cause I bet That my hand When we give him \\'em what you know places Whoa over them here\\'s so in a match for their lights down to find your name\" It was and watch us'"
            ]
          },
          "metadata": {
            "tags": []
          }
        },
        {
          "output_type": "stream",
          "text": [
            "alternative took 9 iterations to get length 116: classification ['alternative']\n",
            "\n",
            "\n",
            "country\n"
          ],
          "name": "stdout"
        },
        {
          "output_type": "display_data",
          "data": {
            "application/vnd.google.colaboratory.intrinsic+json": {
              "type": "string"
            },
            "text/plain": [
              "'My momma stood across the room Face to  at your own And when you remember all coming\\'s away with my hand We\\'ll be us in front of his one who could feel so good? They never love really something a man (Ooh) Cause it On every time I\\'m asking me, then she was enough Baby-olo is not on the world thing that we might ask them out an sad\\'re just want You know what they can\\'t play And he\\'s no get this magic you say But if there In all and my guitar The way home They gave a one who look at our face It feels like \"Why him love ain off'"
            ]
          },
          "metadata": {
            "tags": []
          }
        },
        {
          "output_type": "stream",
          "text": [
            "country took 9 iterations to get length 114: classification ['alternative']\n",
            "\n",
            "\n",
            "pop\n"
          ],
          "name": "stdout"
        },
        {
          "output_type": "display_data",
          "data": {
            "application/vnd.google.colaboratory.intrinsic+json": {
              "type": "string"
            },
            "text/plain": [
              "\"My momma stood across the room Face to  in you's a love places He'll tell me But if her'd loved it right there with your name on all something by their truck like everything I'm nice out of my head, how much And what she was asking fall back at those? for our feet There could call one who fly In some face as girl The lights are won't know that we're sorry (Oh) Oh- ain just a ah Take They say Ooh it's gone this only go you You play 'bout no baby should've been waiting I'm the first and see nothing But if they said forever like an bad\""
            ]
          },
          "metadata": {
            "tags": []
          }
        },
        {
          "output_type": "stream",
          "text": [
            "pop took 9 iterations to get length 112: classification ['alternative']\n",
            "\n",
            "\n",
            "alternative\n"
          ],
          "name": "stdout"
        },
        {
          "output_type": "display_data",
          "data": {
            "application/vnd.google.colaboratory.intrinsic+json": {
              "type": "string"
            },
            "text/plain": [
              "'Here in my mind the sky looks the same  And I heard it\\'s not a way We\\'ll never break up, come on our dark night there is like this off but you know what But that we were fly through one thing for those Come back of said This something who could be here No now When he got at his baby why She\\'d say people think about me So You are waiting love Just us things will have don\\'t call He won�� in the pouring to with big ey Well, so good? We\\'re still been just\\'m not around Cause I) they like a thousand\" And if it\\'s (You worst The way thing that'"
            ]
          },
          "metadata": {
            "tags": []
          }
        },
        {
          "output_type": "stream",
          "text": [
            "alternative took 9 iterations to get length 115: classification ['alternative']\n",
            "\n",
            "\n",
            "country\n"
          ],
          "name": "stdout"
        },
        {
          "output_type": "display_data",
          "data": {
            "application/vnd.google.colaboratory.intrinsic+json": {
              "type": "string"
            },
            "text/plain": [
              "'Here in my mind the sky looks the same  That\\'s a good and she\\'ll tell me can\\'t look at your face And there is not so of you wanted But but I don off this love that It was just another like \"I\\'m things with her\" we\\'re only one whoa (Oh) When everybody should be enough he knowsro keep if as they won beautiful They say anything mean bad all an smile up dreams Oh, back No You are in the way home Who\\'s a cruel eyes on me The life some hair and\\'ve been there was so happy Even girl at my door But you can\\'t know That tell \\'cause she forget'"
            ]
          },
          "metadata": {
            "tags": []
          }
        },
        {
          "output_type": "stream",
          "text": [
            "country took 9 iterations to get length 114: classification ['alternative']\n",
            "\n",
            "\n",
            "pop\n"
          ],
          "name": "stdout"
        },
        {
          "output_type": "display_data",
          "data": {
            "application/vnd.google.colaboratory.intrinsic+json": {
              "type": "string"
            },
            "text/plain": [
              "'Here in my mind the sky looks the same  My day like a good and it\\'s not away with some time And he got \"I\\'ll be begging that I don\\'t try at me But you go what they know\" For never call say The phone up to take this way home into everything is still as right So can see again It was golden You\\'re no baby back live all just want look for every first thing That people in love We were the one of our place bad little\\'s a cruel summer feeling like we had an old waiting What long'"
            ]
          },
          "metadata": {
            "tags": []
          }
        },
        {
          "output_type": "stream",
          "text": [
            "pop took 9 iterations to get length 103: classification ['alternative']\n",
            "\n",
            "\n",
            "alternative\n"
          ],
          "name": "stdout"
        },
        {
          "output_type": "display_data",
          "data": {
            "application/vnd.google.colaboratory.intrinsic+json": {
              "type": "string"
            },
            "text/plain": [
              "\"Isn't it funny how many times we can say  way about the But I'll never might make me We'd be here if all dark as there's not 'em, then he would remember a dream my day So they think baby (Oh) Cause everything that ever used to let something was so much And now Meet this You should still got some night you are his man The first time forever love go look at once her eyes for our heart? end up in the world They're doing When it feel nothing I need me down Oh This is why we\""
            ]
          },
          "metadata": {
            "tags": []
          }
        },
        {
          "output_type": "stream",
          "text": [
            "alternative took 9 iterations to get length 101: classification ['pop']\n",
            "\n",
            "\n",
            "country\n"
          ],
          "name": "stdout"
        },
        {
          "output_type": "display_data",
          "data": {
            "application/vnd.google.colaboratory.intrinsic+json": {
              "type": "string"
            },
            "text/plain": [
              "'Isn\\'t it funny how many times we can say  That tell that I\\'d dance when you, but It\\'s not what She was a thing Don off like this love is our past Oh-ah For the heart The way home You\\'re still left their m again Cause he\\'ll get gone so There don just long as were there did now one of anout they have new boy Baby right would \"I could stay in my head around and if girl good, you\\'ve been ooh But got your face (Oh I help me) And? O conversation-o everything Don\\'t know can see this love dead Now tell him was the sky at night We'"
            ]
          },
          "metadata": {
            "tags": []
          }
        },
        {
          "output_type": "stream",
          "text": [
            "country took 9 iterations to get length 112: classification ['pop']\n",
            "\n",
            "\n",
            "pop\n"
          ],
          "name": "stdout"
        },
        {
          "output_type": "display_data",
          "data": {
            "application/vnd.google.colaboratory.intrinsic+json": {
              "type": "string"
            },
            "text/plain": [
              "'Isn\\'t it funny how many times we can say \\'s be that I\\'d go down to get the light The one And he knows That tell if you let me But something they said, \"\\'ll love All really know why was a girl at my hand It rains when baby Cause she keeps through our in his wrong So life got an\\'ve been feeling like there goes In beautiful of this won\\'t even looklight He ever had bad home about is some song Like What knows I don so reason for the teardro\\'re not say? They might never have to play it\\'s a new The only thing that love wishing (Oh-oh, oh Oh We'"
            ]
          },
          "metadata": {
            "tags": []
          }
        },
        {
          "output_type": "stream",
          "text": [
            "pop took 9 iterations to get length 114: classification ['pop']\n",
            "\n",
            "\n",
            "alternative\n"
          ],
          "name": "stdout"
        },
        {
          "output_type": "display_data",
          "data": {
            "application/vnd.google.colaboratory.intrinsic+json": {
              "type": "string"
            },
            "text/plain": [
              "\"Someone struck a match against the night  And I remember that was too girl with your name You got mad But maybe all my hand and we'd be fine in whole little away So how it could think about you knew up but Why won't know what they're sorry (Oh) It's not stay this time, so long as now They say Oh-oh why when he had she would take me whoa oh again home break day If baby like a match on the radio was an to let something of front never look at them I'm feeling So And if we were there will be here and do it all nothing mind? The best too\""
            ]
          },
          "metadata": {
            "tags": []
          }
        },
        {
          "output_type": "stream",
          "text": [
            "alternative took 9 iterations to get length 116: classification ['country']\n",
            "\n",
            "\n",
            "country\n"
          ],
          "name": "stdout"
        },
        {
          "output_type": "display_data",
          "data": {
            "application/vnd.google.colaboratory.intrinsic+json": {
              "type": "string"
            },
            "text/plain": [
              "'Someone struck a match against the night  boy with my name, one And he knows that\\'s gonna be us That keeps me in love\\'d come back to find it was an eyes around and wanna miss our time I\\'m still\\'ll never mean You\\'re light for there What then He said No their rain It says only thing But \"I know why can see this song they don\\'t hear all baby let feel you left She will go out say So what that anything\\'s the way your heart on a red\" And she should be Don Will we just want to leave him was too late The dress so good around little black not had no one who'"
            ]
          },
          "metadata": {
            "tags": []
          }
        },
        {
          "output_type": "stream",
          "text": [
            "country took 9 iterations to get length 118: classification ['country']\n",
            "\n",
            "\n",
            "pop\n"
          ],
          "name": "stdout"
        },
        {
          "output_type": "display_data",
          "data": {
            "application/vnd.google.colaboratory.intrinsic+json": {
              "type": "string"
            },
            "text/plain": [
              "\"Someone struck a match against the night  That I still'll be us years He's not so one what it say he knows But if she was this day Don't see fly with my heart The only thing that love is gonna take about his oh (Oh, baby) They got their right there rains Who are never think but shakes light There won just find many teard me? Oh no star We're coming home And everybody goes on a girl he ain even I'm what you might tell to getaway up the dark You can gotta see this for everything is so long bad lights my mind feeling't look at us only way it's\""
            ]
          },
          "metadata": {
            "tags": []
          }
        },
        {
          "output_type": "stream",
          "text": [
            "pop took 9 iterations to get length 114: classification ['country']\n",
            "\n",
            "\n",
            "alternative\n"
          ],
          "name": "stdout"
        },
        {
          "output_type": "display_data",
          "data": {
            "application/vnd.google.colaboratory.intrinsic+json": {
              "type": "string"
            },
            "text/plain": [
              "'It would\\'ve been nice to see you coming  (I, I can\\'t help it) You need me So everything with the one around This is not get no all my breath In old time It\\'s getting on how things if we\\'re still say \"fore he did something that was good-Team forever and want Ooh about your face of dark When she car\" And in As He will never would be friends like this don read there are so too late why But I thought now? You\\'ve been them down to do W fun The whole way you think our song on the feeling when darling, mm It\\'s always had a kind by only one'"
            ]
          },
          "metadata": {
            "tags": []
          }
        },
        {
          "output_type": "stream",
          "text": [
            "alternative took 9 iterations to get length 114: classification ['alternative']\n",
            "\n",
            "\n",
            "country\n"
          ],
          "name": "stdout"
        },
        {
          "output_type": "display_data",
          "data": {
            "application/vnd.google.colaboratory.intrinsic+json": {
              "type": "string"
            },
            "text/plain": [
              "'It would\\'ve been nice to see you coming  when I was a sad (I said, \"Baby our mind) And we can have the dark things back up now? You\\'re gone Come on me So it\\'s gonna be alright and as The way that\\'ll never if this time Oh-oh Baby them again There works he had home But what people are off of waitingin\\' for she know baby girl with his\" fake is about paper They\\'m just stop, come to do was a long enough good And I\\'ve felt so sick When our night (Oh Ra What got bad at me You\\'re the reason by their hands say her head on'"
            ]
          },
          "metadata": {
            "tags": []
          }
        },
        {
          "output_type": "stream",
          "text": [
            "country took 9 iterations to get length 111: classification ['alternative']\n",
            "\n",
            "\n",
            "pop\n"
          ],
          "name": "stdout"
        },
        {
          "output_type": "display_data",
          "data": {
            "application/vnd.google.colaboratory.intrinsic+json": {
              "type": "string"
            },
            "text/plain": [
              "\"It would've been nice to see you coming  and I wish it then, aooh This is our life are never go for the last time We'll be made up with of me again You got their heart (light) And if baby Don't know what we were tell this love like bad in some other Your oh-ah My no back but he's still need to play yeah She donround when about him all just there look at once, you're so can wanna see our face I'm a big they want 'cause it right now You say We'll take the way my head here It was red Now stupid down But she says (\""
            ]
          },
          "metadata": {
            "tags": []
          }
        },
        {
          "output_type": "stream",
          "text": [
            "pop took 9 iterations to get length 113: classification ['alternative']\n",
            "\n",
            "\n",
            "alternative\n"
          ],
          "name": "stdout"
        },
        {
          "output_type": "display_data",
          "data": {
            "application/vnd.google.colaboratory.intrinsic+json": {
              "type": "string"
            },
            "text/plain": [
              "\"My name's Gracie I'll be five in May  on the water, they were never too It was a friend And he would say about Don't have to tell how it down When you even if your body Who could've been there felt so good? You couldn people thought him not where she did If again Just do this door But who don ain my mind end way that we can into all up around and ever had our heart) The first time baby I walk me in town, darling!oh Yeah-oah We'd get's okay It just know how it but back to go down Take stay a thousand some still look right yet could take another\""
            ]
          },
          "metadata": {
            "tags": []
          }
        },
        {
          "output_type": "stream",
          "text": [
            "alternative took 9 iterations to get length 116: classification ['alternative']\n",
            "\n",
            "\n",
            "country\n"
          ],
          "name": "stdout"
        },
        {
          "output_type": "display_data",
          "data": {
            "application/vnd.google.colaboratory.intrinsic+json": {
              "type": "string"
            },
            "text/plain": [
              "\"My name's Gracie I'll be five in May  to the memories, but it my things And life was keep about with you Cause when we're doing? It just see this time You say if he went around 'cause baby But then something We could've got us down what a long into bad cold as an-out is how they don't know I'm feeling of girl He so manyin' song for anything like much whoa Oh) Baby, you can tell me to be alright alone oh (Oh In the back and one at my guitar And we're happiness The only thing's not myself room Cause he'll feel this time All look now\""
            ]
          },
          "metadata": {
            "tags": []
          }
        },
        {
          "output_type": "stream",
          "text": [
            "country took 9 iterations to get length 111: classification ['alternative']\n",
            "\n",
            "\n",
            "pop\n"
          ],
          "name": "stdout"
        },
        {
          "output_type": "display_data",
          "data": {
            "application/vnd.google.colaboratory.intrinsic+json": {
              "type": "string"
            },
            "text/plain": [
              "'My name\\'s Gracie I\\'ll be five in May  that then up With here Cause if he had it to get so long And but there will hold my lover It just not with all of freedom\\'m gonna take, away where you The only one baby? W ain\\'t know They say We can tell me You\\'re still an good This is this big no) I do He wonHe took a sad for gone But at the last\\' coming way like end game Don In if he was she make your name on our great dress so \"I always have to'"
            ]
          },
          "metadata": {
            "tags": []
          }
        },
        {
          "output_type": "stream",
          "text": [
            "pop took 9 iterations to get length 100: classification ['alternative']\n",
            "\n",
            "\n",
            "alternative\n"
          ],
          "name": "stdout"
        },
        {
          "output_type": "display_data",
          "data": {
            "application/vnd.google.colaboratory.intrinsic+json": {
              "type": "string"
            },
            "text/plain": [
              "\"There's a girl that you want She's  better out And all My baby, there is got it off in my head we were dancing-oh whoa (This soul), be Like over) I know what they'll never would say your name All this way together Now ah This love with our heart You're another the phone to do was their he did something o goes a thousand stay smile But you can't think about me? Oh why long better In an door and turn so good, baby like And all don still help it's not how So oh-oh 'cause I've been right here on his night for see No one whoa\""
            ]
          },
          "metadata": {
            "tags": []
          }
        },
        {
          "output_type": "stream",
          "text": [
            "alternative took 9 iterations to get length 110: classification ['country']\n",
            "\n",
            "\n",
            "country\n"
          ],
          "name": "stdout"
        },
        {
          "output_type": "display_data",
          "data": {
            "application/vnd.google.colaboratory.intrinsic+json": {
              "type": "string"
            },
            "text/plain": [
              "'There\\'s a girl that you want She\\'s  to see how nobody was like me for the one who ever He goes in love\" (Oh-oh, oh) Oh Look what I tell You keep about things We could never better It need not too mine Cause we just getaway car And he knows That they\\'ll take this way can\\'t help away so long old say? What didn an even know bad But you\\'re a Wednesday out of my best if good again Even when baby in the middle said around So should\\'ve got everybody\\'s something to there want, but I had our hands ever gonna\\' anything us back and dreams When all oh-'"
            ]
          },
          "metadata": {
            "tags": []
          }
        },
        {
          "output_type": "stream",
          "text": [
            "country took 9 iterations to get length 112: classification ['country']\n",
            "\n",
            "\n",
            "pop\n"
          ],
          "name": "stdout"
        },
        {
          "output_type": "display_data",
          "data": {
            "application/vnd.google.colaboratory.intrinsic+json": {
              "type": "string"
            },
            "text/plain": [
              "\"There's a girl that you want She's  what I can't tell me so he knows That But but baby to all go? You don off mine, who've got our love is true And if they didnps on everybody'll be together The way In the pain There should never get she won just have him nothing like much as we're gonna see right through He could one at my name (I think of a redneck heart No will hold his new I want without me-oh), summer night She's no oh) Oh baby o!) You know why they said, who you loved honey can't breathe stay known Oyeah or he don\""
            ]
          },
          "metadata": {
            "tags": []
          }
        },
        {
          "output_type": "stream",
          "text": [
            "pop took 9 iterations to get length 110: classification ['country']\n",
            "\n",
            "\n",
            "alternative\n"
          ],
          "name": "stdout"
        },
        {
          "output_type": "display_data",
          "data": {
            "application/vnd.google.colaboratory.intrinsic+json": {
              "type": "string"
            },
            "text/plain": [
              "'I think of you every single evening As I  me All this lovein\\' And it\\'s go for a weekend-ah You get on the night, no one my best us back what to have away But we were gonna be than everything was It would do forever Ooh Oh baby This is run That knows that she never let nothing still wrong) there No world If you had So don\\'t know who won just need save an eye and remember her I\\'m not a red\\'darkin\\' You\\'re happy There\\'s better late belong with me so good dress, yeah (yeah girl-out again thing\" And all back of night She could be'"
            ]
          },
          "metadata": {
            "tags": []
          }
        },
        {
          "output_type": "stream",
          "text": [
            "alternative took 9 iterations to get length 109: classification ['alternative']\n",
            "\n",
            "\n",
            "country\n"
          ],
          "name": "stdout"
        },
        {
          "output_type": "display_data",
          "data": {
            "application/vnd.google.colaboratory.intrinsic+json": {
              "type": "string"
            },
            "text/plain": [
              "'I think of you every single evening As I  is not end... But your window And they\\'ll make it for me to help up That was things that right here there\\'s anything he\\'d be forever and as feeling like this time then, so long No who come at the first met with him? With no one side The girl In all in his head He are you\\'re a little mind wishing what day she know everybody knows beautiful Baby we can see coming dress But I want love said \" (Oh) They say nobody keeps me home And ain\\'t'"
            ]
          },
          "metadata": {
            "tags": []
          }
        },
        {
          "output_type": "stream",
          "text": [
            "country took 9 iterations to get length 100: classification ['alternative']\n",
            "\n",
            "\n",
            "pop\n"
          ],
          "name": "stdout"
        },
        {
          "output_type": "display_data",
          "data": {
            "application/vnd.google.colaboratory.intrinsic+json": {
              "type": "string"
            },
            "text/plain": [
              "'I think of you every single evening As I  was and long as the night And that\\'s gonna be alone about for us But there goes, say She could\\'m only one Who\\'ll follow an moment \\'em My hands is a day like me were down We can\\'t now He ain It works That said ooh Oh-e Baby The girl\\'ve been blue did better of her know what they don Will you\\'re not keepmm eyes When we got that she\\'s the light I watch this love his\" But but no You need to go beautiful What people out a cruel he says, \"I want bad feel so on my own baby In too about'"
            ]
          },
          "metadata": {
            "tags": []
          }
        },
        {
          "output_type": "stream",
          "text": [
            "pop took 9 iterations to get length 114: classification ['alternative']\n",
            "\n",
            "\n",
            "alternative\n"
          ],
          "name": "stdout"
        },
        {
          "output_type": "display_data",
          "data": {
            "application/vnd.google.colaboratory.intrinsic+json": {
              "type": "string"
            },
            "text/plain": [
              "\"I like my music loud I like my windows  And we don't want you So it's gonna be here on 'cause so good? Don hold this right They say in the worst of an head It was a best The whole song first time as our heart This is baby back and over, shake He says he people can make ex-ooh I didn tell me My for now or need to that again If then wanna see oh around if love thing you got my dream (This on all down You said his one chance Cause we could've been\""
            ]
          },
          "metadata": {
            "tags": []
          }
        },
        {
          "output_type": "stream",
          "text": [
            "alternative took 9 iterations to get length 100: classification ['alternative']\n",
            "\n",
            "\n",
            "country\n"
          ],
          "name": "stdout"
        },
        {
          "output_type": "display_data",
          "data": {
            "application/vnd.google.colaboratory.intrinsic+json": {
              "type": "string"
            },
            "text/plain": [
              "\"I like my music loud I like my windows in' this love a oh (D) Oh, trouble My baby in the best town up Like nobody was not back of those again All things can't know how it goes But if you never let me that's gone? You're just get here and over us And one who make New York Now I'll be your side Ooh-ah she summer life are got nice smile Baby So but there in this world Cause they tell look at the only call It keeps everything stop to come on my man (I'm so sick of those with them But baby When what we don't have is right time\""
            ]
          },
          "metadata": {
            "tags": []
          }
        },
        {
          "output_type": "stream",
          "text": [
            "country took 9 iterations to get length 114: classification ['alternative']\n",
            "\n",
            "\n",
            "pop\n"
          ],
          "name": "stdout"
        },
        {
          "output_type": "display_data",
          "data": {
            "application/vnd.google.colaboratory.intrinsic+json": {
              "type": "string"
            },
            "text/plain": [
              "\"I like my music loud I like my windows in' us life (way) When'll get how an was a we've got the first! that's gonna be sorry, another And she'd let it back of if you go talk To come hearts But there works How fly whenever me? Cause they never just say In our way Baby Don't would made s He don� no one who might wanted're not ours We knew There for all too late to know I have us little bad body life are he should've been an will You walked a white And always want ( friend of dancing my face So break at once-oh, you won call\""
            ]
          },
          "metadata": {
            "tags": []
          }
        },
        {
          "output_type": "stream",
          "text": [
            "pop took 9 iterations to get length 112: classification ['alternative']\n",
            "\n",
            "\n",
            "alternative\n"
          ],
          "name": "stdout"
        },
        {
          "output_type": "display_data",
          "data": {
            "application/vnd.google.colaboratory.intrinsic+json": {
              "type": "string"
            },
            "text/plain": [
              "\"I need you now Read letters that I wrote  the we were a dream of your window off no one He's an girl in me You'll get still (sil The car) And all night It known he'm on my best time, what they never been dark Cause how it was withro dreams Back when she know why'd dancing good We're sorry this to stay so long little back If you say But life as and ever thought right here has don't if we could be up I had in the one of our name away So no' than an mind dress What love thing even When baby) You walked there's said Oh yeah? This end\""
            ]
          },
          "metadata": {
            "tags": []
          }
        },
        {
          "output_type": "stream",
          "text": [
            "alternative took 9 iterations to get length 116: classification ['country']\n",
            "\n",
            "\n",
            "country\n"
          ],
          "name": "stdout"
        },
        {
          "output_type": "display_data",
          "data": {
            "application/vnd.google.colaboratory.intrinsic+json": {
              "type": "string"
            },
            "text/plain": [
              "'I need you now Read letters that I wrote in\\' when we knew right here to see me and all the world But You\\'re not around my heart (Fore!), ooh- manya And it\\'s gonna go) Oh That look oh In your eyes on our summer All life was over down? but they\\'ll tell him if baby feel you want is red\\'m just loved break this way why are back for their lips This,\" girl shake To never try to leave me When the last love I\\'d come cruelin\\' thing we can\\'t know nothing (I say \"Oh in my heart There\\'s no one whoa m of all when'"
            ]
          },
          "metadata": {
            "tags": []
          }
        },
        {
          "output_type": "stream",
          "text": [
            "country took 9 iterations to get length 107: classification ['country']\n",
            "\n",
            "\n",
            "pop\n"
          ],
          "name": "stdout"
        },
        {
          "output_type": "display_data",
          "data": {
            "application/vnd.google.colaboratory.intrinsic+json": {
              "type": "string"
            },
            "text/plain": [
              "\"I need you now Read letters that I wrote  like the things It's no one Just and then him would have to tell me Now we'm sorry But all We're still not his dark Like what 'til He feels too hand on us it goes down To, but he did with my partys out of your name (Ah-ah big whoa And if you want home You said this time might see right there was a white away at night The only one I didn't have to do alone It's say? Tell no kind) In the world Oh as they'll never think for her in love Come back through me like life Like an bad\""
            ]
          },
          "metadata": {
            "tags": []
          }
        },
        {
          "output_type": "stream",
          "text": [
            "pop took 9 iterations to get length 115: classification ['country']\n",
            "\n",
            "\n",
            "alternative\n"
          ],
          "name": "stdout"
        },
        {
          "output_type": "display_data",
          "data": {
            "application/vnd.google.colaboratory.intrinsic+json": {
              "type": "string"
            },
            "text/plain": [
              "\"... I used to fly Didn't matter where  up when you want it never around And right T were the mind So he's not my did something best thing down The lights is a place home But that people think about me now, but we could go on our battle was too and ever'd move How over forever for of night There goes love Cause I'm only one single to know this way your old from baby times some rain We're still time you have the worst Now Oh-di This gone when they never be forgiveness? up in her heart\""
            ]
          },
          "metadata": {
            "tags": []
          }
        },
        {
          "output_type": "stream",
          "text": [
            "alternative took 9 iterations to get length 101: classification ['country']\n",
            "\n",
            "\n",
            "country\n"
          ],
          "name": "stdout"
        },
        {
          "output_type": "display_data",
          "data": {
            "application/vnd.google.colaboratory.intrinsic+json": {
              "type": "string"
            },
            "text/plain": [
              "\"... I used to fly Didn't matter where  that's so good? Cause we're the little thing her make it didnb again if he knows what they know like me But there was a man've been away, do don off of your head this is still feel love It'll be alones in So take you might even help When she'd known with us-he only one try to come back And why What died watch call' has mean He's gonna play You're anything them I knew all have nice that the whole good way right In a little Oh, oh! but it was too life like me see sparks But now beautiful thing their\""
            ]
          },
          "metadata": {
            "tags": []
          }
        },
        {
          "output_type": "stream",
          "text": [
            "country took 9 iterations to get length 113: classification ['country']\n",
            "\n",
            "\n",
            "pop\n"
          ],
          "name": "stdout"
        },
        {
          "output_type": "display_data",
          "data": {
            "application/vnd.google.colaboratory.intrinsic+json": {
              "type": "string"
            },
            "text/plain": [
              "\"... I used to fly Didn't matter where  that my room about you'll be your eyes So get the phone of me now It's a long There is wrong, never still like in love think they should've been girl at it goes He ooh You need The stars Oaha oh-o Baby known But on all do this thing some night dress so good want to know how I'm just enough're not waiting for nothing? Oh (Oh So'd the road of my little much And she feel you walk away When we get better Your best like a match and tell then he's only morning our won't see if there was forever It\""
            ]
          },
          "metadata": {
            "tags": []
          }
        },
        {
          "output_type": "stream",
          "text": [
            "pop took 9 iterations to get length 113: classification ['country']\n",
            "\n",
            "\n",
            "alternative\n"
          ],
          "name": "stdout"
        },
        {
          "output_type": "display_data",
          "data": {
            "application/vnd.google.colaboratory.intrinsic+json": {
              "type": "string"
            },
            "text/plain": [
              "\"Throwing pennies at the fountain When  on your face, and whole lights is a girl there in her story And that's like something everything down where you're never said away with our best dress so dreams You got their mind I could go back to me home In wrong Just do We are out about keep Come come too when he knows So we won't need yourself Cause it was stay why for this time them night (Oh-oh) Oh, baby better again It feels The room O calm up in the whole bad girl If they know that's how him your face You got mean first down my door 'bout times What you've\""
            ]
          },
          "metadata": {
            "tags": []
          }
        },
        {
          "output_type": "stream",
          "text": [
            "alternative took 9 iterations to get length 114: classification ['alternative']\n",
            "\n",
            "\n",
            "country\n"
          ],
          "name": "stdout"
        },
        {
          "output_type": "display_data",
          "data": {
            "application/vnd.google.colaboratory.intrinsic+json": {
              "type": "string"
            },
            "text/plain": [
              "'Throwing pennies at the fountain When  a man And it was yours by made your name and then there\\'s so been waiting for them in my side\" Just just like Cause no one who could call now Oh, but they\\'ll tell me to turn She were mad So I\\'m not us out of an little down when you did something that we\\'d take their comesing love look at all night say But if he knows We can\\'re gonna be here on the way there\\'s it was finally heart It will getaway car And He play about no one who could\\'ve been dead and make this time single go end up Don\\'t have some day'"
            ]
          },
          "metadata": {
            "tags": []
          }
        },
        {
          "output_type": "stream",
          "text": [
            "country took 9 iterations to get length 115: classification ['alternative']\n",
            "\n",
            "\n",
            "pop\n"
          ],
          "name": "stdout"
        },
        {
          "output_type": "display_data",
          "data": {
            "application/vnd.google.colaboratory.intrinsic+json": {
              "type": "string"
            },
            "text/plain": [
              "\"Throwing pennies at the fountain When  up in your name and he, they think that she was a beautiful They could say about forgiveness into some thing just it for her She did nothing like an sorry And if to get us story We wereaway car It's not love? Cause What still call gone But I don't see right here Don� our reason whoa face In my breath So good nowe-eyed little're gonna play bad things you'd leave smile Now that wanna know what they go (I'm the best party and end game, it goes with a mind on your heart Like this dress once so low There'll be forever\""
            ]
          },
          "metadata": {
            "tags": []
          }
        },
        {
          "output_type": "stream",
          "text": [
            "pop took 9 iterations to get length 111: classification ['alternative']\n",
            "\n",
            "\n",
            "alternative\n"
          ],
          "name": "stdout"
        },
        {
          "output_type": "display_data",
          "data": {
            "application/vnd.google.colaboratory.intrinsic+json": {
              "type": "string"
            },
            "text/plain": [
              "\"I loved you for a little, a little while  way we knew I'm in this Oh-e This is But now You're can tell it was the feeling like why home Cause they make me if that Never said could be your A name It's gonna take Now baby? when everybody with my best 'em) The night (Oh hertil never would've been so sick of here got every time He'll go back to lose he knows about you need You're his by a dress, come around We'm on our one thing I don't have break who me But if we can make it was true This gorgeous as the things are there Oh-\""
            ]
          },
          "metadata": {
            "tags": []
          }
        },
        {
          "output_type": "stream",
          "text": [
            "alternative took 9 iterations to get length 113: classification ['country']\n",
            "\n",
            "\n",
            "country\n"
          ],
          "name": "stdout"
        },
        {
          "output_type": "display_data",
          "data": {
            "application/vnd.google.colaboratory.intrinsic+json": {
              "type": "string"
            },
            "text/plain": [
              "\"I loved you for a little, a little while  Cause I'm just think that we can't be with anything But if way of the phone to take this is all now? You say This was too leave me Oh where he's your name (Yeah) And whoa All star at my own hands out there in face So got it tell once from you made boy, everybody should've been front don oh-ah Ooh time We didn some big love I'm a'll never want home of those favorite man Who could stay better He known that we'd take me back to be here would for quite very first song what baby But if this way It\""
            ]
          },
          "metadata": {
            "tags": []
          }
        },
        {
          "output_type": "stream",
          "text": [
            "country took 9 iterations to get length 115: classification ['country']\n",
            "\n",
            "\n",
            "pop\n"
          ],
          "name": "stdout"
        },
        {
          "output_type": "display_data",
          "data": {
            "application/vnd.google.colaboratory.intrinsic+json": {
              "type": "string"
            },
            "text/plain": [
              "'I loved you for a little, a little while  there\\'s so sick of world My right The tell me want That I can\\'t have to take my lover and anything that coming down And everything Can she was heart knows It rains when we said the way would be begging but he did about what they look with it always need one thing on all alone But you\\'re this baby, \"I wish no should\\'ve got Come in your window He ever let bad long Now I don\\'t know You\\'ll stay house before (Oh) We were up No even drive'"
            ]
          },
          "metadata": {
            "tags": []
          }
        },
        {
          "output_type": "stream",
          "text": [
            "pop took 9 iterations to get length 100: classification ['country']\n",
            "\n",
            "\n",
            "alternative\n"
          ],
          "name": "stdout"
        },
        {
          "output_type": "display_data",
          "data": {
            "application/vnd.google.colaboratory.intrinsic+json": {
              "type": "string"
            },
            "text/plain": [
              "'She didn\\'t have a reason to go, oh no  And I\\'m never would\\'ve been just wanna do That you at your favorite little crazy You see right here and make me how it\\'s not the name on my lips The last time is But if we\\'d get far We\\'re still be something up in love Just like this way together that forever of our one thing\" It was a night for \\'cause they hate-out home So but baby If she will never did) That I don\\'t know you first tell all her put heart (Oh Ooh Yeah, oh Oh my hand He\\'s just ever leave me In the feeling Cause whoa You\\'ll'"
            ]
          },
          "metadata": {
            "tags": []
          }
        },
        {
          "output_type": "stream",
          "text": [
            "alternative took 9 iterations to get length 113: classification ['country']\n",
            "\n",
            "\n",
            "country\n"
          ],
          "name": "stdout"
        },
        {
          "output_type": "display_data",
          "data": {
            "application/vnd.google.colaboratory.intrinsic+json": {
              "type": "string"
            },
            "text/plain": [
              "\"She didn't have a reason to go, oh no  place where you want me That let it's gonna be forever and should never been at my heart You said about the phone So all this love that right there look like nothing I've got how what now Baby The first time Cause they'll tell everything in your face 'cause she would haunt save play but we're one of girl lights go back to take them enough But he was a dream? What think who's ever known Light me, you can feel it off Take up with breakh) We are\""
            ]
          },
          "metadata": {
            "tags": []
          }
        },
        {
          "output_type": "stream",
          "text": [
            "country took 9 iterations to get length 100: classification ['country']\n",
            "\n",
            "\n",
            "pop\n"
          ],
          "name": "stdout"
        },
        {
          "output_type": "display_data",
          "data": {
            "application/vnd.google.colaboratory.intrinsic+json": {
              "type": "string"
            },
            "text/plain": [
              "'She didn\\'t have a reason to go, oh no  it was so long time DonHe\\'re doing and I\\'ll tell me It\\'s just big\\' you got coming out of his name You had together Come on My mind (Oh) And that life are will be yours So \"I let nobody in love We\\'d get something should\\'ve been there when at my world said they come back The bad things They say a little much string But if we didn\\'t take it\\'s gonna call me, baby and save everything He says no-ah break waiting for the best I\\'m so sick of again My one thing think about feel this time In some\\', but It'"
            ]
          },
          "metadata": {
            "tags": []
          }
        },
        {
          "output_type": "stream",
          "text": [
            "pop took 9 iterations to get length 113: classification ['country']\n",
            "\n",
            "\n",
            "alternative\n"
          ],
          "name": "stdout"
        },
        {
          "output_type": "display_data",
          "data": {
            "application/vnd.google.colaboratory.intrinsic+json": {
              "type": "string"
            },
            "text/plain": [
              "\"I remember the eyes Of the kid in the  love, say we are only? We were happy You know it off my heart for me like a cruel waiting there's is wrong) When they get this little at his new life (Yeah), He was catching her'll be so out of wine I'm alone baby again and ever long one than up hold him on keep things that you won't think about something 'em night Cause he could never been can tell You're the way but it goes… Only And here got So even all Come Oh-oh, honey Yeah in a London It's to break me why we'd get said this time Never\""
            ]
          },
          "metadata": {
            "tags": []
          }
        },
        {
          "output_type": "stream",
          "text": [
            "alternative took 9 iterations to get length 113: classification ['alternative']\n",
            "\n",
            "\n",
            "country\n"
          ],
          "name": "stdout"
        },
        {
          "output_type": "display_data",
          "data": {
            "application/vnd.google.colaboratory.intrinsic+json": {
              "type": "string"
            },
            "text/plain": [
              "'I remember the eyes Of the kid in the  And I\\'m not it all my face (Yeah) Who could call me We were see You can feel this way Cause bad back to everything your lot of some time and over is those yet?ro was a dream But if you\\'re asking again So It\\'s too feeling so out With right here only one who said, \"I know what we just like good She\\'t wanna got no He don people all at me I haveoh-aah What might be my but he doesn won recognizein\\' The first (Oh) You can need to say as they see the way home And baby In your name'"
            ]
          },
          "metadata": {
            "tags": []
          }
        },
        {
          "output_type": "stream",
          "text": [
            "country took 9 iterations to get length 113: classification ['alternative']\n",
            "\n",
            "\n",
            "pop\n"
          ],
          "name": "stdout"
        },
        {
          "output_type": "display_data",
          "data": {
            "application/vnd.google.colaboratory.intrinsic+json": {
              "type": "string"
            },
            "text/plain": [
              "\"I remember the eyes Of the kid in the  get this little heart And it's with a lot and say The other wrong We were never run goes Hey when you're so moment I'm nice back to see me Don't help up here That feels is mine Oh, better by your face So but they said she was take them out of phone Cause baby he says that love not call fall at home into my dreams But if) Baby alone known He's on the time It turns down When all this night nothing what we can� green eyes And it\""
            ]
          },
          "metadata": {
            "tags": []
          }
        },
        {
          "output_type": "stream",
          "text": [
            "pop took 9 iterations to get length 102: classification ['alternative']\n",
            "\n",
            "\n",
            "alternative\n"
          ],
          "name": "stdout"
        },
        {
          "output_type": "display_data",
          "data": {
            "application/vnd.google.colaboratory.intrinsic+json": {
              "type": "string"
            },
            "text/plain": [
              "\"The first shots fired, everybody's  like a lot of there in the way And I said about me But that doesn't help it could be alright when she would up He won feel this little red) It was so late one With you are out at your best night were nothing and ever been just (Oh-eoh friends No world can make them now You know? The only is mean keep off my hand Cause baby why we both take me down about what I'm drowning Baby, oh Oh ah Yeah Oah Say he says better), think she'll be blue) It's all that We never girl don't play That was a\""
            ]
          },
          "metadata": {
            "tags": []
          }
        },
        {
          "output_type": "stream",
          "text": [
            "alternative took 9 iterations to get length 111: classification ['pop']\n",
            "\n",
            "\n",
            "country\n"
          ],
          "name": "stdout"
        },
        {
          "output_type": "display_data",
          "data": {
            "application/vnd.google.colaboratory.intrinsic+json": {
              "type": "string"
            },
            "text/plain": [
              "\"The first shots fired, everybody's  like a love To be good Don't have your name And if it was so dead-ooh) So here into the ground There knows that you look at me in home over Cause there is where what I can call? She'll find sorry (I'm just stop to take my head one of this time they're getting back As New York But body In our old only thing eyes on their friends, love said oe it works That's not a match Like we should never let some things Ooh-ah) You made your face that will be sweet up the world all you know And if\""
            ]
          },
          "metadata": {
            "tags": []
          }
        },
        {
          "output_type": "stream",
          "text": [
            "country took 9 iterations to get length 109: classification ['pop']\n",
            "\n",
            "\n",
            "pop\n"
          ],
          "name": "stdout"
        },
        {
          "output_type": "display_data",
          "data": {
            "application/vnd.google.colaboratory.intrinsic+json": {
              "type": "string"
            },
            "text/plain": [
              "\"The first shots fired, everybody's  like there But if it right in my favorite song off the door And her still be here was feel your heart The way that I'd make you think about me out? (You got a man who can't see say no) We could believe by some time Oh-oh That hate he should've been waiting He don just another look at she keep singing It did baby If now are so bad girl as not get there's nothing on the first string W old',a Only if they play So But I'm sorry, you're all our dark good thing that'll be alone Cause let me (Oh\""
            ]
          },
          "metadata": {
            "tags": []
          }
        },
        {
          "output_type": "stream",
          "text": [
            "pop took 9 iterations to get length 110: classification ['pop']\n",
            "\n",
            "\n",
            "alternative\n"
          ],
          "name": "stdout"
        },
        {
          "output_type": "display_data",
          "data": {
            "application/vnd.google.colaboratory.intrinsic+json": {
              "type": "string"
            },
            "text/plain": [
              "'One daybreak, one heartache Every  No my wasted there again He was a child all so much And I\\'m just red his\\'s gonna sayin\\' for your car But he still did it right now if they never left me out baby Just come back) Cause but we\\'re not It would\\'ve been waiting at the whole phone- too good? Why can\\'t look like feel this break and over, yeah Oh what to let you know that I don When said bad time You could play up again every door just how\\'ll be here love is why all by her So it\\'s nothing wanna go on our one thing Don\" And when they'"
            ]
          },
          "metadata": {
            "tags": []
          }
        },
        {
          "output_type": "stream",
          "text": [
            "alternative took 9 iterations to get length 112: classification ['pop']\n",
            "\n",
            "\n",
            "country\n"
          ],
          "name": "stdout"
        },
        {
          "output_type": "display_data",
          "data": {
            "application/vnd.google.colaboratory.intrinsic+json": {
              "type": "string"
            },
            "text/plain": [
              "\"One daybreak, one heartache Every  who will are like a man into the time is But if it's so town I'm not never been waiting with me of once you And when he look at all they make his room He said forever and my lips In our get far Cause she was there than no-oh She'll see right night for some car There Let their name on your side only one Just another nothing) Kiss up mine (O years in the dark!) It's walking song way home around You wanna think who blacklight is him goes things we are a cruel have to let them of lights, oh so you can say Baby\""
            ]
          },
          "metadata": {
            "tags": []
          }
        },
        {
          "output_type": "stream",
          "text": [
            "country took 9 iterations to get length 115: classification ['pop']\n",
            "\n",
            "\n",
            "pop\n"
          ],
          "name": "stdout"
        },
        {
          "output_type": "display_data",
          "data": {
            "application/vnd.google.colaboratory.intrinsic+json": {
              "type": "string"
            },
            "text/plain": [
              "'One daybreak, one heartache Every  of my life like and to know all And I\\'m not so night He\\'s wrong That he can\\'t see it when You\\'re the way where this first time But if she was a mirror at me in love their little stars for forgiveness under his song is better now Meet We\\'ll never let him said \"No back The only thing that wishing bad cruel summer When you feel right here by coming are around And I know why we go Oh, home (Oh even say howa oh-oh) In the way It\\'s there to be our car He want of this lights and tell her boy on every'"
            ]
          },
          "metadata": {
            "tags": []
          }
        },
        {
          "output_type": "stream",
          "text": [
            "pop took 9 iterations to get length 113: classification ['pop']\n",
            "\n",
            "\n",
            "alternative\n"
          ],
          "name": "stdout"
        },
        {
          "output_type": "display_data",
          "data": {
            "application/vnd.google.colaboratory.intrinsic+json": {
              "type": "string"
            },
            "text/plain": [
              "'I got a lying smile I never put out for  (No) You are no one It\\'s like your mind Like ever gonna make it right through me of here, \"Go But if there was her In the middle With his pain with you know that then won\\'t look at all my best thing and now he says nothing The cara goes He knew\" Ooh-o), I thought Come on a girl by so mad We\\'d be baby What for an rain It\\'s been some to take our time Baby If this known Is one My last night when we said, here oah) You come back up me (Look That how it was the'"
            ]
          },
          "metadata": {
            "tags": []
          }
        },
        {
          "output_type": "stream",
          "text": [
            "alternative took 9 iterations to get length 113: classification ['alternative']\n",
            "\n",
            "\n",
            "country\n"
          ],
          "name": "stdout"
        },
        {
          "output_type": "display_data",
          "data": {
            "application/vnd.google.colaboratory.intrinsic+json": {
              "type": "string"
            },
            "text/plain": [
              "'I got a lying smile I never put out for  of the man We can\\'t met me go love that\\'s all my heart (You look at When you know what they tell your face in an red name But then He was coming walk and) And when we\\'d be us down as thereering if he goes, come back are again see Cause You\\'re a say I\\'m so long our first time Don Baby think let this would could call him on all the middle of bad man (Ooh can\\'t wanna need to everything ever New York truck \"I won\\'ve got had some last with me Now coming love We guess hey for in places He\\'ll'"
            ]
          },
          "metadata": {
            "tags": []
          }
        },
        {
          "output_type": "stream",
          "text": [
            "country took 9 iterations to get length 116: classification ['alternative']\n",
            "\n",
            "\n",
            "pop\n"
          ],
          "name": "stdout"
        },
        {
          "output_type": "display_data",
          "data": {
            "application/vnd.google.colaboratory.intrinsic+json": {
              "type": "string"
            },
            "text/plain": [
              "'I got a lying smile I never put out for  you, no day You\\'re not what they said here? No If it\\'s with me feel so mad All the best that honey nothing but we can\\'t let them everything go as this was stay) But if her come back to be waiting before now There will hold on right at my soul Everything won have I ever got a little place in and see whoa (Oh-aah Oh Ooh wish you\\'ll tell him It\\'s not don just beautiful car And they look what\\'d say? So feeling sick of me when we\\'re sorry, \"he fly whenever she can coming home They were \\'cause'"
            ]
          },
          "metadata": {
            "tags": []
          }
        },
        {
          "output_type": "stream",
          "text": [
            "pop took 9 iterations to get length 112: classification ['alternative']\n",
            "\n",
            "\n",
            "alternative\n"
          ],
          "name": "stdout"
        },
        {
          "output_type": "display_data",
          "data": {
            "application/vnd.google.colaboratory.intrinsic+json": {
              "type": "string"
            },
            "text/plain": [
              "\"There you are Standin' there like you  the one And I know about a lot of your life gonna be in his first string You tell me home They say who could stay? Oh-aah, ooh again If they're really see up my head if we love she's not timeing queen Cause it was never feel this smile But then long something bad is some big' for lying So don't think just wanna take our best as In the high in a friend (Ah The rain We are so baby I'm no one of right through starlight You got that easy me, oh) No Who know you forget about all her'd be\""
            ]
          },
          "metadata": {
            "tags": []
          }
        },
        {
          "output_type": "stream",
          "text": [
            "alternative took 9 iterations to get length 112: classification ['alternative']\n",
            "\n",
            "\n",
            "country\n"
          ],
          "name": "stdout"
        },
        {
          "output_type": "display_data",
          "data": {
            "application/vnd.google.colaboratory.intrinsic+json": {
              "type": "string"
            },
            "text/plain": [
              "\"There you are Standin' there like you  everything So I will gonna find a love right we watch me for the rest of my hand (I know that's not nothing is time The only thing girl, oh-oh) And they wanna call it gets You can make your heart When when but old But he was some she never stop Like our world That're so sickin' go tell red beautiful No one whoa friend has try an break at you think of them to take how then bad night Oh see me are over this dress and my hand I'm sorry (Oh- 'cause we said all with a little A oh Oh,\""
            ]
          },
          "metadata": {
            "tags": []
          }
        },
        {
          "output_type": "stream",
          "text": [
            "country took 9 iterations to get length 112: classification ['alternative']\n",
            "\n",
            "\n",
            "pop\n"
          ],
          "name": "stdout"
        },
        {
          "output_type": "display_data",
          "data": {
            "application/vnd.google.colaboratory.intrinsic+json": {
              "type": "string"
            },
            "text/plain": [
              "\"There you are Standin' there like you  one I love she think nothing at the first time for a thing That could tell me crazy If this is not her But but how all of just know we've been if waiting to break and they let through your eyes Don't hope off an big She don wanna be red-out, oh It's too summer He made our beautiful face in his best song You're coming The road keep out on my game I'm only one And everybody doesn like life even see every night now dreams Ooh who got that'll never met When right there was worth no the little late (Oh) Cause we can make\""
            ]
          },
          "metadata": {
            "tags": []
          }
        },
        {
          "output_type": "stream",
          "text": [
            "pop took 9 iterations to get length 116: classification ['alternative']\n",
            "\n",
            "\n",
            "alternative\n"
          ],
          "name": "stdout"
        },
        {
          "output_type": "display_data",
          "data": {
            "application/vnd.google.colaboratory.intrinsic+json": {
              "type": "string"
            },
            "text/plain": [
              "'Come on, gather \\'round, I\\'m gonna tell  (Oh) When we\\'re the dark of this love Take it\\'s not a lot But that you think he knows they\\'ll put me out again You are in my headin\\' through them Oh-oh dead In get no one whoa And now don\\'t see The place like him thing \"I will never thought I\\'ve been feeling, come on\\', before We were right here let so long by we\\'d be alone oh (Oh) This ain still got the first our best kiss It\\'s not was a movie of me Now He had to go back If this You\\'re lov too good love that'"
            ]
          },
          "metadata": {
            "tags": []
          }
        },
        {
          "output_type": "stream",
          "text": [
            "alternative took 9 iterations to get length 108: classification ['country']\n",
            "\n",
            "\n",
            "country\n"
          ],
          "name": "stdout"
        },
        {
          "output_type": "display_data",
          "data": {
            "application/vnd.google.colaboratory.intrinsic+json": {
              "type": "string"
            },
            "text/plain": [
              "'Come on, gather \\'round, I\\'m gonna tell  And one now Oh Ooh- away With you were trouble when he\\'s been waiting for the pain of this good time to come back He got me that we never say So whoa oh It goes around Cause it was not where are old lights go out The world knows? In a bad girl at night, she didn\\'t stay baby says (Call songin\\' an little smile and thing so mad have\\'s nothing I hate That one in our love Oh-ah) You put And he feel beautiful\\'re gonna take my dreams Baby gave me that they like this know why you can forget\" They\\'ll'"
            ]
          },
          "metadata": {
            "tags": []
          }
        },
        {
          "output_type": "stream",
          "text": [
            "country took 9 iterations to get length 111: classification ['country']\n",
            "\n",
            "\n",
            "pop\n"
          ],
          "name": "stdout"
        },
        {
          "output_type": "display_data",
          "data": {
            "application/vnd.google.colaboratory.intrinsic+json": {
              "type": "string"
            },
            "text/plain": [
              "'Come on, gather \\'round, I\\'m gonna tell  up that you\\'re not place But He\\'s what they made your face And now before her old lights let me home Like it took the way out No oh Just nothing he did something bad It was with this They say The one who from little in my mind has to stay baby Are we\\'d see an sparks didn\\'t all I guess everything over their room like fun of ouroh, \"You\\'ll\\'ve been beautiful smile and that\\'s you\\'re anything at night And no oOh time doniev about right Cause got a man again But if it look love they want You make me (O Honey-ah'"
            ]
          },
          "metadata": {
            "tags": []
          }
        },
        {
          "output_type": "stream",
          "text": [
            "pop took 9 iterations to get length 112: classification ['country']\n",
            "\n",
            "\n",
            "alternative\n"
          ],
          "name": "stdout"
        },
        {
          "output_type": "display_data",
          "data": {
            "application/vnd.google.colaboratory.intrinsic+json": {
              "type": "string"
            },
            "text/plain": [
              "'There\\'s a little girl in this little  like the name And that you said, \"I got it knows if baby never been around You\\'ll be your face Come on my love Cause I think about but they let me The rain When we both run us Now do Baby now Is what goes Oh-out there rains when Ooh ever was an pouring down But darling That make heart Just know why (Oh she will go back for a girla oh) And this time you said, won\\'t have to the last right here\\'s not sorry had together I\\'m just want out with me crazy Who come away We\\'ll touch about fall My baby?'"
            ]
          },
          "metadata": {
            "tags": []
          }
        },
        {
          "output_type": "stream",
          "text": [
            "alternative took 9 iterations to get length 113: classification ['country']\n",
            "\n",
            "\n",
            "country\n"
          ],
          "name": "stdout"
        },
        {
          "output_type": "display_data",
          "data": {
            "application/vnd.google.colaboratory.intrinsic+json": {
              "type": "string"
            },
            "text/plain": [
              "\"There's a little girl in this little  She ain't look at your name And she says is on what it goes something That knows that'll be for you never did, In the lights to say about me So can keep with ya I'm not my old Hey from love just nothing when he doesn They come back some time they said no one so Come out The only stupid will tell him's gonna see He feel enough You gave them true beautiful world goes on all No best friends this way it go down And night home't look at and\""
            ]
          },
          "metadata": {
            "tags": []
          }
        },
        {
          "output_type": "stream",
          "text": [
            "country took 9 iterations to get length 101: classification ['country']\n",
            "\n",
            "\n",
            "pop\n"
          ],
          "name": "stdout"
        },
        {
          "output_type": "display_data",
          "data": {
            "application/vnd.google.colaboratory.intrinsic+json": {
              "type": "string"
            },
            "text/plain": [
              "\"There's a little girl in this little  nothing So I think about is never take it works And everything? whoa oh That she hope you'll bein' for all on the last time But when if he had our friend (ah) just so many side, then want Just one Who could find me that they're got bad see He's nice are baby love friends and leave life don't know there was wrong fake waiting It turns out like a little what their first day is enough to wishing around And I'm only say way this lights But you can be the man not my face They'll never let feel our You tell everything A ain\""
            ]
          },
          "metadata": {
            "tags": []
          }
        },
        {
          "output_type": "stream",
          "text": [
            "pop took 9 iterations to get length 115: classification ['country']\n",
            "\n",
            "\n",
            "alternative\n"
          ],
          "name": "stdout"
        },
        {
          "output_type": "display_data",
          "data": {
            "application/vnd.google.colaboratory.intrinsic+json": {
              "type": "string"
            },
            "text/plain": [
              "'Your feet under the table I love it when  that was all of you\\'re in my heart But there\\'s not at your mind It could be mad He never would have a red on our way The same So oh-oh (Oh, no one and let me like but he knew him feel this other overing to make she No only is treacherous I ain\\'t nothing why? the world do about her Oh oah! by now When they know you got it love outtil ah And\") You\\'re still But so good here\\'s my head soul He come back of \"I\\'m The best down Why goes was tooelia Street-oh dead'"
            ]
          },
          "metadata": {
            "tags": []
          }
        },
        {
          "output_type": "stream",
          "text": [
            "alternative took 9 iterations to get length 109: classification ['alternative']\n",
            "\n",
            "\n",
            "country\n"
          ],
          "name": "stdout"
        },
        {
          "output_type": "display_data",
          "data": {
            "application/vnd.google.colaboratory.intrinsic+json": {
              "type": "string"
            },
            "text/plain": [
              "'Your feet under the table I love it when  back to take my mind But there\\'s not that Don\\'t know away like this pain The best! light She\\'ll be sorry for you can hear me if an think he could call? You say your name When all go down And they don blood, \"Ooh That was a little bad are long first did on the way of our night in front heart (You keep nice eyes and watch something see) But I\\'d get back to take this love my hand It\\'s no one whoa oh-ah but we never have me so many room So here got fall home), can\\'t know not around'"
            ]
          },
          "metadata": {
            "tags": []
          }
        },
        {
          "output_type": "stream",
          "text": [
            "country took 9 iterations to get length 113: classification ['alternative']\n",
            "\n",
            "\n",
            "pop\n"
          ],
          "name": "stdout"
        },
        {
          "output_type": "display_data",
          "data": {
            "application/vnd.google.colaboratory.intrinsic+json": {
              "type": "string"
            },
            "text/plain": [
              "'Your feet under the table I love it when  place was so not of my daddy doesn\\'t lookin\\' on our party, you said \"Oh-ah You see right at me that\\'s all go now If everything a little So this city Don concerned Darling again It need to take with your face And we\\'d be for she\\'ll get other them Oh), way about the world ( have something they tell some into girl I\\'m beggingro can make lights out of my hand body, oh old back but one whoa on\\' around and trouble when you\\'re a good thing me why love\\'s not summer he said if it works You got an let'"
            ]
          },
          "metadata": {
            "tags": []
          }
        },
        {
          "output_type": "stream",
          "text": [
            "pop took 9 iterations to get length 112: classification ['alternative']\n",
            "\n",
            "\n",
            "alternative\n"
          ],
          "name": "stdout"
        },
        {
          "output_type": "display_data",
          "data": {
            "application/vnd.google.colaboratory.intrinsic+json": {
              "type": "string"
            },
            "text/plain": [
              "'I need you more than I know how to  And it\\'s gonna lose your face You think bad on my own (Oh) But our eyes are the first, for a lot of me then we can\\'t call nothing so that he\"), this whole down and ever-e It was not at night They say no one thing is why could feel you see He got us heart works The way if they make all an asking My I wanna left summer) Cause baby? as Are she\\'s when life home You\\'re gone something And good around here know there girl up to me forever the world for a little fun of her give it have in our best'"
            ]
          },
          "metadata": {
            "tags": []
          }
        },
        {
          "output_type": "stream",
          "text": [
            "alternative took 9 iterations to get length 117: classification ['country']\n",
            "\n",
            "\n",
            "country\n"
          ],
          "name": "stdout"
        },
        {
          "output_type": "display_data",
          "data": {
            "application/vnd.google.colaboratory.intrinsic+json": {
              "type": "string"
            },
            "text/plain": [
              "'I need you more than I know how to  when they can watch me But there\\'s Tell the way home with all is fall This love You\\'re not ever say about \\'cause he was a little thing that we are song The kind of time And then That would see what she were so good? She could be afraid), right out, on our hands goes best if Don\\'t look at once\" in my hand this one who went down I\\'m just said you live girl Come back to me place knows He got bad\\'s an architect But there where'"
            ]
          },
          "metadata": {
            "tags": []
          }
        },
        {
          "output_type": "stream",
          "text": [
            "country took 9 iterations to get length 100: classification ['country']\n",
            "\n",
            "\n",
            "pop\n"
          ],
          "name": "stdout"
        },
        {
          "output_type": "display_data",
          "data": {
            "application/vnd.google.colaboratory.intrinsic+json": {
              "type": "string"
            },
            "text/plain": [
              "\"I need you more than I know how to  And there's the one But they can't tell me that would take my head? You're a little stars for your eyes and have an heart home That feels like In red The thing was Just don off those beautiful of things when 'bout see them alone then we belong with him Oh, honey Cause you say To make everything When this dress so long come back live girl at coming undone through Your would be here And that's never thought I know it all some wishing known he won't nothing as\""
            ]
          },
          "metadata": {
            "tags": []
          }
        },
        {
          "output_type": "stream",
          "text": [
            "pop took 9 iterations to get length 101: classification ['country']\n",
            "\n",
            "\n",
            "alternative\n"
          ],
          "name": "stdout"
        },
        {
          "output_type": "display_data",
          "data": {
            "application/vnd.google.colaboratory.intrinsic+json": {
              "type": "string"
            },
            "text/plain": [
              "'He\\'s got a nice little life He\\'s gonna , oh It was your hand And she know what we\\'re not the phone like I\\'m just stay\" (I won\\'t make it in Come on still But Darling) up why when you think from my name), wanna be asking with his middle of this This is another You don him ain been whole a long No one The front kind thing need to feel girl Baby Cause everything that baby if they play people have never gonna love So darling, come back but We let me like go And so no first'"
            ]
          },
          "metadata": {
            "tags": []
          }
        },
        {
          "output_type": "stream",
          "text": [
            "alternative took 9 iterations to get length 100: classification ['country']\n",
            "\n",
            "\n",
            "country\n"
          ],
          "name": "stdout"
        },
        {
          "output_type": "display_data",
          "data": {
            "application/vnd.google.colaboratory.intrinsic+json": {
              "type": "string"
            },
            "text/plain": [
              "'He\\'s got a nice little life He\\'s gonna  that where let you think I\\'m asking me home Oh, oh It was coming And If he didn\\'t help up My see right there in my name Don Baby But \"I\\'ll be something way anything at them if she knows Ooh (What so long-ah) W thing\" of this love is a smile So never try What no one says when not the lights out alone\\'re sorry We were sparks\\'s been I have to know what they don loud You think you got another look like an drive And he said, mm That can\\'t say Oh? In your life waiting for down Don even let'"
            ]
          },
          "metadata": {
            "tags": []
          }
        },
        {
          "output_type": "stream",
          "text": [
            "country took 9 iterations to get length 113: classification ['country']\n",
            "\n",
            "\n",
            "pop\n"
          ],
          "name": "stdout"
        },
        {
          "output_type": "display_data",
          "data": {
            "application/vnd.google.colaboratory.intrinsic+json": {
              "type": "string"
            },
            "text/plain": [
              "'He\\'s got a nice little life He\\'s gonna  that That he might ain\\'t say I think knows it then Whoa \" but they don� enough, she was stay to be an face And if baby Oh who look at me Don It says no one and you can even so many There is But on my own Cause there didn everything said us play here with him just wanna find a false? Ooh beautiful-out oh (Call what What never know anything like this love that I\\'m in the very little stars coming back of yourself up) So, come around We\\'ll be your hair their lot Baby The feeling he\\'s time When them He got'"
            ]
          },
          "metadata": {
            "tags": []
          }
        },
        {
          "output_type": "stream",
          "text": [
            "pop took 9 iterations to get length 115: classification ['country']\n",
            "\n",
            "\n",
            "alternative\n"
          ],
          "name": "stdout"
        },
        {
          "output_type": "display_data",
          "data": {
            "application/vnd.google.colaboratory.intrinsic+json": {
              "type": "string"
            },
            "text/plain": [
              "'I shined your shoes I poured the wine I , it\\'s down And my life was with you like a long list of all these things magic baby be something there he had around But then know That they\\'ll find Oh-e whoa No more They say (You won\\'t made It goes to let we don feel so good? You\\'re yours this night that look at me away Come on front last time Baby Cause why) break every love My show And I\\'m here and you put my worst of your heart was a bad blood, \\'cause he\\'s the whole best first one thing in our everything\" baby down if it off times But they'"
            ]
          },
          "metadata": {
            "tags": []
          }
        },
        {
          "output_type": "stream",
          "text": [
            "alternative took 9 iterations to get length 114: classification ['alternative']\n",
            "\n",
            "\n",
            "country\n"
          ],
          "name": "stdout"
        },
        {
          "output_type": "display_data",
          "data": {
            "application/vnd.google.colaboratory.intrinsic+json": {
              "type": "string"
            },
            "text/plain": [
              "\"I shined your shoes I poured the wine I  Your my hometown was not for you that night You know in an man And about all now Oh, they said no one who say if it's mine where we get our long usin' with a thousand up But baby The bad name ( friend) Baby So got this close Like there'm begging'd never tell 'cause she met some time right Ooh-ah This had see No car of better is in the first need to take me your room We're something you'll hurt him wasâ like I can make it one who still love those that little best no sad break away When we don't\""
            ]
          },
          "metadata": {
            "tags": []
          }
        },
        {
          "output_type": "stream",
          "text": [
            "country took 9 iterations to get length 115: classification ['alternative']\n",
            "\n",
            "\n",
            "pop\n"
          ],
          "name": "stdout"
        },
        {
          "output_type": "display_data",
          "data": {
            "application/vnd.google.colaboratory.intrinsic+json": {
              "type": "string"
            },
            "text/plain": [
              "\"I shined your shoes I poured the wine I  for you to just said, if it was feeling like no one whoa known You know all things that Don't ask me-oh (Oothe what they'll be here's this look at our get there tonight? In we'd take my wasted time of only thing people would hold No other new and see how much Like them right Oh oTeam down in his head back now life He feels too late, got a Wednesday' through the teardro're never your mind) But I can just want you don't know what they think that one who do And no reputation- makes me so sick\""
            ]
          },
          "metadata": {
            "tags": []
          }
        },
        {
          "output_type": "stream",
          "text": [
            "pop took 9 iterations to get length 110: classification ['alternative']\n",
            "\n",
            "\n",
            "alternative\n"
          ],
          "name": "stdout"
        },
        {
          "output_type": "display_data",
          "data": {
            "application/vnd.google.colaboratory.intrinsic+json": {
              "type": "string"
            },
            "text/plain": [
              "\"Me and Britney used to sit on the front  you, I know that it all my way your face You're not a storm? And now we were with her's gonna go down out of here by me But so much as he up) This is in love thing about some pain Cause baby if ah! around In old door like when there but (And never did something Oh-oh Shake what things've got time home If ever could stay this right'd be bad The girl No one always found You're still think I was the rain It oh no When you know that to go back Now we are so long a white Take it's better than\""
            ]
          },
          "metadata": {
            "tags": []
          }
        },
        {
          "output_type": "stream",
          "text": [
            "alternative took 9 iterations to get length 117: classification ['country']\n",
            "\n",
            "\n",
            "country\n"
          ],
          "name": "stdout"
        },
        {
          "output_type": "display_data",
          "data": {
            "application/vnd.google.colaboratory.intrinsic+json": {
              "type": "string"
            },
            "text/plain": [
              "\"Me and Britney used to sit on the front  It'll be not thing that's no one we remember it all my name, I'm sitting in your eyes And he did like beautiful-eyed me You keep them So don't know what you've been a warning miss us down how this time Cause baby Now honey The only reason for got bad world were gone Don find away No long're his heart won just so sick of their dress up with her'll be the story That's gonna getaway car Ooh) Did they said, yeah girl Oh-ah In no one And I'm an feel like our first met me This is on all coming\""
            ]
          },
          "metadata": {
            "tags": []
          }
        },
        {
          "output_type": "stream",
          "text": [
            "country took 9 iterations to get length 112: classification ['country']\n",
            "\n",
            "\n",
            "pop\n"
          ],
          "name": "stdout"
        },
        {
          "output_type": "display_data",
          "data": {
            "application/vnd.google.colaboratory.intrinsic+json": {
              "type": "string"
            },
            "text/plain": [
              "'Me and Britney used to sit on the front  why break a time Cause I\\'m sorry \\'cause he just would be gonna find then for our town And my hometown, watch you took it was good-out? Baby Did should know The new That\\'s nothing how this baby so \"Fightering if He said There goes in no she\\'d get better In me So Don\\'t say to think of an song what their caraway name You could take them there is not feel like stars It did something bad one and let I have us down This way \\'cause he\\'ll never walk away, hey at home And we\\'re the keys-he were oh O'"
            ]
          },
          "metadata": {
            "tags": []
          }
        },
        {
          "output_type": "stream",
          "text": [
            "pop took 9 iterations to get length 112: classification ['country']\n",
            "\n",
            "\n",
            "alternative\n"
          ],
          "name": "stdout"
        },
        {
          "output_type": "display_data",
          "data": {
            "application/vnd.google.colaboratory.intrinsic+json": {
              "type": "string"
            },
            "text/plain": [
              "'I know we\\'ve got a lot to say Between  of your letter, I\\'ll be the middle You tell \\'til now like it\" And they said no one Never found Can\\'t feel so his car friends would In my hand and you\\'re not all Don see Cause baby just gonna take this time have from every But ifooh-ho but ever was a good When we donin\\' They break down (M on what there\\'s mine), who could\\'ve been the last world lights are when I\\'m feelinga up right here? You know now girl love us thing me that Oh, so long is one The cold If it to save some gone'"
            ]
          },
          "metadata": {
            "tags": []
          }
        },
        {
          "output_type": "stream",
          "text": [
            "alternative took 9 iterations to get length 110: classification ['pop']\n",
            "\n",
            "\n",
            "country\n"
          ],
          "name": "stdout"
        },
        {
          "output_type": "display_data",
          "data": {
            "application/vnd.google.colaboratory.intrinsic+json": {
              "type": "string"
            },
            "text/plain": [
              "\"I know we've got a lot to say Between  that was the reason of coming And then every time, baby Oh-oh I'd be us out But you for what they said about me? This is hold your name You'll tell or show it now and their down 'cause he's killing around Baby That no one Did get there might find all never left... They know The way home at our beautiful Like if we were love too late so It was the car wishing star of waiting, I wanna see this can say right my m once And every\""
            ]
          },
          "metadata": {
            "tags": []
          }
        },
        {
          "output_type": "stream",
          "text": [
            "country took 9 iterations to get length 100: classification ['pop']\n",
            "\n",
            "\n",
            "pop\n"
          ],
          "name": "stdout"
        },
        {
          "output_type": "display_data",
          "data": {
            "application/vnd.google.colaboratory.intrinsic+json": {
              "type": "string"
            },
            "text/plain": [
              "\"I know we've got a lot to say Between  that than the players Don't're not sorry But I'll be here there's things right by me All you'd take alone You can always miss your hand And all of them out and no one who never gonna would go back This ain late To come down There was only if were so dead-ooh, got a are summer He shouldn rains when they put up Oh? Noh In our should've didn't even know what I'm asking their face (I'll be mind) What died as the dark on my eyes And baby yeah The rain But you're all enough of might out at me\""
            ]
          },
          "metadata": {
            "tags": []
          }
        },
        {
          "output_type": "stream",
          "text": [
            "pop took 9 iterations to get length 112: classification ['pop']\n",
            "\n",
            "\n",
            "alternative\n"
          ],
          "name": "stdout"
        },
        {
          "output_type": "display_data",
          "data": {
            "application/vnd.google.colaboratory.intrinsic+json": {
              "type": "string"
            },
            "text/plain": [
              "'Something about me didn\\'t fit into your  that And I\\'m the way who\\'s not too late, to say You\\'re so and it works That ooh-o So feel nothing Now she was a lot of you\\'ll take my mind But what they might look at all anymore When when he could\\'ve been from this love is no one thing me like home Your heart don\\'t know can see why we did something over No said He says people right now, the car And I\\'m sorry for out through your face in his first time forever waiting) Now If it\\'s not so little kiss then keep (And that make\" It was a best'"
            ]
          },
          "metadata": {
            "tags": []
          }
        },
        {
          "output_type": "stream",
          "text": [
            "alternative took 9 iterations to get length 112: classification ['alternative']\n",
            "\n",
            "\n",
            "country\n"
          ],
          "name": "stdout"
        },
        {
          "output_type": "display_data",
          "data": {
            "application/vnd.google.colaboratory.intrinsic+json": {
              "type": "string"
            },
            "text/plain": [
              "\"Something about me didn't fit into your  So one like the car The eyes, who you are' it's so world But if I keep my door (Get with his life love? They say To never know that'll be asking again in those Now Oh Like why will wait to get this girl at our dress yeah-da black dreams laugh 'bout Don't see right there was a lot of no You tell me up feel they'm just like as it's too late off the other got nothing you want oh, come back thing their best are so fast It always know what I thought To make everything that boy Just don good door time\""
            ]
          },
          "metadata": {
            "tags": []
          }
        },
        {
          "output_type": "stream",
          "text": [
            "country took 9 iterations to get length 114: classification ['alternative']\n",
            "\n",
            "\n",
            "pop\n"
          ],
          "name": "stdout"
        },
        {
          "output_type": "display_data",
          "data": {
            "application/vnd.google.colaboratory.intrinsic+json": {
              "type": "string"
            },
            "text/plain": [
              "\"Something about me didn't fit into your  So you the pain smile And nothing new her. hold here to be better I don� back they are young, no one thing that's what it goes down like right That was dark old girl at home Don he could talk she tell quite where again But if him T took gonna miss more It feels us To'm so long life time than this wrong They're all of me Oh-lo who say I can't know therehe Look through the world hear his way A He says is a beautiful She's nothing in your face And then you leave friends want it do love here with an feet You are\""
            ]
          },
          "metadata": {
            "tags": []
          }
        },
        {
          "output_type": "stream",
          "text": [
            "pop took 9 iterations to get length 117: classification ['alternative']\n",
            "\n",
            "\n",
            "alternative\n"
          ],
          "name": "stdout"
        },
        {
          "output_type": "display_data",
          "data": {
            "application/vnd.google.colaboratory.intrinsic+json": {
              "type": "string"
            },
            "text/plain": [
              "\"I need you now Read letters that I wrote  this lights We're still lose your window back to me said, they never make it The way home You'll left her'd think about the skyin' else when we forget out of us into He would come on my mind Cause baby right here? W in an angel will get a beautiful It's you did again than people and let their mad (Ooh) Light so good like And she could stay If nothing 'em, our time We're waiting at life oh-o York No one but I'm with me home You can hear this way to meet it was the first had them why we\""
            ]
          },
          "metadata": {
            "tags": []
          }
        },
        {
          "output_type": "stream",
          "text": [
            "alternative took 9 iterations to get length 113: classification ['country']\n",
            "\n",
            "\n",
            "country\n"
          ],
          "name": "stdout"
        },
        {
          "output_type": "display_data",
          "data": {
            "application/vnd.google.colaboratory.intrinsic+json": {
              "type": "string"
            },
            "text/plain": [
              "\"I need you now Read letters that I wrote  Don't like him The way would are hard to help let me-Sw's all this magic it goes with go You knew So, around here see them when they will come back and the time we can still not long But there was too on When things That night by fall as life It took a little makes you're only one who'll be an feeling he tell right now To break out what about away I wish What's so him? There knows heart down of me do love is like no thing\""
            ]
          },
          "metadata": {
            "tags": []
          }
        },
        {
          "output_type": "stream",
          "text": [
            "country took 9 iterations to get length 101: classification ['country']\n",
            "\n",
            "\n",
            "pop\n"
          ],
          "name": "stdout"
        },
        {
          "output_type": "display_data",
          "data": {
            "application/vnd.google.colaboratory.intrinsic+json": {
              "type": "string"
            },
            "text/plain": [
              "\"I need you now Read letters that I wrote  like your past (Oh) You can't want to take my head? My face But all this way home All It's over they'll be mine one who could runin' So Come on our world And when then fall, should know Cause baby ah The dress so Oh- turned hard yeah met it was a long much in love if you're made them out of fast night about the first time As I have now W me again Let his heart eyes never feel nothing something is only playoh) You'm with front has to see oh It's not like back room be alright how this way Tell\""
            ]
          },
          "metadata": {
            "tags": []
          }
        },
        {
          "output_type": "stream",
          "text": [
            "pop took 9 iterations to get length 115: classification ['country']\n",
            "\n",
            "\n",
            "alternative\n"
          ],
          "name": "stdout"
        },
        {
          "output_type": "display_data",
          "data": {
            "application/vnd.google.colaboratory.intrinsic+json": {
              "type": "string"
            },
            "text/plain": [
              "\"I think you fell off of your cloud today  into the new This is a lot there little All all Ooh, o made me You are up with my hair-o're not It's an lips And I'm anything like his one girl by front here reputation Cause they got that we'll be alone The whole time Soon baby when he was dark' as it gets of them out and know why she should've been so good But if you did again My heart says That this way would never have to but then come back around friends He won't see's no So, oh-oh You said some my hand I could take It used a long\""
            ]
          },
          "metadata": {
            "tags": []
          }
        },
        {
          "output_type": "stream",
          "text": [
            "alternative took 9 iterations to get length 115: classification ['alternative']\n",
            "\n",
            "\n",
            "country\n"
          ],
          "name": "stdout"
        },
        {
          "output_type": "display_data",
          "data": {
            "application/vnd.google.colaboratory.intrinsic+json": {
              "type": "string"
            },
            "text/plain": [
              "'I think you fell off of your cloud today  We could never better in my head Now I\\'m not a long he\\'s too room And us back But we don\\'t know what it away with our time to leftin\\' for the last string (way from all how this love is no one who\\'ll take they wanna blame she won have some thing you was getaway car but baby would be New first York It says, yeah-oh) So drive Oah Like He\\'s better look a friend reason tell me crazy as home They\\'re only game You can say \"I are so body for that break it said his best\" past No Don\\'t'"
            ]
          },
          "metadata": {
            "tags": []
          }
        },
        {
          "output_type": "stream",
          "text": [
            "country took 9 iterations to get length 112: classification ['alternative']\n",
            "\n",
            "\n",
            "pop\n"
          ],
          "name": "stdout"
        },
        {
          "output_type": "display_data",
          "data": {
            "application/vnd.google.colaboratory.intrinsic+json": {
              "type": "string"
            },
            "text/plain": [
              "\"I think you fell off of your cloud today  I was in the same But that they never been big eyes on an hand don't say home 'bout to take our heart who's not and all at my lips The only one Ooh-ah (Oh)ro T And if there like a long no time we're sorry Just know what you have thing can wanna be New York This end game baby've got golden little girlin' for now I hate that'll leave around again in your bad door with everything is think You won Never here Like they said, enough to take it's not much Cause right just want Don't feel so good\""
            ]
          },
          "metadata": {
            "tags": []
          }
        },
        {
          "output_type": "stream",
          "text": [
            "pop took 9 iterations to get length 112: classification ['alternative']\n",
            "\n",
            "\n",
            "alternative\n"
          ],
          "name": "stdout"
        },
        {
          "output_type": "display_data",
          "data": {
            "application/vnd.google.colaboratory.intrinsic+json": {
              "type": "string"
            },
            "text/plain": [
              "'Look at you Look at me Look at who we  It\\'s all the first time They\\'d never live Cause And no in a dreams, \"e-ah This is hands Aoh I\\'m dancing this love? (Yeah) they got to You\\'ll get away In an whole face For here No one of rain dress We are right girl The world night when home him was mine), everything goes \\'cause on my breath and make so mad If you know that\\'s the dark It feels from their He said he knows anything Alla And we\\'re still come around is this time, ah-e who like a\" I have been waiting for his door This'"
            ]
          },
          "metadata": {
            "tags": []
          }
        },
        {
          "output_type": "stream",
          "text": [
            "alternative took 9 iterations to get length 110: classification ['pop']\n",
            "\n",
            "\n",
            "country\n"
          ],
          "name": "stdout"
        },
        {
          "output_type": "display_data",
          "data": {
            "application/vnd.google.colaboratory.intrinsic+json": {
              "type": "string"
            },
            "text/plain": [
              "\"Look at you Look at me Look at who we  him just have so gorgeous? thing He's not the good) is my door You made a song together We're fifteen and mine And everything than dark way it was on your heart ain't know that could stay The love he tell like this I wanna see right there keeps our best as many feeling never sorry (This you wish me back summer kind of those lights wonfore nothing but always've got bad first All with him says is hands leave something go head sad 'til we almost be here's time\""
            ]
          },
          "metadata": {
            "tags": []
          }
        },
        {
          "output_type": "stream",
          "text": [
            "country took 9 iterations to get length 101: classification ['pop']\n",
            "\n",
            "\n",
            "pop\n"
          ],
          "name": "stdout"
        },
        {
          "output_type": "display_data",
          "data": {
            "application/vnd.google.colaboratory.intrinsic+json": {
              "type": "string"
            },
            "text/plain": [
              "'Look at you Look at me Look at who we  Cause she\\'s so good? It could\\'ve been the way a long (I used your face) And I think They say that did for her be this time We had \"Oh, first forever far in love When You come back and over), always hard gave mine-out if he tell asking myself The you\\'ll feel it rains night us down Oh baby But know oh Raohh That makes me the pain was our knew So loved they never get sorry who\\'d she\\'s just wanna go (yeah) In a here said O loud And I\\'m so good man smile We\\'re say home place are'"
            ]
          },
          "metadata": {
            "tags": []
          }
        },
        {
          "output_type": "stream",
          "text": [
            "pop took 9 iterations to get length 112: classification ['pop']\n",
            "\n",
            "\n",
            "alternative\n"
          ],
          "name": "stdout"
        },
        {
          "output_type": "display_data",
          "data": {
            "application/vnd.google.colaboratory.intrinsic+json": {
              "type": "string"
            },
            "text/plain": [
              "'It wasn\\'t just like a movie The rain  you said nothing But I\\'m so one here on the lights were in night When we used to know that is us mad? You\\'re not this time, baby\\'s all about me from your hair In feeling back whoa Oh-e This ain hold for last my head will be Did darling No thing There would leave goes still don\\'t look like a bad girl\" It could hear if never find yeah (Yeah I thought you But no eyes We\\'ll come on the water he got what she was just want together that we can me down all this way Just think run Now do If She\\'s not in'"
            ]
          },
          "metadata": {
            "tags": []
          }
        },
        {
          "output_type": "stream",
          "text": [
            "alternative took 9 iterations to get length 116: classification ['alternative']\n",
            "\n",
            "\n",
            "country\n"
          ],
          "name": "stdout"
        },
        {
          "output_type": "display_data",
          "data": {
            "application/vnd.google.colaboratory.intrinsic+json": {
              "type": "string"
            },
            "text/plain": [
              "\"It wasn't just like a movie The rain  down I'm one who don Only you'll take me an know to have too friends But if we'd had the lights of us Or it's anything people grow up where go wild and really feel this way It says, ah And nobody my heart No all He could've been but end at him first time was a bad girl la dress so long that love smile They're sorry (Oh-ah Don't look like she keeps me again too dancing home thing for there works If they'll be nice in the lights fake one She said you do? When come back of us) But if we are their\""
            ]
          },
          "metadata": {
            "tags": []
          }
        },
        {
          "output_type": "stream",
          "text": [
            "country took 9 iterations to get length 115: classification ['alternative']\n",
            "\n",
            "\n",
            "pop\n"
          ],
          "name": "stdout"
        },
        {
          "output_type": "display_data",
          "data": {
            "application/vnd.google.colaboratory.intrinsic+json": {
              "type": "string"
            },
            "text/plain": [
              "\"It wasn't just like a movie The rain  way he could be that I can feel this right That's it all so sick and ever don (never to see me too young But if you're home And stay do better Look out of the only one whoa oh-ah, hey For'd take my heart? You got sorry So know what people'll make she did break world were bad friend into tired through a beautiful) It rains when no Only's all Don't help on your face With this long alone I thought we loved well Are look But you're so good That smile tell me that style could never mine fall here keep their dress And\""
            ]
          },
          "metadata": {
            "tags": []
          }
        },
        {
          "output_type": "stream",
          "text": [
            "pop took 9 iterations to get length 115: classification ['alternative']\n",
            "\n",
            "\n",
            "alternative\n"
          ],
          "name": "stdout"
        },
        {
          "output_type": "display_data",
          "data": {
            "application/vnd.google.colaboratory.intrinsic+json": {
              "type": "string"
            },
            "text/plain": [
              "'Standing on the border Looking out into  there It had a car We could break, I got not like an face The way you were in front of your worst thing that\\'s bad But every best baby And now (Baby) So look at me \\'cause he think we\\'ve been feeling Oh-out You said she was blue night My big \"I\\'m so what it right through the whole time), all back with some have to day if I could call nothing love,\" The Corn like this say when our life wanna be mine there\\'d you are never your breath of a long Cause oohh It\\'s notmm again We can\\'t'"
            ]
          },
          "metadata": {
            "tags": []
          }
        },
        {
          "output_type": "stream",
          "text": [
            "alternative took 9 iterations to get length 109: classification ['alternative']\n",
            "\n",
            "\n",
            "country\n"
          ],
          "name": "stdout"
        },
        {
          "output_type": "display_data",
          "data": {
            "application/vnd.google.colaboratory.intrinsic+json": {
              "type": "string"
            },
            "text/plain": [
              "'Standing on the border Looking out into  It\\'s so here, but it was a long (You knows that she goes fall You\\'re fifteen) of my face Cause all coming in quite some night This is\\'ll be an little come back together And he forget to take him There might leave you\\'ve been light We could getaway big smile I\\'m only bad Who gave me But if baby\" No one whoa oh My right there what daylight never wanted it He am a crowded knows that ain\\'t have got the sunI didn They say, place in those!) You look at my face of an feeling see? Cause all your hairoh-'"
            ]
          },
          "metadata": {
            "tags": []
          }
        },
        {
          "output_type": "stream",
          "text": [
            "country took 9 iterations to get length 110: classification ['alternative']\n",
            "\n",
            "\n",
            "pop\n"
          ],
          "name": "stdout"
        },
        {
          "output_type": "display_data",
          "data": {
            "application/vnd.google.colaboratory.intrinsic+json": {
              "type": "string"
            },
            "text/plain": [
              "'Standing on the border Looking out into  All this\\'ve been waiting for me in my life (No, all with you I don\\'t wanna be here so long And it gets your face) You should know how nothing if they said Cause now If we can say that\\'s still made his baby? by our other like a little will would take their yeah That It was one thing What\\'ll get first In the dead-ah right there rains when you\\'re not this way around, come back string of every bestTeam (Oh!) again Oh him all I think he must me want \"I know why To do with us down rain Don\\'t wanna'"
            ]
          },
          "metadata": {
            "tags": []
          }
        },
        {
          "output_type": "stream",
          "text": [
            "pop took 9 iterations to get length 111: classification ['alternative']\n",
            "\n",
            "\n",
            "alternative\n"
          ],
          "name": "stdout"
        },
        {
          "output_type": "display_data",
          "data": {
            "application/vnd.google.colaboratory.intrinsic+json": {
              "type": "string"
            },
            "text/plain": [
              "\"Oh We were standing in an empty room The , we'd never been waiting better Ooh-o Yeah now) And I have this is a red once Oh what you're still got all In the whole down Cause baby like it was there right here When something 'em again as last day W night remember she's time of your mind Would Come on our hands in my door But about their name You made her would've heard finally (I don't think so grow up, ah-oh) If I'm rose go What do back and know how home And when we went With to have a bad girl at me that you got only one who\""
            ]
          },
          "metadata": {
            "tags": []
          }
        },
        {
          "output_type": "stream",
          "text": [
            "alternative took 9 iterations to get length 113: classification ['alternative']\n",
            "\n",
            "\n",
            "country\n"
          ],
          "name": "stdout"
        },
        {
          "output_type": "display_data",
          "data": {
            "application/vnd.google.colaboratory.intrinsic+json": {
              "type": "string"
            },
            "text/plain": [
              "\"Oh We were standing in an empty room The  Don't wanna do I was a cruel Now you for the way home of time over That's gonna be enough to have this love that we'd never had coming (Baby He got one whoa our night), he could stay-Team) And they all is not on my heart gets Drew're gone, ah They can've been waiting with me If an mean let everybody knows In no You always play But baby? I'm so good Oh Ooh What eyes bad body mmm No feel you found We get alone (I make it's a little black some walk the friend of just great reason for\""
            ]
          },
          "metadata": {
            "tags": []
          }
        },
        {
          "output_type": "stream",
          "text": [
            "country took 9 iterations to get length 112: classification ['alternative']\n",
            "\n",
            "\n",
            "pop\n"
          ],
          "name": "stdout"
        },
        {
          "output_type": "display_data",
          "data": {
            "application/vnd.google.colaboratory.intrinsic+json": {
              "type": "string"
            },
            "text/plain": [
              "\"Oh We were standing in an empty room The  they loved you Oh, oh when we'd getaway car Cause baby to make the road They say up I was a thousand want it out of our best night That never had too late But yeah He's not dancing Don't called And now It just gonna go back No one who'll tell light When face in so long no girl at all bad Who were think he could break through got? (Ooh, if you found me again) WYou know that we don sorry there she knows There baby I'm the same They say eyes way We can still love You're made a beautiful hand In enough\""
            ]
          },
          "metadata": {
            "tags": []
          }
        },
        {
          "output_type": "stream",
          "text": [
            "pop took 9 iterations to get length 116: classification ['alternative']\n",
            "\n",
            "\n",
            "alternative\n"
          ],
          "name": "stdout"
        },
        {
          "output_type": "display_data",
          "data": {
            "application/vnd.google.colaboratory.intrinsic+json": {
              "type": "string"
            },
            "text/plain": [
              "'If you love me then I love you, swear by  it And we\\'re down So like a look at everything he\\'ll never find your face in with her yeah Cause they said \"This But when there\\'s not It was the girl\" Can\\'t believe that much of back and always getaway car (I\\'m so When people would be The pouring rain times I had this time is on you say Come little man) Oh-said baby now will love To show \\'bout your mind, let me like it off our up to do have him night as the same forever their my heart Cause who\\'d better when he\\'s just gonna lose what they never been'"
            ]
          },
          "metadata": {
            "tags": []
          }
        },
        {
          "output_type": "stream",
          "text": [
            "alternative took 9 iterations to get length 114: classification ['alternative']\n",
            "\n",
            "\n",
            "country\n"
          ],
          "name": "stdout"
        },
        {
          "output_type": "display_data",
          "data": {
            "application/vnd.google.colaboratory.intrinsic+json": {
              "type": "string"
            },
            "text/plain": [
              "'If you love me then I love you, swear by  Can\\'t have to let go down If he\\'s the rain When we need so \" It was like a crowded (Oh-oh) Cause they know how it for feel this way And that she\\'ll be here on my heart They said all good You\\'re not around Come back ofmmin\\' far known I\\'m only thing with beautiful Don just wanna tell her want you\\'ve got home Baby What knows \\'b, come The without me again when we can\\'t dance the sky), In your face in those Oh-oh (Oh So watch a lot to break this time Like someI do what baby'"
            ]
          },
          "metadata": {
            "tags": []
          }
        },
        {
          "output_type": "stream",
          "text": [
            "country took 9 iterations to get length 110: classification ['alternative']\n",
            "\n",
            "\n",
            "pop\n"
          ],
          "name": "stdout"
        },
        {
          "output_type": "display_data",
          "data": {
            "application/vnd.google.colaboratory.intrinsic+json": {
              "type": "string"
            },
            "text/plain": [
              "'If you love me then I love you, swear by  when she said \" know is not this You can\\'t even let it go Oh did from the little back at all time She\\'s gonna be us So baby? He feel so It was yours They say everything The world-ah This has never met a lot of if right) When we\\'ll make them in love night that you\\'re still get some summer party Baby says there do\" But I\\'m just let it are \"I ever too late to find this around see she rains he won\\'t needw me (! up the way home is when they can call New man who doesn even break what\\'s'"
            ]
          },
          "metadata": {
            "tags": []
          }
        },
        {
          "output_type": "stream",
          "text": [
            "pop took 9 iterations to get length 116: classification ['alternative']\n",
            "\n",
            "\n",
            "alternative\n"
          ],
          "name": "stdout"
        },
        {
          "output_type": "display_data",
          "data": {
            "application/vnd.google.colaboratory.intrinsic+json": {
              "type": "string"
            },
            "text/plain": [
              "\"I know he loved you A long time ago I  And we'd love We'll come on dreams, that's all of my hand They are so be the lights hold him and up for his pain down When they had us is wrong You're still dancing from a storm in this way (D) Inout when it was things to me Oh Heart dark-oh whoa oh So yeah eyes would you made at our car thing he won't know mind I love, ah Cause baby If what we were happy's not then could ever need some time night And make here knows forever It should be bad girl He used too on my head back of They come\""
            ]
          },
          "metadata": {
            "tags": []
          }
        },
        {
          "output_type": "stream",
          "text": [
            "alternative took 9 iterations to get length 117: classification ['alternative']\n",
            "\n",
            "\n",
            "country\n"
          ],
          "name": "stdout"
        },
        {
          "output_type": "display_data",
          "data": {
            "application/vnd.google.colaboratory.intrinsic+json": {
              "type": "string"
            },
            "text/plain": [
              "\"I know he loved you A long time ago I  that's the city, why we had a little name with your window We'll be alright They're so hard to say She was there works There goes But if it gets ever think It hands are back You'd let me So just in This is find our heart get some great The way only girl for an love of this dress up but he won't even know what they've got enough boy car And I'm a little about the best day baby, said no one (ToI might did body their\""
            ]
          },
          "metadata": {
            "tags": []
          }
        },
        {
          "output_type": "stream",
          "text": [
            "country took 9 iterations to get length 100: classification ['alternative']\n",
            "\n",
            "\n",
            "pop\n"
          ],
          "name": "stdout"
        },
        {
          "output_type": "display_data",
          "data": {
            "application/vnd.google.colaboratory.intrinsic+json": {
              "type": "string"
            },
            "text/plain": [
              "\"I know he loved you A long time ago I  that boy, there's the beautiful eyes But she was with a bad girl at In if That shine And when we're not gonna be just want about by all She knows see? You got home Ooh If baby so one who still enough us alone Cause they'll tell me So life To touch mine The it used to love everything makes you are what him goes up (Oh-ah Baby is take the sames We know do way our girl both party of style But I can say down He look\""
            ]
          },
          "metadata": {
            "tags": []
          }
        },
        {
          "output_type": "stream",
          "text": [
            "pop took 9 iterations to get length 101: classification ['alternative']\n",
            "\n",
            "\n",
            "alternative\n"
          ],
          "name": "stdout"
        },
        {
          "output_type": "display_data",
          "data": {
            "application/vnd.google.colaboratory.intrinsic+json": {
              "type": "string"
            },
            "text/plain": [
              "'Time is passing slowly for the eight  on my lover, was an dark My first time Theah all before I\\'d never get were ever had a girl like where our hands are go Oh-oh You\\'re tied Yeah about me now Cause no one thing that we don\\'t be mine And say (Oh) This ain solve \\'em room \"I\\'m so you did it\\'s not back to look in love But baby? We can tell That was the whole hand W head remember gonna show whoa), have up, ah?\" went here and I\\'ve been just my mind why but an long down at she could take a friend what are'"
            ]
          },
          "metadata": {
            "tags": []
          }
        },
        {
          "output_type": "stream",
          "text": [
            "alternative took 9 iterations to get length 109: classification ['alternative']\n",
            "\n",
            "\n",
            "country\n"
          ],
          "name": "stdout"
        },
        {
          "output_type": "display_data",
          "data": {
            "application/vnd.google.colaboratory.intrinsic+json": {
              "type": "string"
            },
            "text/plain": [
              "'Time is passing slowly for the eight  again, and I\\'m so on my room And there\\'s what how they stop But you do If him are still a new So it was coming down The sidewalk Take me why we can\\'t have dance to (Ah! yeah-oh)? Back when people in your heart forever You\\'ve been here gave ah had our name with no one thing that body even know anythinga good now In those Yeah, baby\\'s my life met up the road what I\\'m just want They\\'ll see Don And\" things you\\'re not much by a say how it was gonna be ain off of they said summer It'"
            ]
          },
          "metadata": {
            "tags": []
          }
        },
        {
          "output_type": "stream",
          "text": [
            "country took 9 iterations to get length 110: classification ['alternative']\n",
            "\n",
            "\n",
            "pop\n"
          ],
          "name": "stdout"
        },
        {
          "output_type": "display_data",
          "data": {
            "application/vnd.google.colaboratory.intrinsic+json": {
              "type": "string"
            },
            "text/plain": [
              "\"Time is passing slowly for the eight  You would've been waiting (Ooh) When nothing on my eyes, you are a long time And I won't know in this feel your name The truth Like we can run and get out of an but they stopin' But he knows My baby What's too that'll take it never find them to left), That if she live only one whoa good string at me again Oh-ah, you're still see my hand Ooh Now Yeah We couldn just want back when the other thing off Only won't know why are a smile I'm alone And now bad girl (Ohh)\""
            ]
          },
          "metadata": {
            "tags": []
          }
        },
        {
          "output_type": "stream",
          "text": [
            "pop took 9 iterations to get length 106: classification ['alternative']\n",
            "\n",
            "\n",
            "alternative\n"
          ],
          "name": "stdout"
        },
        {
          "output_type": "display_data",
          "data": {
            "application/vnd.google.colaboratory.intrinsic+json": {
              "type": "string"
            },
            "text/plain": [
              "\"I could have keyed your car I could have  you where we just never know on the way baby But Darling, and they are He's a big've said he says about me home (Stay 'cause it was all of us down This is not up Like this love-oh) You'll let her got my hands night if so bad cuts to be your name If our good Cause darling Oh No one far We're still keep wanna find no first time And I know, oh), we don't look at an things that baby would have there fall right here on the last Whoa overing The water's all about you better They say forever me\""
            ]
          },
          "metadata": {
            "tags": []
          }
        },
        {
          "output_type": "stream",
          "text": [
            "alternative took 9 iterations to get length 114: classification ['alternative']\n",
            "\n",
            "\n",
            "country\n"
          ],
          "name": "stdout"
        },
        {
          "output_type": "display_data",
          "data": {
            "application/vnd.google.colaboratory.intrinsic+json": {
              "type": "string"
            },
            "text/plain": [
              "'I could have keyed your car I could have  light that you ever up Can\\'t make me and always how we want the one? again You\\'re all a match on \\'cause it was so then fall out But baby, now Oh-ah who\\'s what him is not around here gets way He said if she let heps That ah down lights are to breaking look at those knows this feel getting some leave my face In every time Like\" And they\\'ll see you have something bad should\\'ve been home with me I\\'m feeling like back that, why was a girl it all your mind But baby Baby gonna be an So friend You\\'re right'"
            ]
          },
          "metadata": {
            "tags": []
          }
        },
        {
          "output_type": "stream",
          "text": [
            "country took 9 iterations to get length 114: classification ['alternative']\n",
            "\n",
            "\n",
            "pop\n"
          ],
          "name": "stdout"
        },
        {
          "output_type": "display_data",
          "data": {
            "application/vnd.google.colaboratory.intrinsic+json": {
              "type": "string"
            },
            "text/plain": [
              "\"I could have keyed your car I could have  you tell me where go again? Forever and we're the first time, but then he was one This is how Don't know But baby We'd be his just in my heart-Team And if they ever let it back to say The feel so long There's a get an'll never walk away Ooh) It guess on your name You should've been there ain nothing can even coming undone Cause you're not like I go and got ourin', good had find That feels eyes down at lying This is my lips (never little Your no one who'd be his face of them house oh He\""
            ]
          },
          "metadata": {
            "tags": []
          }
        },
        {
          "output_type": "stream",
          "text": [
            "pop took 9 iterations to get length 113: classification ['alternative']\n",
            "\n",
            "\n",
            "alternative\n"
          ],
          "name": "stdout"
        },
        {
          "output_type": "display_data",
          "data": {
            "application/vnd.google.colaboratory.intrinsic+json": {
              "type": "string"
            },
            "text/plain": [
              "\"Just had a conversation with the mirror  you're in your name, they smile The bad one thing up to be not why I hurt she won't let's gonna on all good Now say if it crazy Cause who was an last time that we'll never by me You are so much (Noin' for That could see My picture-aah So no rest of my heart) And then eyes Oh our same night drive All he tell a lot In the middle Just don honey do know something you heard this This ex but hey break thing they love with paper old to burn him was coming back good? There's gonna be on her red alone\""
            ]
          },
          "metadata": {
            "tags": []
          }
        },
        {
          "output_type": "stream",
          "text": [
            "alternative took 9 iterations to get length 115: classification ['alternative']\n",
            "\n",
            "\n",
            "country\n"
          ],
          "name": "stdout"
        },
        {
          "output_type": "display_data",
          "data": {
            "application/vnd.google.colaboratory.intrinsic+json": {
              "type": "string"
            },
            "text/plain": [
              "\"Just had a conversation with the mirror  up and watch you And it's just us back, when honey one they keep her heart love You can't tell me about all there in your smile It was things In if I'm still T Say everything is too late for gonna be asking once as our time They say to she'll help them name Like mind (First eyes on my side The only thing that right here-eyed lights are forever goes those's not so sick of him again feels look at sparks fly you're down and watch Don just keep anything what I have a thousand us Now And he will take this way get know why Ooh\""
            ]
          },
          "metadata": {
            "tags": []
          }
        },
        {
          "output_type": "stream",
          "text": [
            "country took 9 iterations to get length 117: classification ['alternative']\n",
            "\n",
            "\n",
            "pop\n"
          ],
          "name": "stdout"
        },
        {
          "output_type": "display_data",
          "data": {
            "application/vnd.google.colaboratory.intrinsic+json": {
              "type": "string"
            },
            "text/plain": [
              "\"Just had a conversation with the mirror  everything and make it 'cause time What's gonna be just so right? You can't have me up to break your heart (Down) We're not coming things that love, but they'll go out All you know if he knows That feels on our face And I don concerned-uh In mine is this mind Cause day Baby baby are tell all no one who keep oh It was high Just'm the feeling But honey be an of my feet's a sad Who say right They could make waiting What did it us The perfectly here by away him should've got that we're burning into red like He\""
            ]
          },
          "metadata": {
            "tags": []
          }
        },
        {
          "output_type": "stream",
          "text": [
            "pop took 9 iterations to get length 113: classification ['alternative']\n",
            "\n",
            "\n",
            "alternative\n"
          ],
          "name": "stdout"
        },
        {
          "output_type": "display_data",
          "data": {
            "application/vnd.google.colaboratory.intrinsic+json": {
              "type": "string"
            },
            "text/plain": [
              "\"I'm still wearing my blue jeans No I  you in the night, what's never can't have to let me like that when he could be But if they try And maybe Can we were dancing with his world would said He gets her at all good sky We're an' by and this is some time The worst car here girl so Come on my best but come things forever thing That our together-e Now firstout why) In a little that friends better of the radio it works You got So nothing I don't dance When you won Is He's not call me (Oh, never walk to be your breath how keep breathe baby one who\""
            ]
          },
          "metadata": {
            "tags": []
          }
        },
        {
          "output_type": "stream",
          "text": [
            "alternative took 9 iterations to get length 116: classification ['country']\n",
            "\n",
            "\n",
            "country\n"
          ],
          "name": "stdout"
        },
        {
          "output_type": "display_data",
          "data": {
            "application/vnd.google.colaboratory.intrinsic+json": {
              "type": "string"
            },
            "text/plain": [
              "\"I'm still wearing my blue jeans No I  of your dreams In the woods) They are what they said, and it was a sad (Oh!) You just have to believe you can't see everything When she in his mind But baby? This is these things My hands like this last time he had about all with me want eyes We'll get an love that we should be here's not She look at my body It says if Don who know why are off the way home on every teard 'cause it was sorry what I'm still stay for you're gone one as place in a sad That break their back day You have to leave friends\""
            ]
          },
          "metadata": {
            "tags": []
          }
        },
        {
          "output_type": "stream",
          "text": [
            "country took 9 iterations to get length 117: classification ['country']\n",
            "\n",
            "\n",
            "pop\n"
          ],
          "name": "stdout"
        },
        {
          "output_type": "display_data",
          "data": {
            "application/vnd.google.colaboratory.intrinsic+json": {
              "type": "string"
            },
            "text/plain": [
              "'I\\'m still wearing my blue jeans No I  like a place But \\'cause he could be alright what they were The best middle of the road, gone when we\\'re so alone It\\'s it rains in love We said \"speak And if you do this way home before You say that only one fun They didn\\'t know why was just too late to\\'ll tell me as come back around go and did something bad get coming undone than leave him is oh-ooh I\\'d be here still a long were out through our best place down He felt So\\'re ever wanna of we smile, red The rain It\\'s not the lights are But We can always'"
            ]
          },
          "metadata": {
            "tags": []
          }
        },
        {
          "output_type": "stream",
          "text": [
            "pop took 9 iterations to get length 115: classification ['country']\n",
            "\n",
            "\n",
            "alternative\n"
          ],
          "name": "stdout"
        },
        {
          "output_type": "display_data",
          "data": {
            "application/vnd.google.colaboratory.intrinsic+json": {
              "type": "string"
            },
            "text/plain": [
              "'Let\\'s watch the tide chase the waves  And I\\'m mad and you were on my pain when we\\'re not at your head oh So he says that much\" Never be something back of me down Can\\'t say, \"You can feel it had this way Don hair so good? You could\\'ve been a longin\\' for their face (Oh) If if baby She got all ever like one\\'s nothing time night to do there will take them grow And the players as we hate Baby Now wish Are I\\'m We\\'re doing here eyes don\\'t be anything my love, now when you think \"I might come on our heart Cause they never'"
            ]
          },
          "metadata": {
            "tags": []
          }
        },
        {
          "output_type": "stream",
          "text": [
            "alternative took 9 iterations to get length 110: classification ['alternative']\n",
            "\n",
            "\n",
            "country\n"
          ],
          "name": "stdout"
        },
        {
          "output_type": "display_data",
          "data": {
            "application/vnd.google.colaboratory.intrinsic+json": {
              "type": "string"
            },
            "text/plain": [
              "\"Let's watch the tide chase the waves  that I can't but baby The other in love like a man, darling if we got them really now as they are so sick of me this ain To be alone And he knows But all night He'll never just want to know why for what look at our best day then little old way It was's over again Cause there their around my head on New York (It away For'd it rains when I can't help could tell no one whoa baby Ooh) That'm right down here Oh, if you're still the rain so we should've been in this love sorry Onlyro won gotta\""
            ]
          },
          "metadata": {
            "tags": []
          }
        },
        {
          "output_type": "stream",
          "text": [
            "country took 9 iterations to get length 113: classification ['alternative']\n",
            "\n",
            "\n",
            "pop\n"
          ],
          "name": "stdout"
        },
        {
          "output_type": "display_data",
          "data": {
            "application/vnd.google.colaboratory.intrinsic+json": {
              "type": "string"
            },
            "text/plain": [
              "'Let\\'s watch the tide chase the waves  that look what I can\\'t think of an things about you walk in love to make me But if he doesn stop, \"This all this time He found come on my mind-di Ooh) Cause they\\'ll be here No as we don Will there ain� it back no one so other In a little\\'s alone (Oh but never forget bad feeling keep just wanna do Look won take our out And I know what you\\'re not too late You made up Nevermms of mad and oh It was nothing So, \" to call me like ever might have before nobody What\\'d come along right now'"
            ]
          },
          "metadata": {
            "tags": []
          }
        },
        {
          "output_type": "stream",
          "text": [
            "pop took 9 iterations to get length 112: classification ['alternative']\n",
            "\n",
            "\n",
            "alternative\n"
          ],
          "name": "stdout"
        },
        {
          "output_type": "display_data",
          "data": {
            "application/vnd.google.colaboratory.intrinsic+json": {
              "type": "string"
            },
            "text/plain": [
              "\"Days go by, I wonder if you hear me  the pouring rain You're not this hand and love for ever do is a moment Would it But they never leave she's little know All we'd be alone And he don't want to can have out in my night thing Baby! with our car We'll another like that back Cause baby That what said no one I had so sick of but Why knew) The when So life When if are wrong babe even going right here the sky could've been all this? was a thousand',a need you smile it works up an way we don't know and always be is burn there's gonna never take us\""
            ]
          },
          "metadata": {
            "tags": []
          }
        },
        {
          "output_type": "stream",
          "text": [
            "alternative took 9 iterations to get length 117: classification ['alternative']\n",
            "\n",
            "\n",
            "country\n"
          ],
          "name": "stdout"
        },
        {
          "output_type": "display_data",
          "data": {
            "application/vnd.google.colaboratory.intrinsic+json": {
              "type": "string"
            },
            "text/plain": [
              "\"Days go by, I wonder if you hear me  in the lights And there's some sick of once that would be sweet on about but he was a frontest moment She can't know it didn like this baby He'd think That'm so good? But what people have to The way my hand she took tooa) around-uh then long name, ah knows I don ha (I met look at night So really wanna live It had all only now you'll say that nice dress if we're sick of your face in the rain are me again Cause baby home And's a lot like this beautiful eyes he go down as boy Oh string walk our\""
            ]
          },
          "metadata": {
            "tags": []
          }
        },
        {
          "output_type": "stream",
          "text": [
            "country took 9 iterations to get length 115: classification ['alternative']\n",
            "\n",
            "\n",
            "pop\n"
          ],
          "name": "stdout"
        },
        {
          "output_type": "display_data",
          "data": {
            "application/vnd.google.colaboratory.intrinsic+json": {
              "type": "string"
            },
            "text/plain": [
              "'Days go by, I wonder if you hear me  down And he\\'s so That she could be the te got another ain\\'t know is on my door (Yeah) again with them \"I\\'m only one You\\'re all her\\'ll tell when we\\'ve been waiting for like no fun There was a love and that much But why can still say In running back in this town of style there should thing I take heavena oh-oh, baby home Oh This he goes the woods up too facein\\' our beautiful And you let me down When what\\'s under You\\'ll be us out your smile That old are The only one who won\\'t know all lights'"
            ]
          },
          "metadata": {
            "tags": []
          }
        },
        {
          "output_type": "stream",
          "text": [
            "pop took 9 iterations to get length 112: classification ['alternative']\n",
            "\n",
            "\n",
            "alternative\n"
          ],
          "name": "stdout"
        },
        {
          "output_type": "display_data",
          "data": {
            "application/vnd.google.colaboratory.intrinsic+json": {
              "type": "string"
            },
            "text/plain": [
              "'Let me know, how\\'s it feel To be under  But I gonna see your body This is not get in us head And this world that would never thought no rain You\\'re a long way thing around so hand and over him was right now The night when we are had the same Inez Cause-aah at my lips We can\\'t been you smile So to me boy They got blue out As know Come back for anyone) as it\\'s still feel about his heart I\\'d have said \"I mean did something all of star gone love And there but anything'"
            ]
          },
          "metadata": {
            "tags": []
          }
        },
        {
          "output_type": "stream",
          "text": [
            "alternative took 9 iterations to get length 101: classification ['alternative']\n",
            "\n",
            "\n",
            "country\n"
          ],
          "name": "stdout"
        },
        {
          "output_type": "display_data",
          "data": {
            "application/vnd.google.colaboratory.intrinsic+json": {
              "type": "string"
            },
            "text/plain": [
              "'Let me know, how\\'s it feel To be under  then of them so good thing when I can\\'t just like this eyes They say \\'cause she rains in the best looks at all He said? You\\'re not your heart face And he keep if they\\'ve been no other won with there goes on my life are tell him was No one who have burning to know what\\'s really mean Oh, \"I want a little look! It knows away But (sil so you got it right here home Ooh She can\\'t see back of me We could take those eyes feel this way head go says I\\'m gonna be his hair-ah They\\'re the things'"
            ]
          },
          "metadata": {
            "tags": []
          }
        },
        {
          "output_type": "stream",
          "text": [
            "country took 9 iterations to get length 114: classification ['alternative']\n",
            "\n",
            "\n",
            "pop\n"
          ],
          "name": "stdout"
        },
        {
          "output_type": "display_data",
          "data": {
            "application/vnd.google.colaboratory.intrinsic+json": {
              "type": "string"
            },
            "text/plain": [
              "'Let me know, how\\'s it feel To be under  of my eyes And I want to love a place in car if you was stay there with his little high You\\'re made up But better The light dress so they\\'ll never could take this times? They say that way home over everything is not being heart good and running night goes My kindYeah mind one Who\\'s look at the te He got it ah first day something bad smile-ah, \" don\\'t know\" It was a long as you should\\'ve been in my head (Oh) And but I think some song for old world like an back beautiful But no says could just want You\\'re doing'"
            ]
          },
          "metadata": {
            "tags": []
          }
        },
        {
          "output_type": "stream",
          "text": [
            "pop took 9 iterations to get length 116: classification ['alternative']\n",
            "\n",
            "\n",
            "alternative\n"
          ],
          "name": "stdout"
        },
        {
          "output_type": "display_data",
          "data": {
            "application/vnd.google.colaboratory.intrinsic+json": {
              "type": "string"
            },
            "text/plain": [
              "'What a thing to see What a thing to be  that I\\'m still call you want That\\'s not the night when he know what they love \\'b for me like You\\'re slow,\" but this time is her\\'ll miss if it makes So so why (Get in my hand look at lying Cause we\\'d got all your body My head around But people by pouring down He did All When right here baby The other And then watch some play him last forever and are the sky on us one whoa We know) I might should be girl Who goes of'"
            ]
          },
          "metadata": {
            "tags": []
          }
        },
        {
          "output_type": "stream",
          "text": [
            "alternative took 9 iterations to get length 101: classification ['alternative']\n",
            "\n",
            "\n",
            "country\n"
          ],
          "name": "stdout"
        },
        {
          "output_type": "display_data",
          "data": {
            "application/vnd.google.colaboratory.intrinsic+json": {
              "type": "string"
            },
            "text/plain": [
              "'What a thing to see What a thing to be ? Oh, I\\'ll still never say It\\'s no one And they didn\\'t help it out of front summer So this love and you want me But if she was just can get not what all the best at things that close This is in your A-e You know No knows He\\'ve been feeling like a match on my guitar The night so much down every time (a\" They got bad body, I do no one who have\\'s something us him\\'m see daylight didn\\'t tell some little\\'ll be here In this way home And then only break our heart Don cuts nothing enough to you\\'re beautiful'"
            ]
          },
          "metadata": {
            "tags": []
          }
        },
        {
          "output_type": "stream",
          "text": [
            "country took 9 iterations to get length 115: classification ['alternative']\n",
            "\n",
            "\n",
            "pop\n"
          ],
          "name": "stdout"
        },
        {
          "output_type": "display_data",
          "data": {
            "application/vnd.google.colaboratory.intrinsic+json": {
              "type": "string"
            },
            "text/plain": [
              "'What a thing to see What a thing to be ? A years I don\\'t know why, we\\'ll get here But he\\'s let me in the floor!) You\\'re not our down It was one whoa And if it wasn knows The only sorry that you\\'d call Just where they said about all of this way Cause baby Now when will change So watch she ever gonna need them no up her much All nothing at home (I knew for what wish I see do why are beautiful! Ooh-e Oh, \"\\'s a little lipsro\\'ll be here goes out But we always keep him can\\'t have to our nice) What \\'cause he'"
            ]
          },
          "metadata": {
            "tags": []
          }
        },
        {
          "output_type": "stream",
          "text": [
            "pop took 9 iterations to get length 110: classification ['alternative']\n",
            "\n",
            "\n",
            "alternative\n"
          ],
          "name": "stdout"
        },
        {
          "output_type": "display_data",
          "data": {
            "application/vnd.google.colaboratory.intrinsic+json": {
              "type": "string"
            },
            "text/plain": [
              "\"I walk in the room there's a beautiful , I did it feel like time was too day of with you In your body It just can't met me now If we said no baby (Ooh-oah) But when she'll get us down This is not what they say about up to break them that Whoa oh eyes on my? You made the best other know why knows again and never let their in this girl No one who you have it's, darling We are come back together My an name Cause I'm so much of me (Oh-oh he better Oo time Did but we remember how Back will don't need\""
            ]
          },
          "metadata": {
            "tags": []
          }
        },
        {
          "output_type": "stream",
          "text": [
            "alternative took 9 iterations to get length 110: classification ['alternative']\n",
            "\n",
            "\n",
            "country\n"
          ],
          "name": "stdout"
        },
        {
          "output_type": "display_data",
          "data": {
            "application/vnd.google.colaboratory.intrinsic+json": {
              "type": "string"
            },
            "text/plain": [
              "\"I walk in the room there's a beautiful  When they never about me that keeps with all alone, who you think I'm so sick of our last time can't see But if it was just one thing at down And we were old heart Don won still On an To look like theiroh He feels summer It says watch she knows baby home again In the way Cause then this love keep how You're not know? Did some big out your eyes I have you, but my name will never say many they'll wanna be mean always tell me no\""
            ]
          },
          "metadata": {
            "tags": []
          }
        },
        {
          "output_type": "stream",
          "text": [
            "country took 9 iterations to get length 101: classification ['alternative']\n",
            "\n",
            "\n",
            "pop\n"
          ],
          "name": "stdout"
        },
        {
          "output_type": "display_data",
          "data": {
            "application/vnd.google.colaboratory.intrinsic+json": {
              "type": "string"
            },
            "text/plain": [
              "\"I walk in the room there's a beautiful  that was all of me He are is, ah-da And and just too late You could with his In an need to do it says something She goes our friends The kind at bad girl But you can who everything knows he did nothing So this name on my lipsin' as one No then I don't know Oh If night in live she won dream wishing're gonna love place should be the best if they used never got a red keep nobody will tell that, there's not And? coming (Think-ah), baby In at me to drive like mad see we find him Cause all Don run\""
            ]
          },
          "metadata": {
            "tags": []
          }
        },
        {
          "output_type": "stream",
          "text": [
            "pop took 9 iterations to get length 115: classification ['alternative']\n",
            "\n",
            "\n",
            "alternative\n"
          ],
          "name": "stdout"
        },
        {
          "output_type": "display_data",
          "data": {
            "application/vnd.google.colaboratory.intrinsic+json": {
              "type": "string"
            },
            "text/plain": [
              "\"Tire swings, summer dreams, honeysuckle  where you at the one And all of years in alone But now All I'll make this day with my heart So so say is us back from your eyes and wait through his name You said he's not for a little door It used to do Even if it The only We'd New car Oh-ah tooin' night will we could dance In nothing was an love Yeah, baby yeah Cause again I have me the same of her what you've got some time Baby forever But then find she know why would leave 'cause they come back in my mind) That'll be alright wanna wait And now\""
            ]
          },
          "metadata": {
            "tags": []
          }
        },
        {
          "output_type": "stream",
          "text": [
            "alternative took 9 iterations to get length 114: classification ['pop']\n",
            "\n",
            "\n",
            "country\n"
          ],
          "name": "stdout"
        },
        {
          "output_type": "display_data",
          "data": {
            "application/vnd.google.colaboratory.intrinsic+json": {
              "type": "string"
            },
            "text/plain": [
              "'Tire swings, summer dreams, honeysuckle  and to get in my old last Mya (Ooh) But no body\\'s gonna want is a cruel She\\'ll tell me And I\\'m alone Don\\'t think about you keep? The then it ain won things that love but they still another or break us Cause there goes our baby Oo day You can see, would take the thing for her friends Who say look at night Like sparks \"I said no one of this back play fly home he let their bad we\\'re all and do in his mind\\'s eyes But you might have a long my side And when I\\'m gonna tell me down With'"
            ]
          },
          "metadata": {
            "tags": []
          }
        },
        {
          "output_type": "stream",
          "text": [
            "country took 9 iterations to get length 111: classification ['pop']\n",
            "\n",
            "\n",
            "pop\n"
          ],
          "name": "stdout"
        },
        {
          "output_type": "display_data",
          "data": {
            "application/vnd.google.colaboratory.intrinsic+json": {
              "type": "string"
            },
            "text/plain": [
              "\"Tire swings, summer dreams, honeysuckle  and away like But there hold on to the heart And I think he was my something they let it knows Don't have a song from me He can are why's still an go down your door who got that then night for no one So right here The way too Now she see be girl out little other all We'll come back! Cause you tellin' It love is know really wanna take him're on the whole (Baby And baby, I don Will find this time But there was our bad feeling we can't wait at me what's gonna make it feel like hey eyes stay) Oh-\""
            ]
          },
          "metadata": {
            "tags": []
          }
        },
        {
          "output_type": "stream",
          "text": [
            "pop took 9 iterations to get length 113: classification ['pop']\n",
            "\n",
            "\n",
            "alternative\n"
          ],
          "name": "stdout"
        },
        {
          "output_type": "display_data",
          "data": {
            "application/vnd.google.colaboratory.intrinsic+json": {
              "type": "string"
            },
            "text/plain": [
              "'It was something like a perfect start to  I\\'m just so world And you know that we\\'re no one You say But? and now He\\'s always come on your life knew let me through the sun The more little again (Ooh, he said \" mean) There went\" It would be here all up when yeah-oout If but it Whoa oh Oh wanna find this way she got Come That goes a smile even can\\'t say I\\'m so that we don told back together down In her  never forget what you\\'re gorgeous You\\'ll come now Don just like the last time When as baby osaid She\\'s go at me'"
            ]
          },
          "metadata": {
            "tags": []
          }
        },
        {
          "output_type": "stream",
          "text": [
            "alternative took 9 iterations to get length 110: classification ['alternative']\n",
            "\n",
            "\n",
            "country\n"
          ],
          "name": "stdout"
        },
        {
          "output_type": "display_data",
          "data": {
            "application/vnd.google.colaboratory.intrinsic+json": {
              "type": "string"
            },
            "text/plain": [
              "\"It was something like a perfect start to  that you out of the cold In just wanna know I love Oh, some time That's your name by when they're here How we should be blue But no one He need for she got my head Now he want is his window No So it all us friend Only so many as there in this way get not wishing-ah And Cause now? They said what baby did something him was a long girl, I still see Don't know oh) to tell me break that There ainors can you'll never think of the garden Oh Ooh To nobody Your much She's how at night He feel summer\""
            ]
          },
          "metadata": {
            "tags": []
          }
        },
        {
          "output_type": "stream",
          "text": [
            "country took 9 iterations to get length 116: classification ['alternative']\n",
            "\n",
            "\n",
            "pop\n"
          ],
          "name": "stdout"
        },
        {
          "output_type": "display_data",
          "data": {
            "application/vnd.google.colaboratory.intrinsic+json": {
              "type": "string"
            },
            "text/plain": [
              "\"It was something like a perfect start to  your soul And I'm only take my eyes are so you and one You know, the door But this way said no) We're not town it's all on how our car that'll be here All If they will see me in 'em by now we'd get out with some back of just want.? In a long time The whole song body That life was front head don't try stayed She didn have to places then I might you can tell forgiveness go 20oh He could do my plans little's the man, gone around Oh this mess it one whoa oh but baby Well What got\""
            ]
          },
          "metadata": {
            "tags": []
          }
        },
        {
          "output_type": "stream",
          "text": [
            "pop took 9 iterations to get length 114: classification ['alternative']\n",
            "\n",
            "\n",
            "alternative\n"
          ],
          "name": "stdout"
        },
        {
          "output_type": "display_data",
          "data": {
            "application/vnd.google.colaboratory.intrinsic+json": {
              "type": "string"
            },
            "text/plain": [
              "'You were what I wanted when I wanted \\'t really think about to believe it in eyes You\\'re coming no one It\\'s a get alone, but he would have the rain So go Baby When we\\'ll show me here says if our long But you can tell him out something all lights? Cause they are us down your baby ever right back of his name on this song for so much know that yeah) And there goes up feel will never want to love one thing Oh-oh Come be is gone in some\" Is it was an Your time This now, my party again You\\'re a match Just like nothing I knew at night with her A'"
            ]
          },
          "metadata": {
            "tags": []
          }
        },
        {
          "output_type": "stream",
          "text": [
            "alternative took 9 iterations to get length 117: classification ['alternative']\n",
            "\n",
            "\n",
            "country\n"
          ],
          "name": "stdout"
        },
        {
          "output_type": "display_data",
          "data": {
            "application/vnd.google.colaboratory.intrinsic+json": {
              "type": "string"
            },
            "text/plain": [
              "'You were what I wanted when I wanted  you to know that we\\'d never been a prince To put me out of the way it in love, right on their lips But if this should be waiting for stay! It\\'s best can\\'t really like little What died didnearing last time Come back better That baby You\\'re just don things? Oh-ah Don off got \"No say him said no shake So help our eyes And she all anything I know what you\\'ll get far as many watch me ever want everything \\'cause he was still think about to keep if we\\'d be sleeping this long there To make they love now All at) It'"
            ]
          },
          "metadata": {
            "tags": []
          }
        },
        {
          "output_type": "stream",
          "text": [
            "country took 9 iterations to get length 114: classification ['alternative']\n",
            "\n",
            "\n",
            "pop\n"
          ],
          "name": "stdout"
        },
        {
          "output_type": "display_data",
          "data": {
            "application/vnd.google.colaboratory.intrinsic+json": {
              "type": "string"
            },
            "text/plain": [
              "\"You were what I wanted when I wanted  how you can go down by us back to fall in the road, they got my mind up Don't even know for their dreams But we're not things this is'll always love will be at me like no-oh Cause if it's never let all good He was stay long as see right baby It rains We are goes only one of an golden heart had with a man who could take what play And I loved you they said the whole thing that coming (I'm so sick again You need to\""
            ]
          },
          "metadata": {
            "tags": []
          }
        },
        {
          "output_type": "stream",
          "text": [
            "pop took 9 iterations to get length 100: classification ['alternative']\n",
            "\n",
            "\n",
            "alternative\n"
          ],
          "name": "stdout"
        },
        {
          "output_type": "display_data",
          "data": {
            "application/vnd.google.colaboratory.intrinsic+json": {
              "type": "string"
            },
            "text/plain": [
              "\"Standing on a street somewhere I don't  it just thought that you go When the way from too latea, come You're not what he got all The whole back and your head But how we heard about me out And she's still was high? down With something 'cause That (Oh-oh) He'd sayin' We'll give their who this night when there rains in around for her on a time so long as bad girl I don't know now, it than the very had home Was why wanna be better of that thing they even if you're not only one You walked In true just to take me but baby And we\""
            ]
          },
          "metadata": {
            "tags": []
          }
        },
        {
          "output_type": "stream",
          "text": [
            "alternative took 9 iterations to get length 111: classification ['country']\n",
            "\n",
            "\n",
            "country\n"
          ],
          "name": "stdout"
        },
        {
          "output_type": "display_data",
          "data": {
            "application/vnd.google.colaboratory.intrinsic+json": {
              "type": "string"
            },
            "text/plain": [
              "\"Standing on a street somewhere I don't  with your face And you feel an little moment now Oh, but they didn for why All that'm so He's gonna be feeling old waiting to come back at my window when this way You are in the memories That she could've got another me It rains like about right here For all love would need really wanna see who Come on life was a movie best place down again So can Only bought him ever know you'd do I knew it're not only thing In time Now baby But now? And if\""
            ]
          },
          "metadata": {
            "tags": []
          }
        },
        {
          "output_type": "stream",
          "text": [
            "country took 9 iterations to get length 101: classification ['country']\n",
            "\n",
            "\n",
            "pop\n"
          ],
          "name": "stdout"
        },
        {
          "output_type": "display_data",
          "data": {
            "application/vnd.google.colaboratory.intrinsic+json": {
              "type": "string"
            },
            "text/plain": [
              "\"Standing on a street somewhere I don't  before you got bad But but all the dark, no one You'll be here All this was crazy for me that look in an old time He's over my own day if he did with right something go down when there watch they am so good? The kind of us And baby is tell now Who used to know Cause we're little should never let it would've give Drew love Oh That just a girl want one I'd be the pouring thing who can could take you said no again You put anything\""
            ]
          },
          "metadata": {
            "tags": []
          }
        },
        {
          "output_type": "stream",
          "text": [
            "pop took 9 iterations to get length 101: classification ['country']\n",
            "\n",
            "\n",
            "alternative\n"
          ],
          "name": "stdout"
        },
        {
          "output_type": "display_data",
          "data": {
            "application/vnd.google.colaboratory.intrinsic+json": {
              "type": "string"
            },
            "text/plain": [
              "\"Like one of those fireflies Oh, it looks  a new eyes And I loved you would be the same All this love in your little It's been like my face So but so good My now The night You know about me on feeling But if he did we can see what they never tell her down Cause (I'll feel right here'm whole first time Now one who could stay along), go back to find We want and say why) In better it When she all the way too I don't help home Everything that yeah, girl Please have you\""
            ]
          },
          "metadata": {
            "tags": []
          }
        },
        {
          "output_type": "stream",
          "text": [
            "alternative took 9 iterations to get length 101: classification ['alternative']\n",
            "\n",
            "\n",
            "country\n"
          ],
          "name": "stdout"
        },
        {
          "output_type": "display_data",
          "data": {
            "application/vnd.google.colaboratory.intrinsic+json": {
              "type": "string"
            },
            "text/plain": [
              "'Like one of those fireflies Oh, it looks  and so like me up all And now I got bad girl at my love just really something still in yeah Cause you say that\\'s the phone good who they have to see? You\\'re a long (Oh) It was red dreams oh-oh In there He could\\'ve been not \"Okayah Now he tell his car beautiful When baby home \\'cause everything first back of this way our feet Like go about from my heart is an door And I can\\'t made at night We\\'ll help like we are lights need to calm down with you did the middle She\\'s just want, some time and still miss'"
            ]
          },
          "metadata": {
            "tags": []
          }
        },
        {
          "output_type": "stream",
          "text": [
            "country took 9 iterations to get length 114: classification ['alternative']\n",
            "\n",
            "\n",
            "pop\n"
          ],
          "name": "stdout"
        },
        {
          "output_type": "display_data",
          "data": {
            "application/vnd.google.colaboratory.intrinsic+json": {
              "type": "string"
            },
            "text/plain": [
              "\"Like one of those fireflies Oh, it looks  and enough to have the long And I'm not yeah Cause you ever like a heart was no light? You're It's all our party They'll find something That he were So now Tell me as we know We can left gone in every time they never let feel she said love The way But if little is with your face around my hand stay make coming day that night for who tell him so sick of style go back to fall down, you come on the sky I don't need it feels a\""
            ]
          },
          "metadata": {
            "tags": []
          }
        },
        {
          "output_type": "stream",
          "text": [
            "pop took 9 iterations to get length 102: classification ['alternative']\n",
            "\n",
            "\n",
            "alternative\n"
          ],
          "name": "stdout"
        },
        {
          "output_type": "display_data",
          "data": {
            "application/vnd.google.colaboratory.intrinsic+json": {
              "type": "string"
            },
            "text/plain": [
              "'I\\'m a laid back T-shirt, blue jean, mood  like I still dancing And they keep you are not my face But that\\'s never walk in your eyes That this way You know? This the whole silence (Yeah) We\\'re all about me if we were waiting for our door Baby girl\" In an night He from dark her but he won\\'t have to get a bad one All thing baby Cause whoa oh-ah feeling back forever don make it that\\'s gonna be here and you so long right through on my mind, let\\'ll just miss once why I wanted the mad So daylight Now this is nothing like My at no heart? now only know'"
            ]
          },
          "metadata": {
            "tags": []
          }
        },
        {
          "output_type": "stream",
          "text": [
            "alternative took 9 iterations to get length 115: classification ['pop']\n",
            "\n",
            "\n",
            "country\n"
          ],
          "name": "stdout"
        },
        {
          "output_type": "display_data",
          "data": {
            "application/vnd.google.colaboratory.intrinsic+json": {
              "type": "string"
            },
            "text/plain": [
              "\"I'm a laid back T-shirt, blue jean, mood  away with then they all his mind But I was on the little one hold to do what it's so you would be something thing that place out And people love is how say about fall Cause babyin' for everything He don't look like 'cause he had in this time All she knows If my bed You're our green eyes know bad at night (Oh) No stay off your face Will watch the middle of them I want late, come back only break me were right But they didn Wond-out so much And if you think but we can do There's a long who say alone beautiful game\""
            ]
          },
          "metadata": {
            "tags": []
          }
        },
        {
          "output_type": "stream",
          "text": [
            "country took 9 iterations to get length 117: classification ['pop']\n",
            "\n",
            "\n",
            "pop\n"
          ],
          "name": "stdout"
        },
        {
          "output_type": "display_data",
          "data": {
            "application/vnd.google.colaboratory.intrinsic+json": {
              "type": "string"
            },
            "text/plain": [
              "'I\\'m a laid back T-shirt, blue jean, mood  like out and so I gave your name (No You are the way home Don\\'t for that love\\'s all this night The only one who\\'d can go She\\'re sorry And now But we feel it feels not\" For if she was no his girl in my dreams) When they know what thing on our body keep It heard me do Look at everybody\\'ll find you made of just don Will nothing when I\\'m never coming (O!a Oh-ah They say We knew and talk to have a little him goes the phone And can\\'t tell one who let are some waiting baby? with all this'"
            ]
          },
          "metadata": {
            "tags": []
          }
        },
        {
          "output_type": "stream",
          "text": [
            "pop took 9 iterations to get length 113: classification ['pop']\n",
            "\n",
            "\n",
            "alternative\n"
          ],
          "name": "stdout"
        },
        {
          "output_type": "display_data",
          "data": {
            "application/vnd.google.colaboratory.intrinsic+json": {
              "type": "string"
            },
            "text/plain": [
              "'Walked into a chair leg As I was  wrong, \" get your name And you knew that\\'s like my hand back to his heart in the way When how they will be best The her rain It knows anything as we can see it would\\'ve been so much? Cause baby could take this whole little times You know something bad time home My reason for a long now We\\'re alone But if them down when he had ever\" They say there is smile with me, \"I don\\'t got lost and always better my hand good back of us If'"
            ]
          },
          "metadata": {
            "tags": []
          }
        },
        {
          "output_type": "stream",
          "text": [
            "alternative took 9 iterations to get length 100: classification ['alternative']\n",
            "\n",
            "\n",
            "country\n"
          ],
          "name": "stdout"
        },
        {
          "output_type": "display_data",
          "data": {
            "application/vnd.google.colaboratory.intrinsic+json": {
              "type": "string"
            },
            "text/plain": [
              "'Walked into a chair leg As I was  from my life has never been where some night And then ooh, oh That\\'s better about the big favorite song The dream you don\\'t go new me and overin\\' in your heart When we should be waiting Like that look like no one whoa Only people\\'ll haunt or\\'ve got bad girl But this love too but they keep a match string (You\\'re all step \\'round) He ain� our oh, \"Why And now I miss how little trying to know Baby home You need Cause you try see it\\'s my door are so muchs with every time We can\\'t feel the reason'"
            ]
          },
          "metadata": {
            "tags": []
          }
        },
        {
          "output_type": "stream",
          "text": [
            "country took 9 iterations to get length 110: classification ['alternative']\n",
            "\n",
            "\n",
            "pop\n"
          ],
          "name": "stdout"
        },
        {
          "output_type": "display_data",
          "data": {
            "application/vnd.google.colaboratory.intrinsic+json": {
              "type": "string"
            },
            "text/plain": [
              "'Walked into a chair leg As I was \" And here The night when he\\'s so sick of those That nobody say, baby It\\'ll be the place works by sparks fly what she heard about me for just gonna love is But there where you long girl If it goes In an like? Ooh-ah You\\'re gone Oh they couldn\\'t have a little as lifeard Cause if we donWhat He still on my hand Won� him too late And let\\'s yours to know keep was look why can go back of this song in all I take myself miss the good now So game Don everything just wanna be your heart beautiful eyes home What drive'"
            ]
          },
          "metadata": {
            "tags": []
          }
        },
        {
          "output_type": "stream",
          "text": [
            "pop took 9 iterations to get length 115: classification ['alternative']\n",
            "\n",
            "\n",
            "alternative\n"
          ],
          "name": "stdout"
        },
        {
          "output_type": "display_data",
          "data": {
            "application/vnd.google.colaboratory.intrinsic+json": {
              "type": "string"
            },
            "text/plain": [
              "\"Stumble up the porch step You sat down  we'd love and when it was a beautiful song is run to be here, I can't made your name on his heart And my body (Oh) But there's not met all again So baby they say thing that our last back They would have She don’ what people wanna go It feels the best one whoa oh-oh even'll come think you are so sick with me boy now home That if If darling, this love and over it was a careless girl In only Cause no time we're us looks on your head But I want things (I'm not callhe) The first\""
            ]
          },
          "metadata": {
            "tags": []
          }
        },
        {
          "output_type": "stream",
          "text": [
            "alternative took 9 iterations to get length 111: classification ['country']\n",
            "\n",
            "\n",
            "country\n"
          ],
          "name": "stdout"
        },
        {
          "output_type": "display_data",
          "data": {
            "application/vnd.google.colaboratory.intrinsic+json": {
              "type": "string"
            },
            "text/plain": [
              "'Stumble up the porch step You sat down  I think that when he\\'s gone where you feel my just all like me But if it could do Don\\'t know who\\'d get there No one of us\\' right fine, then else was change He is still be mine Now She were here now Cause they said forever and we\\'re gonna tell light him can go back thing for the phone again We say no big are baby What off make this ainfore I did good The truth It\\'s just think he didn� an bad-I\\'m only try had a little up When you take it, \"Oh yeah Oh them And when she\\'ll get your best'"
            ]
          },
          "metadata": {
            "tags": []
          }
        },
        {
          "output_type": "stream",
          "text": [
            "country took 9 iterations to get length 114: classification ['country']\n",
            "\n",
            "\n",
            "pop\n"
          ],
          "name": "stdout"
        },
        {
          "output_type": "display_data",
          "data": {
            "application/vnd.google.colaboratory.intrinsic+json": {
              "type": "string"
            },
            "text/plain": [
              "'Stumble up the porch step You sat down  I\\'m so over my other for you don\\'t need to go out And now Cause there\\'s too young that would be here But if he gave no one all thoseoh, they can feel like me? He got love So but let say better She will come on your lips she was still have tell off right The way It feels the bad girl by a man- see baby just in friends Oe thing I\\'m And everybodya oh (Oh) You should know it is you don\\'t breathe who look at everything of them ever made\" But \\'cause we\\'re some many down there\\'s yeah,'"
            ]
          },
          "metadata": {
            "tags": []
          }
        },
        {
          "output_type": "stream",
          "text": [
            "pop took 9 iterations to get length 111: classification ['country']\n",
            "\n",
            "\n",
            "alternative\n"
          ],
          "name": "stdout"
        },
        {
          "output_type": "display_data",
          "data": {
            "application/vnd.google.colaboratory.intrinsic+json": {
              "type": "string"
            },
            "text/plain": [
              "\"Walking downtown shuffling my feet I try  to know there in the dark is a bad one of your face He's no body, then oh-oh Yeah No Oh My lips You'll never heard about me But you for what if he was it feel so much The way too late When we'd ever are say show us world If her red remember his night (You're not all back on my life girl like nothing as have would be here in the lights out of when I could take Cause baby) We can make this over Can'ta come home And then Oh-oh, why every time for burning that will feeling they know What goes\""
            ]
          },
          "metadata": {
            "tags": []
          }
        },
        {
          "output_type": "stream",
          "text": [
            "alternative took 9 iterations to get length 114: classification ['alternative']\n",
            "\n",
            "\n",
            "country\n"
          ],
          "name": "stdout"
        },
        {
          "output_type": "display_data",
          "data": {
            "application/vnd.google.colaboratory.intrinsic+json": {
              "type": "string"
            },
            "text/plain": [
              "'Walking downtown shuffling my feet I try  to run things up blue But us will just remember it go down When the way that you were out now own\\'s all away for see me with your eyes And if she could\\'ve been There is a bad time of waiting on his dress It was not making her mind? In every memories, there be begging\\'ll never The only one who say would tell their face undone when they\\'re sorry Nooh-I\\'m our But I don\\'t call home So made up like You should know no girl mad beautiful again with everything that you find me down the girls at night Oh \\'em goes\" Baby he\\'s'"
            ]
          },
          "metadata": {
            "tags": []
          }
        },
        {
          "output_type": "stream",
          "text": [
            "country took 9 iterations to get length 114: classification ['alternative']\n",
            "\n",
            "\n",
            "pop\n"
          ],
          "name": "stdout"
        },
        {
          "output_type": "display_data",
          "data": {
            "application/vnd.google.colaboratory.intrinsic+json": {
              "type": "string"
            },
            "text/plain": [
              "'Walking downtown shuffling my feet I try  to the best could\\'m sorry There\\'s down When your breath\" And an\\'t know that was his girls on all quite door with one Who got aoh, oh-o head are you were not too late for gone Don like me drive You\\'re house of our love My around But if he knew So can say home then this in my life always heard ever been waiting No right there) who\\'ll find I wanna be only see Oh And when we should try tell up what\\'s again isro everybody did so sick and put? know baby let their smile That will never said It was the one ('"
            ]
          },
          "metadata": {
            "tags": []
          }
        },
        {
          "output_type": "stream",
          "text": [
            "pop took 9 iterations to get length 114: classification ['alternative']\n",
            "\n",
            "\n",
            "alternative\n"
          ],
          "name": "stdout"
        },
        {
          "output_type": "display_data",
          "data": {
            "application/vnd.google.colaboratory.intrinsic+json": {
              "type": "string"
            },
            "text/plain": [
              "'Beneath the chandelier of stars and , feel She\\'s a way that your name The new\" And there was dancing-ah (Yeah) I\\'m just say game as we were happy Yeah Cause good again We\\'ll be my lips Like it get When his car You\\'re here from us best together her But but life friends what could see the middle My morning Oh when you don\\'t wanna know why darling In something bad girla oh Who are never grow up, baby so too now that \"I almost kiss tell this love right through our we can him in a run Did I\\'m not down (Oh-oh) So she\\'s just'"
            ]
          },
          "metadata": {
            "tags": []
          }
        },
        {
          "output_type": "stream",
          "text": [
            "alternative took 9 iterations to get length 107: classification ['alternative']\n",
            "\n",
            "\n",
            "country\n"
          ],
          "name": "stdout"
        },
        {
          "output_type": "display_data",
          "data": {
            "application/vnd.google.colaboratory.intrinsic+json": {
              "type": "string"
            },
            "text/plain": [
              "'Beneath the chandelier of stars and  And your man Baby, ooh-oah I believe his dark to take my life won\\'t love all where it was some No one They better Now he could know who\\'s so you just like a cruel summer Only mean that there him To make me That into another look at once ain but no girl in the way He said O everything now she still get sorry (Oh) But everybody knows beautiful-ah? I\\'m only thing\" of this best other\\'re coming eyes ooh, oh again who find their as they never wanna see an friend Oh), let home So don\\'t called what baby'"
            ]
          },
          "metadata": {
            "tags": []
          }
        },
        {
          "output_type": "stream",
          "text": [
            "country took 9 iterations to get length 108: classification ['alternative']\n",
            "\n",
            "\n",
            "pop\n"
          ],
          "name": "stdout"
        },
        {
          "output_type": "display_data",
          "data": {
            "application/vnd.google.colaboratory.intrinsic+json": {
              "type": "string"
            },
            "text/plain": [
              "\"Beneath the chandelier of stars and  then I could should've been a so good for your own You remember my life that look here And now it's gonna let me what right Cause all over, but they'll be waiting by nothing like still big My one who was not down But you would read at his best thing That baby only see way It rains In the middle oh-out there is enough with her people know nobody said no again When I can't call your heart knows He says he could take a cruel Hey beautiful eyes so long\""
            ]
          },
          "metadata": {
            "tags": []
          }
        },
        {
          "output_type": "stream",
          "text": [
            "pop took 9 iterations to get length 100: classification ['alternative']\n",
            "\n",
            "\n",
            "alternative\n"
          ],
          "name": "stdout"
        },
        {
          "output_type": "display_data",
          "data": {
            "application/vnd.google.colaboratory.intrinsic+json": {
              "type": "string"
            },
            "text/plain": [
              "'Do you remember the day I leaned up  in too bad on your mind So so go You take it back to watch what they should\\'ve been not a whileing, but as all their best of them over me boy for ya and no own It\\'s gonna be night To say \\'cause he hate him If look like this time But then there my life people wanna do Look That \" better They don\\'t know you never did here) Who can tell your first to nothing why home I have And that was an world try had love Baby! yeah'"
            ]
          },
          "metadata": {
            "tags": []
          }
        },
        {
          "output_type": "stream",
          "text": [
            "alternative took 9 iterations to get length 101: classification ['alternative']\n",
            "\n",
            "\n",
            "country\n"
          ],
          "name": "stdout"
        },
        {
          "output_type": "display_data",
          "data": {
            "application/vnd.google.colaboratory.intrinsic+json": {
              "type": "string"
            },
            "text/plain": [
              "\"Do you remember the day I leaned up  But then they out and down And every time for she's not what it was gonna be fall If if we were a match) Don't look like this way as one All everything is still on my world, but he could leave me Oh In sparks fly whenever of an feeling so just say Now He don� only thing that stupid got all the best reason see how you had our really bad girl It's not too Even The beautiful-oh no made running it rains I can know what well There in\""
            ]
          },
          "metadata": {
            "tags": []
          }
        },
        {
          "output_type": "stream",
          "text": [
            "country took 9 iterations to get length 101: classification ['alternative']\n",
            "\n",
            "\n",
            "pop\n"
          ],
          "name": "stdout"
        },
        {
          "output_type": "display_data",
          "data": {
            "application/vnd.google.colaboratory.intrinsic+json": {
              "type": "string"
            },
            "text/plain": [
              "\"Do you remember the day I leaned up  there And when we'll be for my door But it was a new car, then he'd just out and watch home Cause if It's what they said all (Oh) No The way He could feel so bad sick of fast night There didn't think that perfectly got little are beautiful eyes forget everything now So look oh That to do you're on our best know How people playh together with girl, babys Are was I say She is my own mind But we always want What We can Wondering if he's the water'll never see wishing life gave And she ain concerned (Oh-oh\""
            ]
          },
          "metadata": {
            "tags": []
          }
        },
        {
          "output_type": "stream",
          "text": [
            "pop took 9 iterations to get length 112: classification ['alternative']\n",
            "\n",
            "\n",
            "alternative\n"
          ],
          "name": "stdout"
        },
        {
          "output_type": "display_data",
          "data": {
            "application/vnd.google.colaboratory.intrinsic+json": {
              "type": "string"
            },
            "text/plain": [
              "'Are you trying to make me fall? Cause  it was look like your hand I\\'m not a long dark And that\\'s all of my heart He said the pain down When they know now what he knows That makes goes Baby, \"Oh how we\\'ll be here in this rain If she get starlight with our cara oh-oh Oh is you\" You got me We won\\'t have to read their still last one girl for nothing But so long can make it And when I\\'m just a are Or even that\\'s not letes only\\' out of them, baby) So My they could go down if the song (You was things life'"
            ]
          },
          "metadata": {
            "tags": []
          }
        },
        {
          "output_type": "stream",
          "text": [
            "alternative took 9 iterations to get length 111: classification ['alternative']\n",
            "\n",
            "\n",
            "country\n"
          ],
          "name": "stdout"
        },
        {
          "output_type": "display_data",
          "data": {
            "application/vnd.google.colaboratory.intrinsic+json": {
              "type": "string"
            },
            "text/plain": [
              "\"Are you trying to make me fall? Cause  that it back, but I'm asking them out of the feeling like this front is how break and take your face) If an head't madein' And we'd be begging for old middle Like what they have a day Just got problems But can say You always wanted Everybody in love tell though life's never thought When you were really did with my hand He didnbout 'cause he knows That In the way I walk to know She had that our dancing at home All this time Cause baby? And we could be mad when would made us back man't dance me so don things It'd run\""
            ]
          },
          "metadata": {
            "tags": []
          }
        },
        {
          "output_type": "stream",
          "text": [
            "country took 9 iterations to get length 115: classification ['alternative']\n",
            "\n",
            "\n",
            "pop\n"
          ],
          "name": "stdout"
        },
        {
          "output_type": "display_data",
          "data": {
            "application/vnd.google.colaboratory.intrinsic+json": {
              "type": "string"
            },
            "text/plain": [
              "'Are you trying to make me fall? Cause  he could be a long time I\\'m so my heart, (silence) And now it\\'s doing love You should keep lights and that was the way when there in this is wrong It goes When night In waiting for all summer No That would\\'ve been right here with his made of nobody gets how you\\'ll never know if some looks them \"I want Don\\'t see nice dress feeling since what they didn on a red back to miss everything, another phone We can even say don just so come gone home I think about heart Oh my name So much why we werea blood by now? With him'"
            ]
          },
          "metadata": {
            "tags": []
          }
        },
        {
          "output_type": "stream",
          "text": [
            "pop took 9 iterations to get length 116: classification ['alternative']\n",
            "\n",
            "\n",
            "alternative\n"
          ],
          "name": "stdout"
        },
        {
          "output_type": "display_data",
          "data": {
            "application/vnd.google.colaboratory.intrinsic+json": {
              "type": "string"
            },
            "text/plain": [
              "\"If you had only gotten to me first If I  if we think this down And there was a stormround my life would be wrong, min' got some man (Oh-oh yeah) The way all the garden? So oh! on our feet You're not time Oh It's just so good one too now Who could've been waiting like that you are sick of me to have years Cause it used They don't know how wanna take once we were long Take your room my head I'd be us go backro car when they never come around When baby, no what people'm feeling But if look the way) What should only thing first\""
            ]
          },
          "metadata": {
            "tags": []
          }
        },
        {
          "output_type": "stream",
          "text": [
            "alternative took 9 iterations to get length 112: classification ['alternative']\n",
            "\n",
            "\n",
            "country\n"
          ],
          "name": "stdout"
        },
        {
          "output_type": "display_data",
          "data": {
            "application/vnd.google.colaboratory.intrinsic+json": {
              "type": "string"
            },
            "text/plain": [
              "'If you had only gotten to me first If I  than so now then fall back To can just said \"I love all here by the kind of if there\\'s no one in my heart is gonna be She was a lot and tell him wine My? Everything And break would\\'ve never let get everything on New York You say that didn\\'t know how drive again alone, they\\'ll have been waiting He keeps being\\' it goes me like this way It feels little back to\\'re all your name Like I had so mad down When we just come together Come long'"
            ]
          },
          "metadata": {
            "tags": []
          }
        },
        {
          "output_type": "stream",
          "text": [
            "country took 9 iterations to get length 102: classification ['alternative']\n",
            "\n",
            "\n",
            "pop\n"
          ],
          "name": "stdout"
        },
        {
          "output_type": "display_data",
          "data": {
            "application/vnd.google.colaboratory.intrinsic+json": {
              "type": "string"
            },
            "text/plain": [
              "'If you had only gotten to me first If I  still never say is a world And \" red knew this love your name on the middle of an little was why Will my hand It\\'s not gone home This\" She would find no, she didn\\'t when he could make it rains in trying that be out When if then My think one thing That ever had you\\'re there tell me So yeah? Why should run said Cause baby now again You can walk to have nobody I\\'d never let him is still love everything hold us been so sick and what more'"
            ]
          },
          "metadata": {
            "tags": []
          }
        },
        {
          "output_type": "stream",
          "text": [
            "pop took 9 iterations to get length 104: classification ['alternative']\n",
            "\n",
            "\n",
            "alternative\n"
          ],
          "name": "stdout"
        },
        {
          "output_type": "display_data",
          "data": {
            "application/vnd.google.colaboratory.intrinsic+json": {
              "type": "string"
            },
            "text/plain": [
              "'I got a little thing I call self control  And tell you never like me-love we won\\'t feel him It\\'s just\\'ve been so You\\'re gonna be with good, ooh No one of wrong) There was long time my whole way She could know that \"And is she\\'ll take this lips (Oh whoa oh ain find the middle night I\\'m a new thing\" Your head together We are no better when ah But theyoh-aah With me Oh why all we said That\\'s still let you right here but darling Cause baby) Baby, honey there used to be mine and life love an foreverem? He was so'"
            ]
          },
          "metadata": {
            "tags": []
          }
        },
        {
          "output_type": "stream",
          "text": [
            "alternative took 9 iterations to get length 106: classification ['pop']\n",
            "\n",
            "\n",
            "country\n"
          ],
          "name": "stdout"
        },
        {
          "output_type": "display_data",
          "data": {
            "application/vnd.google.colaboratory.intrinsic+json": {
              "type": "string"
            },
            "text/plain": [
              "\"I got a little thing I call self control  place was just wanna be for you and always beautiful And when they said so sad, (You're gonna play) But she's things Cause what It don't know that old love about the rain Don won They say one who didn concerned That girl at me crazy 'cause we should've think he knows I'm only bad thing To do This right all my heart home So no see little up Oh-oh), look through you live might be us back of change When they'll take nothing He can have She's an're just in did it works You keep out And that was been But will oh It\""
            ]
          },
          "metadata": {
            "tags": []
          }
        },
        {
          "output_type": "stream",
          "text": [
            "country took 9 iterations to get length 115: classification ['pop']\n",
            "\n",
            "\n",
            "pop\n"
          ],
          "name": "stdout"
        },
        {
          "output_type": "display_data",
          "data": {
            "application/vnd.google.colaboratory.intrinsic+json": {
              "type": "string"
            },
            "text/plain": [
              "'I got a little thing I call self control \\'t know alone That you do what say that it\\'s just been so So oh? Cause if they was gonna be here, let me out with his head In the best but all Oh (And love is our one who can still both she feels on are things And feeling But we\\'re Baby\\'m only should\\'ve got my bed I won have to run made a lot of their world home Don when- long in this again You\\'ll just think that you like) All\\'s no heart The whole oh as the night, don\\'t need sparks it break?\" It says about me now he was phone and make'"
            ]
          },
          "metadata": {
            "tags": []
          }
        },
        {
          "output_type": "stream",
          "text": [
            "pop took 9 iterations to get length 115: classification ['pop']\n",
            "\n",
            "\n",
            "alternative\n"
          ],
          "name": "stdout"
        },
        {
          "output_type": "display_data",
          "data": {
            "application/vnd.google.colaboratory.intrinsic+json": {
              "type": "string"
            },
            "text/plain": [
              "\"What do you say, when you just know That  better Ooh-oah The night I'm not what ever goes stay back and But that's there was a right here on the ground Oh she would've been gonna be like one thing for something knows with my head) If some said his time You made me little man to show lights but why say When we did, you get when him talk All this? Yeah! Come wanna have With long This is yours us back of So alone can think And I'd call it so baby now-oh Oh first Or your name on the last's all Don't know whoa up and Cause he found\""
            ]
          },
          "metadata": {
            "tags": []
          }
        },
        {
          "output_type": "stream",
          "text": [
            "alternative took 9 iterations to get length 113: classification ['alternative']\n",
            "\n",
            "\n",
            "country\n"
          ],
          "name": "stdout"
        },
        {
          "output_type": "display_data",
          "data": {
            "application/vnd.google.colaboratory.intrinsic+json": {
              "type": "string"
            },
            "text/plain": [
              "\"What do you say, when you just know That  there with coming This ain't some down I could never a mind And baby? You should make it that we said the kind of me no one night If him was love is this way home The only all about our beautiful-I'll be us My again There heard too for sorry (No life dress 'cause he's beenoh, still their) All With you're and away O!) Cause end place in an got come loud car I won't know anything like a long friend It didn just want You've never let him to make it was wanna tell me drive heart body But she big And that\""
            ]
          },
          "metadata": {
            "tags": []
          }
        },
        {
          "output_type": "stream",
          "text": [
            "country took 9 iterations to get length 115: classification ['alternative']\n",
            "\n",
            "\n",
            "pop\n"
          ],
          "name": "stdout"
        },
        {
          "output_type": "display_data",
          "data": {
            "application/vnd.google.colaboratory.intrinsic+json": {
              "type": "string"
            },
            "text/plain": [
              "'What do you say, when you just know That  everything they said I don\\'t wanna think he\" But if we\\'d still feel the sky-I was (Out now) Then that it\\'s not what is so good all We\\'re cominga He turns back to me again Cause baby? And right and she says around You are no one wishing way It didn off No, \"\\'ll tell when every time should hear sleep get there rains in life need else you know I said some big won\\'t look like a love something long yeah see our girl Baby but he\\'s the phone alone it used think about all mean Ooh-ah) So beautiful ('"
            ]
          },
          "metadata": {
            "tags": []
          }
        },
        {
          "output_type": "stream",
          "text": [
            "pop took 9 iterations to get length 111: classification ['alternative']\n",
            "\n",
            "\n",
            "alternative\n"
          ],
          "name": "stdout"
        },
        {
          "output_type": "display_data",
          "data": {
            "application/vnd.google.colaboratory.intrinsic+json": {
              "type": "string"
            },
            "text/plain": [
              "'She\\'s looking in the mirror The moment\\'s  I did there is a day But you like why And that, no one We\\'re not sorry by time Cause baby we should tell me Oh No when he\\'ve been just wanna break of this right It says it was so good drive You made oh-oh (A home),? Hey together my world) If they love people down Or That\" They don\\'t know what almost do about him over and the head I\\'m a girl So, that you could be your end But no one And then never say but we\\'re being too in all Cause if whoa won have some only need me run out'"
            ]
          },
          "metadata": {
            "tags": []
          }
        },
        {
          "output_type": "stream",
          "text": [
            "alternative took 9 iterations to get length 113: classification ['country']\n",
            "\n",
            "\n",
            "country\n"
          ],
          "name": "stdout"
        },
        {
          "output_type": "display_data",
          "data": {
            "application/vnd.google.colaboratory.intrinsic+json": {
              "type": "string"
            },
            "text/plain": [
              "\"She's looking in the mirror The moment's  of us (Yeah) I'm only one who can't even but all at his best for a big It didn’ time to sad And would be so now we should have coming it look like what you love? For always tell me So feel this You're here back was not sorry Baby, again There goes on the world That is my hand Don off go beautiful-ooh no many asa I don't know there's our friends But if he take them out with your face In got a girl in break into waiting for more that we said badin' baby) And can show Cause\""
            ]
          },
          "metadata": {
            "tags": []
          }
        },
        {
          "output_type": "stream",
          "text": [
            "country took 9 iterations to get length 110: classification ['country']\n",
            "\n",
            "\n",
            "pop\n"
          ],
          "name": "stdout"
        },
        {
          "output_type": "display_data",
          "data": {
            "application/vnd.google.colaboratory.intrinsic+json": {
              "type": "string"
            },
            "text/plain": [
              "'She\\'s looking in the mirror The moment\\'s  that I\\'m wrong Come on, come back to see it for all Don\\'t want \"oh-ah You know why she\\'ll be here That bless my world So can tell me\" But you\\'re gonna take this at some time Oh? They say only one whoa oh O string He don just again in love no baby but over will wait Why didn off the kind of them could stay there was so he\\'s with a dress Kiss if I feel to believe got bad thing that keeps what they have made me You can\\'t see right up your phone like If When honey, now Like we had it'"
            ]
          },
          "metadata": {
            "tags": []
          }
        },
        {
          "output_type": "stream",
          "text": [
            "pop took 9 iterations to get length 114: classification ['country']\n",
            "\n",
            "\n",
            "alternative\n"
          ],
          "name": "stdout"
        },
        {
          "output_type": "display_data",
          "data": {
            "application/vnd.google.colaboratory.intrinsic+json": {
              "type": "string"
            },
            "text/plain": [
              "'You walk in here with your guitar man  again If you said back up that\\'s the rain I don\\'t wanna show But they could never thought In a dream ooh, how it all think he would be dark), this way every phone It\\'d kiss me down (Yeah) Cause baby came we were little on those come first time We are star Oh-o together This ain let him had gone Don’\" Come right now So ever like You\\'re the front of another one you just know I don\\'t need to take yourself bad world, it when our as so darling Baby oh Never would be here could go back \\'cause he all'"
            ]
          },
          "metadata": {
            "tags": []
          }
        },
        {
          "output_type": "stream",
          "text": [
            "alternative took 9 iterations to get length 112: classification ['alternative']\n",
            "\n",
            "\n",
            "country\n"
          ],
          "name": "stdout"
        },
        {
          "output_type": "display_data",
          "data": {
            "application/vnd.google.colaboratory.intrinsic+json": {
              "type": "string"
            },
            "text/plain": [
              "\"You walk in here with your guitar man  that I'd never go back at the city (Stay!) Don't look what you was a little one Ooh) And when we'll be things to get better You're so can still me, but they break and it's not smile But he knows He felt for all no friend around Cause if this way home It is mean Oh-ah We've got bad girl in love had too everybody will made out of the best said mad (Oh Only day look at night In like friends now there Don't seen you're a lot been waiting And we'll never say that I thought Even darling see right\""
            ]
          },
          "metadata": {
            "tags": []
          }
        },
        {
          "output_type": "stream",
          "text": [
            "country took 9 iterations to get length 112: classification ['alternative']\n",
            "\n",
            "\n",
            "pop\n"
          ],
          "name": "stdout"
        },
        {
          "output_type": "display_data",
          "data": {
            "application/vnd.google.colaboratory.intrinsic+json": {
              "type": "string"
            },
            "text/plain": [
              "'You walk in here with your guitar man  that it was the world goes from But there\\'s a girl, away Oh-ah W don\\'t wanna see if you like I\\'m not his one at our time Cause all an day (No no) The way home Ooh do we were trouble when he got bad little\\'ll be mad It look oh in love again of me If she had \"This say Come dancing out and take this city And ha, come back dreams-out what\\'s made a rainy up the party\\'re gonna find everybody Don\\'t said forever Who keep my own hand on all where you wantcause I can tell his world But'"
            ]
          },
          "metadata": {
            "tags": []
          }
        },
        {
          "output_type": "stream",
          "text": [
            "pop took 9 iterations to get length 111: classification ['alternative']\n",
            "\n",
            "\n",
            "alternative\n"
          ],
          "name": "stdout"
        },
        {
          "output_type": "display_data",
          "data": {
            "application/vnd.google.colaboratory.intrinsic+json": {
              "type": "string"
            },
            "text/plain": [
              "'I can\\'t believe you did it again Walked  on the door through why we\\'ll be dancing Like our for a place There Don they are sitting there\\'s not new this gone, \"\\'re so much with every time When My memories You should\\'ve been down On your name\" And I had water far here was high old Oh-oh It let thing that girl to my mind But if you say me (No it would go back what Come one oh) Cause look at night when baby and come on them up her just loved the kind of an last time, no dress we\\'re best That\\'s not play offing Yeah This love is a lot Who'"
            ]
          },
          "metadata": {
            "tags": []
          }
        },
        {
          "output_type": "stream",
          "text": [
            "alternative took 9 iterations to get length 115: classification ['alternative']\n",
            "\n",
            "\n",
            "country\n"
          ],
          "name": "stdout"
        },
        {
          "output_type": "display_data",
          "data": {
            "application/vnd.google.colaboratory.intrinsic+json": {
              "type": "string"
            },
            "text/plain": [
              "\"I can't believe you did it again Walked  when the phone and there ain just so she's like I've been feeling in my mind But then is our baby, but they said no one Will all back up You know me It was red that bring Like we'll be us for around little play And he knows something to tell your name So need you're off of here into another him dreams on every favorite down The night might see right now She hate fall I wanna way so love in the te she's got a lot like coming In there when\""
            ]
          },
          "metadata": {
            "tags": []
          }
        },
        {
          "output_type": "stream",
          "text": [
            "country took 9 iterations to get length 103: classification ['alternative']\n",
            "\n",
            "\n",
            "pop\n"
          ],
          "name": "stdout"
        },
        {
          "output_type": "display_data",
          "data": {
            "application/vnd.google.colaboratory.intrinsic+json": {
              "type": "string"
            },
            "text/plain": [
              "\"I can't believe you did it again Walked  Tell me not so are like this time is But I'll tell then let him just for all when he felt if we'd never hear the be alright one who's sick and there rains in my guitar The best baby We're coming as they feel their dress to calm only thing back of us' beautiful little need They have know what can say that it said a red) bad body don't make our But I was go (Ah, oh-ah car Who'll haunt me nooh Oh This is why's gone Cause you never take his face In the players And he'd be this mess when we\""
            ]
          },
          "metadata": {
            "tags": []
          }
        },
        {
          "output_type": "stream",
          "text": [
            "pop took 9 iterations to get length 114: classification ['alternative']\n",
            "\n",
            "\n",
            "alternative\n"
          ],
          "name": "stdout"
        },
        {
          "output_type": "display_data",
          "data": {
            "application/vnd.google.colaboratory.intrinsic+json": {
              "type": "string"
            },
            "text/plain": [
              "\"Here I am, once again In your driveway,  my baby You'll can see us for the way that yeah What from a are no ha-ah you come back Yeah) And our place was yours is to let ah (I just want one who every time Cause they could take it's how we were happy as these game), But everything So hey name The whole silence To'm so? If friends would be their That he knows firstoh This love thing that oh, I don't even make me When all go down your face We're can see on the sun is not around 'cause you she'd never find a little times (Yeah will our\""
            ]
          },
          "metadata": {
            "tags": []
          }
        },
        {
          "output_type": "stream",
          "text": [
            "alternative took 9 iterations to get length 113: classification ['pop']\n",
            "\n",
            "\n",
            "country\n"
          ],
          "name": "stdout"
        },
        {
          "output_type": "display_data",
          "data": {
            "application/vnd.google.colaboratory.intrinsic+json": {
              "type": "string"
            },
            "text/plain": [
              "'Here I am, once again In your driveway,  that go That\\'s the so Come be wrong He tell me So \"I\\'m nice in coming summer It was a girl at my door And baby) W people would make it as There is\" The night Baby found Don\\'t want you don� an girls like Now If no thing sparks could do oh-ah In front\\'ve just need around I know how this way home We\\'ll get fall now drive, (This\\'m so furious right tell me that we can say to look with your name So never see them out of love \\'cause it\\'s made a long Oh whoa life are things they\\'re'"
            ]
          },
          "metadata": {
            "tags": []
          }
        },
        {
          "output_type": "stream",
          "text": [
            "country took 9 iterations to get length 111: classification ['pop']\n",
            "\n",
            "\n",
            "pop\n"
          ],
          "name": "stdout"
        },
        {
          "output_type": "display_data",
          "data": {
            "application/vnd.google.colaboratory.intrinsic+json": {
              "type": "string"
            },
            "text/plain": [
              "\"Here I am, once again In your driveway,  go the day but You always wanted they'll be a girl on gonna talk things to me and you She's over old And if no one who don't take it goes him down But can feel so many summer) Light That he'm Wondering-ah Can are run get better He're how at my life make this pain again baby see Cause ah So tell once away I think she was right now, they'll be bad girl with a match on nothing else is why had nice Ooh My beautiful And it only you do? Baby met all as her'd find me up the time of us far\""
            ]
          },
          "metadata": {
            "tags": []
          }
        },
        {
          "output_type": "stream",
          "text": [
            "pop took 9 iterations to get length 115: classification ['pop']\n",
            "\n",
            "\n",
            "alternative\n"
          ],
          "name": "stdout"
        },
        {
          "output_type": "display_data",
          "data": {
            "application/vnd.google.colaboratory.intrinsic+json": {
              "type": "string"
            },
            "text/plain": [
              "\"You don't have to call me And say you're  your body You left then it's no one of my hand The story In the pain Got a long time This is keep last night stay Cause I'm on, oh-oh (Let He'd now That what out around didn tell he did something 'cause people would wait never feel so much when baby) Now we don't know why got lost in that'll find how this back and always look like her at the rain Just calm down And let's an right here It be The bone Oh Don Even I are you ever, yeah could stay it if nothing But our very dancing good for mine We sing\""
            ]
          },
          "metadata": {
            "tags": []
          }
        },
        {
          "output_type": "stream",
          "text": [
            "alternative took 9 iterations to get length 117: classification ['country']\n",
            "\n",
            "\n",
            "country\n"
          ],
          "name": "stdout"
        },
        {
          "output_type": "display_data",
          "data": {
            "application/vnd.google.colaboratory.intrinsic+json": {
              "type": "string"
            },
            "text/plain": [
              "\"You don't have to call me And say you're  what I'm only love with some time, then he never let him You can go down (To the way home), things that night When we'll be) But she's gonna take my heart are thing come back of style The first Oh who stop for making it gets their little shame blue dress so much look like daylight Cause there was a cruel times anything life't even see said fake to find yeah, you're not around And what I don just no one hear all in love lights and say To\""
            ]
          },
          "metadata": {
            "tags": []
          }
        },
        {
          "output_type": "stream",
          "text": [
            "country took 9 iterations to get length 100: classification ['country']\n",
            "\n",
            "\n",
            "pop\n"
          ],
          "name": "stdout"
        },
        {
          "output_type": "display_data",
          "data": {
            "application/vnd.google.colaboratory.intrinsic+json": {
              "type": "string"
            },
            "text/plain": [
              "\"You don't have to call me And say you're  When I'll be the way home To gonna touch This is sorry (I can just love why, but we'd never let it for what What should leave myself with all your eyes We could've got a little back together? Cause baby He haven tossing and end game-eyed Are they go You know The only my head was so nice look that watch his friends In our down But he's over when I ever wanna tell me first time again And can't see you don pretty side face So loved the\""
            ]
          },
          "metadata": {
            "tags": []
          }
        },
        {
          "output_type": "stream",
          "text": [
            "pop took 9 iterations to get length 100: classification ['country']\n",
            "\n",
            "\n",
            "alternative\n"
          ],
          "name": "stdout"
        },
        {
          "output_type": "display_data",
          "data": {
            "application/vnd.google.colaboratory.intrinsic+json": {
              "type": "string"
            },
            "text/plain": [
              "'I bet you lie awake at night Trying to  we wereing And that\\'s the way ever just don\\'t know who are right with My baby, it home You\\'re not a new (Oh) Oh-ooh It was fine from us together I\\'m so what could go back of his one here We\\'ll be happiness Til your name on my head? When when they want As Come shake But you think he have some time Cause never won honey Back and over All we are find me like her day\" at once as long friends again This love that it off He\\'s the sky, wanna a London On this up feeling If our last to know'"
            ]
          },
          "metadata": {
            "tags": []
          }
        },
        {
          "output_type": "stream",
          "text": [
            "alternative took 9 iterations to get length 114: classification ['alternative']\n",
            "\n",
            "\n",
            "country\n"
          ],
          "name": "stdout"
        },
        {
          "output_type": "display_data",
          "data": {
            "application/vnd.google.colaboratory.intrinsic+json": {
              "type": "string"
            },
            "text/plain": [
              "'I bet you lie awake at night Trying to  that\\'s the movie back The kingdom And no one girl of an knows in your eyes on my door (Oh) Cause little\\'t have me, \"oh-oah Oh say as they\\'ll be begging for a big It was good man All and only first friend Don just want again Just another like this way home Oh I\\'d go about you\\'re still see right there is nothing oh string She\\'s the best He said no one world\" And we are too front of everybody knows that he loved me, \" day tell them have to my face much But Cause if love on our headoh ('"
            ]
          },
          "metadata": {
            "tags": []
          }
        },
        {
          "output_type": "stream",
          "text": [
            "country took 9 iterations to get length 113: classification ['alternative']\n",
            "\n",
            "\n",
            "pop\n"
          ],
          "name": "stdout"
        },
        {
          "output_type": "display_data",
          "data": {
            "application/vnd.google.colaboratory.intrinsic+json": {
              "type": "string"
            },
            "text/plain": [
              "'I bet you lie awake at night Trying to  me out, that The time is the ground Cause So I\\'m just so mad when we\\'d get a little hope it\\'s what they can\\'t see everything on my dreams he was again of this way It rains like him nothing let his head? And now baby You used had \"yes\" Did she said if you think love then There didn have This\\'re gone best one thing everybody knows alone don Nice, I\\'m not want me always know to be here No old there are beautiful boy up the sparks fly in my side Baby with a girl In your heart (Oh) We\\'ll known Just look \\''"
            ]
          },
          "metadata": {
            "tags": []
          }
        },
        {
          "output_type": "stream",
          "text": [
            "pop took 9 iterations to get length 116: classification ['alternative']\n",
            "\n",
            "\n",
            "alternative\n"
          ],
          "name": "stdout"
        },
        {
          "output_type": "display_data",
          "data": {
            "application/vnd.google.colaboratory.intrinsic+json": {
              "type": "string"
            },
            "text/plain": [
              "'I heard a song tonight on the radio  And I did every They say, but you\\'ll never tell me away they need to know how we\\'re still this is our heart It\\'s not dancing one of usin\\' home You belong with him He said \"Oh-ooh like She let her are so much and make it Oh life good thing that baby We could be out my car This time The lights was gone as go But then he find the kind, come back here would keep about me? In dark forever Yeah off alone And I just in your favorite of wrong It\\'s do you wanna know what a long All she won\\'t want'"
            ]
          },
          "metadata": {
            "tags": []
          }
        },
        {
          "output_type": "stream",
          "text": [
            "alternative took 9 iterations to get length 115: classification ['alternative']\n",
            "\n",
            "\n",
            "country\n"
          ],
          "name": "stdout"
        },
        {
          "output_type": "display_data",
          "data": {
            "application/vnd.google.colaboratory.intrinsic+json": {
              "type": "string"
            },
            "text/plain": [
              "\"I heard a song tonight on the radio  not sorry I let you why's our whoa The only one? You know what all there was too for me when we're so long (You got no) And he knows That could read your name with my time Cause they'll take, then So will be alright But if it won't come back to call It feel sick of us down room baby In a London look at again We can have the dress still meet you smile I don concerned They didn see right now boyI'm those who make me that we're not big world And let some only one are (Oh-ah? Ooh\""
            ]
          },
          "metadata": {
            "tags": []
          }
        },
        {
          "output_type": "stream",
          "text": [
            "country took 9 iterations to get length 112: classification ['alternative']\n",
            "\n",
            "\n",
            "pop\n"
          ],
          "name": "stdout"
        },
        {
          "output_type": "display_data",
          "data": {
            "application/vnd.google.colaboratory.intrinsic+json": {
              "type": "string"
            },
            "text/plain": [
              "'I heard a song tonight on the radio  Don\\'t tell me now I was really got your head You need to say so long in you want And he make this who\\'s finally they\\'ll be messed with their So still\" (Ah) But there out Well, ah time When we should know that keeps him all right around and only thing can feel okay if fall knows She\\'d call nobody had a smile when old sparks girl\\'ve been an don\\'t see me I\\'m the best one place enough of style through everything ready baby Baby-oh Odi to make it\\'s really think you said oh You mean It feels like this way In here Don'"
            ]
          },
          "metadata": {
            "tags": []
          }
        },
        {
          "output_type": "stream",
          "text": [
            "pop took 9 iterations to get length 114: classification ['alternative']\n",
            "\n",
            "\n"
          ],
          "name": "stdout"
        }
      ]
    },
    {
      "cell_type": "code",
      "metadata": {
        "colab": {
          "base_uri": "https://localhost:8080/",
          "height": 238
        },
        "id": "dDegeVDZVw85",
        "outputId": "ca54be95-bf9e-4f5d-fb26-0780db4a9854"
      },
      "source": [
        "display(confusion_matrix(true_labels, pred_labels))\n",
        "print(classification_report(true_labels, pred_labels))"
      ],
      "execution_count": 16,
      "outputs": [
        {
          "output_type": "display_data",
          "data": {
            "text/plain": [
              "array([[55, 20, 14],\n",
              "       [55, 20, 14],\n",
              "       [55, 20, 14]])"
            ]
          },
          "metadata": {
            "tags": []
          }
        },
        {
          "output_type": "stream",
          "text": [
            "              precision    recall  f1-score   support\n",
            "\n",
            " alternative       0.33      0.62      0.43        89\n",
            "     country       0.33      0.22      0.27        89\n",
            "         pop       0.33      0.16      0.21        89\n",
            "\n",
            "    accuracy                           0.33       267\n",
            "   macro avg       0.33      0.33      0.31       267\n",
            "weighted avg       0.33      0.33      0.31       267\n",
            "\n"
          ],
          "name": "stdout"
        }
      ]
    }
  ]
}